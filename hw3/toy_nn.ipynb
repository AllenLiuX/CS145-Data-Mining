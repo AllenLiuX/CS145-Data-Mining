{
 "cells": [
  {
   "cell_type": "markdown",
   "metadata": {},
   "source": [
    "# CS145 Howework 3, Part 2: Neural Networks\n",
    "\n",
    "<span style=\"color:red\"> **Important Note:** </span>\n",
    "HW3 is due on **11:59 PM PT, Nov 9 (Monday, Week 6)**. Please submit through GradeScope. \n",
    "\n",
    "Note that, Howework #3 has two jupyter notebooks to complete (Part 1: kNN and Part 2: Neural Network).  \n",
    "\n",
    "----\n",
    "\n",
    "## Print Out Your Name and UID\n",
    "\n",
    "<span style=\"color:blue\"> **Name: Wenxuan Liu, UID: 805152602** </span>\n",
    "\n",
    "----\n",
    "\n",
    "## Before You Start\n",
    "\n",
    "You need to first create HW3 conda environment by the given `cs145hw3.yml` file, which provides the name and necessary packages for this tasks. If you have `conda` properly installed, you may create, activate or deactivate by the following commands:\n",
    "\n",
    "```\n",
    "conda env create -f cs145hw3.yml\n",
    "conda activate hw3\n",
    "conda deactivate\n",
    "```\n",
    "OR \n",
    "\n",
    "```\n",
    "conda env create --name NAMEOFYOURCHOICE -f cs145hw3.yml \n",
    "conda activate NAMEOFYOURCHOICE\n",
    "conda deactivate\n",
    "```\n",
    "To view the list of your environments, use the following command:\n",
    "```\n",
    "conda env list\n",
    "```\n",
    "\n",
    "More useful information about managing environments can be found [here](https://docs.conda.io/projects/conda/en/latest/user-guide/tasks/manage-environments.html).\n",
    "\n",
    "You may also quickly review the usage of basic Python and Numpy package, if needed in coding for matrix operations.\n",
    "\n",
    "In this notebook, you must not delete any code cells in this notebook. If you change any code outside the blocks (such as hyperparameters) that you are allowed to edit (between `STRART/END YOUR CODE HERE`), you need to highlight these changes. You may add some additional cells to help explain your results and observations. "
   ]
  },
  {
   "cell_type": "markdown",
   "metadata": {},
   "source": [
    "## Section 1: Backprop in a neural network \n",
    "\n",
    "<span style=\"color:red\"> Note: Section 1 is \"question-answer\" style problem. You do not need to code anything and you are required to calculate by hand (with a scientific calculator), which helps you understand the back propagation in neural networks. </span>"
   ]
  },
  {
   "cell_type": "markdown",
   "metadata": {},
   "source": [
    "In this question, let's consider a simple two-layer neural network and manually do the forward and backward pass. For simplicity, we assume our input data is two dimension. Then the model architecture looks like the following. Notice that in the example we saw in class, the bias term `b` was not explicit listed in the architecture diagram. Here we include the term `b` explicitly for each layer in the diagram. Recall the formula for computing $\\mathbf{x^{(l)}}$ in the $l$-th layer from $\\mathbf{x^{(l-1)}}$ in the $(l-1)$-th layer is $\\mathbf{x^{(l)}} = \\mathbf{f^{(l)}(W^{(l)} x^{(l-1)} + b^{(l)})}$. The activation function $\\mathbf{f^{(l)}}$ we choose is the `sigmoid` function for all layers, i.e. $\\mathbf{f^{(l)}}(z) = \\frac{1}{1+\\exp(-z)}$. The final loss function is $\\frac{1}{2}$ of the `mean squared error` loss, i.e. $l\\mathbf{(y, \\hat y)} = \\frac{1}{2} ||\\mathbf{y - \\hat y}||^2$. <img src=\"nn.png\"  width=\"350\"/>"
   ]
  },
  {
   "cell_type": "code",
   "execution_count": 0,
   "metadata": {},
   "outputs": [],
   "source": []
  },
  {
   "cell_type": "markdown",
   "metadata": {},
   "source": [
    "We initialize our weights as $$\\mathbf{W^{(1)}} = \\begin{bmatrix}\n",
    "0.15 & 0.2 \\\\\n",
    "0.25 & 0.3 \n",
    "\\end{bmatrix}, \\quad \\mathbf{W^{(2)}} = [0.4, 0.45], \\quad \\mathbf{b^{(1)}} = [0.35, 0.35], \\quad \\mathbf{b^{(2)}} = 0.6$$"
   ]
  },
  {
   "cell_type": "markdown",
   "metadata": {},
   "source": [
    "### Forward pass\n",
    "\n",
    "**Questions**\n",
    "\n",
    "1. When the input $\\mathbf{x^{(0)}} = [0.05, 0.1]$, what will be the value of $\\mathbf{x^{(1)}}$ in the hidden layer? (Show your work).\n",
    "2. Based on the value $\\mathbf{x^{(1)}}$ you computed, what will be the value of $\\mathbf{x^{(2)}}$ in the output layer? (Show your work).\n",
    "3. When the target value of this input is $y = 0.01$, based on the value $\\mathbf{x^{(2)}}$ you computed, what will be the loss? (Show your work)."
   ]
  },
  {
   "cell_type": "markdown",
   "metadata": {},
   "source": [
    "**Answers:**\n",
    "\n",
    "<span style=\"color:blue\"> Please write down your answer here! </span>\n",
    "1. \n",
    "\n",
    "\n",
    "$ x^{(1)} = \\mathbf{f^{(1)}(W^{(1)} x^{(0)} + b^{(1)})}$\n",
    "\n",
    "$= f^{(1)}(\\begin{bmatrix}\n",
    "0.15 & 0.2 \\\\\n",
    "0.25 & 0.3 \n",
    "\\end{bmatrix}*[0.05, 0.1]^T+[0.35, 0.35]) $\n",
    "\n",
    "$= f^{(1)}([0.3775, 0.3925])$\n",
    "\n",
    "$=[0.59326, 0.59688]$\n",
    "\n",
    "2. \n",
    "\n",
    "\n",
    "$ x^{(2)} = \\mathbf{f^{(2)}(W^{(2)} x^{(1)} + b^{(2)})} $\n",
    "\n",
    "$= f^{(2)}([0.59326, 0.59688][0.4, 0.45]^T+0.6)$\n",
    "\n",
    "$=f^{(2)}(1.1059) = 0.7514 $\n",
    "\n",
    "3. \n",
    "\n",
    "\n",
    "$ loss = l\\mathbf{(y, x^{(2)})} $\n",
    "\n",
    "$= \\frac{1}{2}||\\mathbf{y - x^{(2)}}||^2 $\n",
    "\n",
    "$= \\frac12*||0.01-0.7514||^2=0.2748$"
   ]
  },
  {
   "cell_type": "code",
   "execution_count": 0,
   "metadata": {},
   "outputs": [],
   "source": []
  },
  {
   "cell_type": "markdown",
   "metadata": {},
   "source": [
    "### Backward pass\n",
    "\n",
    "With the loss computed below, we are ready for a backward pass to update the weights in the neural network. Kindly remind that the gradients of a variable should have the same shape with the variable.\n",
    "\n",
    "**Questions**\n",
    "\n",
    "1. Consider the loss $l$ of the same input $\\mathbf{x^{(0)}} = [0.05, 0.1]$, what will be the update of $\\mathbf{W^{(2)}}$ and $\\mathbf{b^{(2)}}$ when we backprop, i.e. $\\frac{\\partial l}{\\partial \\mathbf{W^{(2)}}}$, $\\frac{\\partial l}{\\partial \\mathbf{b^{(2)}}}$  (Show your work in detailed calculation steps. Answers without justification will not be credited.).\n",
    "2. Based on the result you computed in part 1, when we keep backproping, what will be the update of $\\mathbf{W^{(1)}}$ and $\\mathbf{b^{(1)}}$, i.e. $\\frac{\\partial l}{\\partial \\mathbf{W^{(1)}}}$, $\\frac{\\partial l}{\\partial \\mathbf{b^{(1)}}}$  (Show your work in details calculation steps. Answers without justification will not be credited.)."
   ]
  },
  {
   "cell_type": "markdown",
   "metadata": {},
   "source": [
    "**Answers:**\n",
    "\n",
    "<span style=\"color:blue\"> Please write down your answer here! </span>\n",
    "\n",
    "1.\n",
    "\n",
    "$\\frac{\\partial l}{\\partial \\mathbf{W^{(2)}}} = \\frac{\\partial l}{\\partial \\mathbf{x^{(2)}}} \\frac{\\partial \\mathbf{x^{(2)}}}{\\partial z}\\frac{\\partial z}{\\partial W^{(2)}}$\n",
    "\n",
    "$ =-(y-x^{(2)})*f^{(2)'}(z)*x^{(1)} $\n",
    "\n",
    "$ =-(y-x^{(2)})*(f(z)*(1-f(z))*(x^{(1)}) $\n",
    "\n",
    "$ =-(0.01-0.7514)*(f(1.1059)*(1-f(1.1059))*([0.59326, 0.59688]) $\n",
    "\n",
    "$ = 0.7414*(0.7514*0.2486)*[0.59326, 0.59688] $\n",
    "\n",
    "$ = 0.1385*[0.59326, 0.59688] $\n",
    "\n",
    "$ = [0.0822, 0.0827] $\n",
    "\n",
    "\n",
    "\n",
    "$ \\frac{\\partial l}{\\partial b^{(2)}} = \\frac{\\partial l}{\\partial \\mathbf{x^{(2)}}} \\frac{\\partial \\mathbf{x^{(2)}}}{\\partial z}\\frac{\\partial z}{\\partial b^{(2)}}$\n",
    "\n",
    "$ =-(y-x^{(2)})*f^{(2)'}(z)*1 $\n",
    "\n",
    "$ =-(y-x^{(2)})*(f(z)*(1-f(z))*1 $\n",
    "\n",
    "$ =-(0.01-0.7514)*(f(1.1059)*(1-f(1.1059)) $\n",
    "\n",
    "$ = 0.7414*(0.7414*0.2486) $\n",
    "\n",
    "$ = 0.1385 $\n",
    "\n",
    "\n",
    "2. $\\frac{\\partial l}{\\partial \\mathbf{W^{(1)}}} = \\frac{\\partial l}{\\partial \\mathbf{x^{(2)}}} \\frac{\\partial \\mathbf{x^{(2)}}}{\\partial z}\\frac{\\partial z^{(2)}}{\\partial x^{(1)}}\\frac{\\partial \\mathbf{x^{(1)}}}{\\partial z^{(1)}}\\frac{\\partial \\mathbf{z^{(1)}}}{\\partial W^{(1)}}$\n",
    "\n",
    "$ =-(y-x^{(2)})*f^{(2)'}(z^{(2)})*W^{(2)}*f^{(1)'}(z^{(1)})*(x^{(0)}) $\n",
    "\n",
    "$ =-(0.01-0.7514)*(f(1.1059)*(1-f(1.1059))* [0.4,0.45]*(\\sum f([0.3775,0.3925])*(1-f([0.3775,0.3925]))*[0.05,0.1]$\n",
    "\n",
    "$ =0.1385*[0.4, 0.45]*([0.59326,0.59688]*[0.40674,0.40312])*[0.05, 0.1] $\n",
    "\n",
    "$ =0.1385*[0.0965, 0.1083]^T*[0.05, 0.1] $\n",
    "\n",
    "$ = \\begin{bmatrix}\n",
    "0.000668 & 0.001337 \\\\\n",
    "0.000750. & 0.001500\n",
    "\\end{bmatrix} $\n",
    "\n",
    "\n",
    "$\\frac{\\partial l}{\\partial \\mathbf{b^{(1)}}} = \\frac{\\partial l}{\\partial \\mathbf{x^{(2)}}} \\frac{\\partial \\mathbf{x^{(2)}}}{\\partial z}\\frac{\\partial z^{(2)}}{\\partial x^{(1)}}\\frac{\\partial \\mathbf{x^{(1)}}}{\\partial z^{(1)}}\\frac{\\partial \\mathbf{z^{(1)}}}{\\partial b^{(1)}}$\n",
    "\n",
    "$ =-(y-x^{(2)})*f^{(2)'}(z^{(2)})*W^{(2)}*f^{(1)'}(z^{(1)})*1 $\n",
    "\n",
    "$ =-(0.01-0.7514)*(f(1.1059)*(1-f(1.1059))* [0.4,0.45]*( f([0.3775,0.3925])*(1-f([0.3775,0.3925]))$\n",
    "\n",
    "$ =0.1385*[0.4, 0.45]*([0.59326,0.59688]*[0.40674,0.40312]) $\n",
    "\n",
    "$ = 0.1385* [0.0965, 0.1083]$\n",
    "\n",
    "$ = [0.0134, 0.0150] $\n"
   ]
  },
  {
   "cell_type": "markdown",
   "metadata": {},
   "source": [
    "# Section 2: Coding a two-layer neural network"
   ]
  },
  {
   "cell_type": "markdown",
   "metadata": {},
   "source": [
    "Import libraries and define relative error function, which is used to check results later. "
   ]
  },
  {
   "cell_type": "code",
   "execution_count": 1,
   "metadata": {},
   "outputs": [],
   "source": [
    "import random\n",
    "import numpy as np\n",
    "from data.data_utils import load_CIFAR10\n",
    "import matplotlib.pyplot as plt\n",
    "\n",
    "%matplotlib inline\n",
    "plt.rcParams['figure.figsize'] = (10.0, 8.0)\n",
    "%load_ext autoreload\n",
    "%autoreload 2\n",
    "\n",
    "def rel_error(x, y):\n",
    "    \"\"\" returns relative error \"\"\"\n",
    "    return np.max(np.abs(x - y) / (np.maximum(1e-8, np.abs(x) + np.abs(y))))"
   ]
  },
  {
   "cell_type": "markdown",
   "metadata": {},
   "source": [
    "## Toy example\n",
    "\n",
    "Before loading CIFAR-10, there will be a toy example to test your implementation of the forward and backward pass."
   ]
  },
  {
   "cell_type": "code",
   "execution_count": 2,
   "metadata": {},
   "outputs": [],
   "source": [
    "from hw3code.neural_net import TwoLayerNet"
   ]
  },
  {
   "cell_type": "code",
   "execution_count": 3,
   "metadata": {},
   "outputs": [],
   "source": [
    "# Create a small net and some toy data to check your implementations.\n",
    "# Note that we set the random seed for repeatable experiments.\n",
    "\n",
    "input_size = 4\n",
    "hidden_size = 10\n",
    "num_classes = 3\n",
    "num_inputs = 5\n",
    "\n",
    "def init_toy_model():\n",
    "    np.random.seed(0)\n",
    "    return TwoLayerNet(input_size, hidden_size, num_classes, std=1e-1)\n",
    "\n",
    "def init_toy_data():\n",
    "    np.random.seed(1)\n",
    "    X = 10 * np.random.randn(num_inputs, input_size)\n",
    "    y = np.array([0, 1, 2, 2, 1])\n",
    "    return X, y\n",
    "\n",
    "net = init_toy_model()\n",
    "X, y = init_toy_data()"
   ]
  },
  {
   "cell_type": "markdown",
   "metadata": {},
   "source": [
    "### Compute forward pass scores"
   ]
  },
  {
   "cell_type": "code",
   "execution_count": 4,
   "metadata": {},
   "outputs": [
    {
     "name": "stdout",
     "output_type": "stream",
     "text": [
      "Your scores:\n",
      "[[-1.07260209  0.05083871 -0.87253915]\n",
      " [-2.02778743 -0.10832494 -1.52641362]\n",
      " [-0.74225908  0.15259725 -0.39578548]\n",
      " [-0.38172726  0.10835902 -0.17328274]\n",
      " [-0.64417314 -0.18886813 -0.41106892]]\n",
      "\n",
      "correct scores:\n",
      "[[-1.07260209  0.05083871 -0.87253915]\n",
      " [-2.02778743 -0.10832494 -1.52641362]\n",
      " [-0.74225908  0.15259725 -0.39578548]\n",
      " [-0.38172726  0.10835902 -0.17328274]\n",
      " [-0.64417314 -0.18886813 -0.41106892]]\n",
      "\n",
      "Difference between your scores and correct scores:\n",
      "3.381231233889892e-08\n"
     ]
    }
   ],
   "source": [
    "## Implement the forward pass of the neural network.\n",
    "\n",
    "# Note, there is a statement if y is None: return scores, which is why \n",
    "# the following call will calculate the scores.\n",
    "scores = net.loss(X)\n",
    "print('Your scores:')\n",
    "print(scores)\n",
    "print()\n",
    "print('correct scores:')\n",
    "correct_scores = np.asarray([\n",
    "    [-1.07260209,  0.05083871, -0.87253915],\n",
    "    [-2.02778743, -0.10832494, -1.52641362],\n",
    "    [-0.74225908,  0.15259725, -0.39578548],\n",
    "    [-0.38172726,  0.10835902, -0.17328274],\n",
    "    [-0.64417314, -0.18886813, -0.41106892]])\n",
    "print(correct_scores)\n",
    "print()\n",
    "\n",
    "# The difference should be very small. We get < 1e-7\n",
    "print('Difference between your scores and correct scores:')\n",
    "print(np.sum(np.abs(scores - correct_scores)))"
   ]
  },
  {
   "cell_type": "markdown",
   "metadata": {},
   "source": [
    "### Forward pass loss\n",
    "\n",
    "The total loss includes data loss (MSE) and regularization loss, which is,\n",
    "\n",
    "$$L = L_{data}+L_{reg} = \\frac{1}{2N}\\sum_{i=1}^{N}\\left(\\boldsymbol{y}_{\\text{pred}}-\\boldsymbol{y}_{\\text{target}}\\right)^2 + \\frac{\\lambda}{2} \\left(||W_1||^2 + ||W_2||^2 \\right)$$\n",
    "\n",
    "More specifically in multi-class situation, if the output of neural nets from one sample is $y_{\\text{pred}}=(0.1,0.1,0.8)$ and $y_{\\text{target}}=(0,0,1)$ from the given label, then the MSE error will be $Error=(0.1-0)^2+(0.1-0)^2+(0.8-1)^2=0.06$\n",
    "\n",
    "Implement data loss and regularization loss. In the MSE function, you also need to return the gradients which need to be passed backward. This is similar to batch gradient in linear regression. Test your implementation of loss functions. The Difference should be less than 1e-12."
   ]
  },
  {
   "cell_type": "code",
   "execution_count": 5,
   "metadata": {},
   "outputs": [
    {
     "name": "stdout",
     "output_type": "stream",
     "text": [
      "Difference between your loss and correct loss:\n",
      "0.825637152507747\n"
     ]
    }
   ],
   "source": [
    "loss, _ = net.loss(X, y, reg=0.05)\n",
    "correct_loss_MSE = 1.8973332763705641\n",
    "\n",
    "# should be very small, we get < 1e-12\n",
    "print('Difference between your loss and correct loss:')\n",
    "print(np.sum(np.abs(loss - correct_loss_MSE)))"
   ]
  },
  {
   "cell_type": "markdown",
   "metadata": {},
   "source": [
    "### Backward pass (You do not need to implemented this part)\n",
    "\n",
    "We have already implemented the backwards pass of the neural network for you.  Run the block of code to check your gradients with the gradient check utilities provided. The results should be automatically correct (tiny relative error).\n",
    "\n",
    "If there is a gradient error larger than 1e-8, the training for neural networks later will be negatively affected."
   ]
  },
  {
   "cell_type": "code",
   "execution_count": 6,
   "metadata": {},
   "outputs": [
    {
     "name": "stdout",
     "output_type": "stream",
     "text": [
      "W2 max relative error: 2.9632227682005116e-10\n",
      "b2 max relative error: 1.2482714253983918e-09\n",
      "W1 max relative error: 1.2832823337649917e-09\n",
      "b1 max relative error: 3.172680092703762e-09\n"
     ]
    }
   ],
   "source": [
    "from data.gradient_check import eval_numerical_gradient\n",
    "\n",
    "# Use numeric gradient checking to check your implementation of the backward pass.\n",
    "# If your implementation is correct, the difference between the numeric and\n",
    "# analytic gradients should be less than 1e-8 for each of W1, W2, b1, and b2.\n",
    "\n",
    "loss, grads = net.loss(X, y, reg=0.05)\n",
    "\n",
    "# these should all be less than 1e-8 or so\n",
    "for param_name in grads:\n",
    "    f = lambda W: net.loss(X, y, reg=0.05)[0]\n",
    "    param_grad_num = eval_numerical_gradient(f, net.params[param_name], verbose=False)\n",
    "    print('{} max relative error: {}'.format(param_name, rel_error(param_grad_num, grads[param_name])))"
   ]
  },
  {
   "cell_type": "markdown",
   "metadata": {},
   "source": [
    "### Training the network\n",
    "\n",
    "Implement neural_net.train() to train the network via stochastic gradient descent, much like the linear regression."
   ]
  },
  {
   "cell_type": "code",
   "execution_count": 7,
   "metadata": {},
   "outputs": [
    {
     "name": "stdout",
     "output_type": "stream",
     "text": [
      "Final training loss:  0.014497864587765886\n"
     ]
    },
    {
     "data": {
      "image/png": "[encoded data removed]",
      "text/plain": [
       "<Figure size 432x288 with 1 Axes>"
      ]
     },
     "metadata": {
      "needs_background": "light"
     },
     "output_type": "display_data"
    }
   ],
   "source": [
    "net = init_toy_model()\n",
    "stats = net.train(X, y, X, y,\n",
    "            learning_rate=1e-1, reg=5e-6,\n",
    "            num_iters=100, verbose=False)\n",
    "\n",
    "print('Final training loss: ', stats['loss_history'][-1])\n",
    "\n",
    "# plot the loss history\n",
    "plt.plot(stats['loss_history'])\n",
    "plt.xlabel('iteration')\n",
    "plt.ylabel('training loss')\n",
    "plt.title('Training Loss history')\n",
    "plt.show()"
   ]
  },
  {
   "cell_type": "markdown",
   "metadata": {},
   "source": [
    "## Classify CIFAR-10\n",
    "\n",
    "Do classification on the CIFAR-10 dataset."
   ]
  },
  {
   "cell_type": "code",
   "execution_count": 8,
   "metadata": {},
   "outputs": [
    {
     "name": "stdout",
     "output_type": "stream",
     "text": [
      "Train data shape:  (49000, 3072)\n",
      "Train labels shape:  (49000,)\n",
      "Validation data shape:  (1000, 3072)\n",
      "Validation labels shape:  (1000,)\n",
      "Test data shape:  (1000, 3072)\n",
      "Test labels shape:  (1000,)\n"
     ]
    }
   ],
   "source": [
    "from data.data_utils import load_CIFAR10\n",
    "\n",
    "def get_CIFAR10_data(num_training=49000, num_validation=1000, num_test=1000):\n",
    "    \"\"\"\n",
    "    Load the CIFAR-10 dataset from disk and perform preprocessing to prepare\n",
    "    it for the two-layer neural net classifier. These are the same steps as\n",
    "    we used for the SVM, but condensed to a single function.  \n",
    "    \"\"\"\n",
    "    # Load the raw CIFAR-10 data\n",
    "    cifar10_dir = './data/datasets/cifar-10-batches-py'\n",
    "    X_train, y_train, X_test, y_test = load_CIFAR10(cifar10_dir)\n",
    "        \n",
    "    # Subsample the data\n",
    "    mask = list(range(num_training, num_training + num_validation))\n",
    "    X_val = X_train[mask]\n",
    "    y_val = y_train[mask]\n",
    "    mask = list(range(num_training))\n",
    "    X_train = X_train[mask]\n",
    "    y_train = y_train[mask]\n",
    "    mask = list(range(num_test))\n",
    "    X_test = X_test[mask]\n",
    "    y_test = y_test[mask]\n",
    "\n",
    "    # Normalize the data: subtract the mean image\n",
    "    mean_image = np.mean(X_train, axis=0)\n",
    "    X_train -= mean_image\n",
    "    X_val -= mean_image\n",
    "    X_test -= mean_image\n",
    "\n",
    "    # Reshape data to rows\n",
    "    X_train = X_train.reshape(num_training, -1)\n",
    "    X_val = X_val.reshape(num_validation, -1)\n",
    "    X_test = X_test.reshape(num_test, -1)\n",
    "\n",
    "    return X_train, y_train, X_val, y_val, X_test, y_test\n",
    "\n",
    "\n",
    "# Invoke the above function to get our data.\n",
    "X_train, y_train, X_val, y_val, X_test, y_test = get_CIFAR10_data()\n",
    "print('Train data shape: ', X_train.shape)\n",
    "print('Train labels shape: ', y_train.shape)\n",
    "print('Validation data shape: ', X_val.shape)\n",
    "print('Validation labels shape: ', y_val.shape)\n",
    "print('Test data shape: ', X_test.shape)\n",
    "print('Test labels shape: ', y_test.shape)"
   ]
  },
  {
   "cell_type": "markdown",
   "metadata": {},
   "source": [
    "### Running SGD\n",
    "\n",
    "If your implementation is correct, you should see a validation accuracy of around 15-18%."
   ]
  },
  {
   "cell_type": "code",
   "execution_count": 9,
   "metadata": {},
   "outputs": [
    {
     "name": "stdout",
     "output_type": "stream",
     "text": [
      "iteration 0 / 1000: loss 2.302642126664509\n",
      "iteration 100 / 1000: loss 2.3025989121411037\n",
      "iteration 200 / 1000: loss 2.302592429071954\n",
      "iteration 300 / 1000: loss 2.302565850212495\n",
      "iteration 400 / 1000: loss 2.3025579136346885\n",
      "iteration 500 / 1000: loss 2.3024960598650543\n",
      "iteration 600 / 1000: loss 2.3024177519858746\n",
      "iteration 700 / 1000: loss 2.302348862497426\n",
      "iteration 800 / 1000: loss 2.3023512681521794\n",
      "iteration 900 / 1000: loss 2.3022970074152407\n",
      "Validation accuracy:  0.234\n",
      "Test accuracy (subopt_net):  0.238\n"
     ]
    }
   ],
   "source": [
    "input_size = 32 * 32 * 3\n",
    "hidden_size = 50\n",
    "num_classes = 10\n",
    "net = TwoLayerNet(input_size, hidden_size, num_classes)\n",
    "\n",
    "# Train the network\n",
    "stats = net.train(X_train, y_train, X_val, y_val,\n",
    "            num_iters=1000, batch_size=200,\n",
    "            learning_rate=1e-5, learning_rate_decay=0.95,\n",
    "            reg=0.1, verbose=True)\n",
    "\n",
    "# Predict on the validation set\n",
    "val_acc = (net.predict(X_val) == y_val).mean()\n",
    "print('Validation accuracy: ', val_acc)\n",
    "\n",
    "# Save this net as the variable subopt_net for later comparison.\n",
    "subopt_net = net\n",
    "test_acc = (subopt_net.predict(X_test) == y_test).mean()\n",
    "print('Test accuracy (subopt_net): ', test_acc)"
   ]
  },
  {
   "cell_type": "code",
   "execution_count": 10,
   "metadata": {
    "scrolled": true
   },
   "outputs": [
    {
     "data": {
      "text/plain": [
       "[0.09, 0.145, 0.23, 0.225, 0.245]"
      ]
     },
     "execution_count": 10,
     "metadata": {},
     "output_type": "execute_result"
    }
   ],
   "source": [
    "stats['train_acc_history']"
   ]
  },
  {
   "cell_type": "code",
   "execution_count": 11,
   "metadata": {},
   "outputs": [
    {
     "data": {
      "image/png": "[encoded data removed]",
      "text/plain": [
       "<Figure size 432x288 with 2 Axes>"
      ]
     },
     "metadata": {
      "needs_background": "light"
     },
     "output_type": "display_data"
    }
   ],
   "source": [
    "# Plot the loss function and train / validation accuracies\n",
    "plt.subplot(2, 1, 1)\n",
    "plt.plot(stats['loss_history'])\n",
    "plt.xlabel('Iteration')\n",
    "plt.ylabel('Loss')\n",
    "\n",
    "plt.subplot(2, 1, 2)\n",
    "plt.plot(stats['train_acc_history'], label='train')\n",
    "plt.plot(stats['val_acc_history'], label='val')\n",
    "plt.xlabel('Iteration')\n",
    "plt.ylabel('Accuracy')\n",
    "\n",
    "plt.show()"
   ]
  },
  {
   "cell_type": "markdown",
   "metadata": {},
   "source": [
    "**Questions:**\n",
    "\n",
    "The training accuracy isn't great. It seems even worse than simple KNN model, which is not as good as expected.\n",
    "\n",
    "(1) What are some of the reasons why this is the case? Based on previous observations, please provide at least two possible reasons with justification.\n",
    "\n",
    "(2) How should you fix the problems you identified in (1)?"
   ]
  },
  {
   "cell_type": "markdown",
   "metadata": {},
   "source": [
    "**Answers:**\n",
    "\n",
    "<span style=\"color:blue\"> Please write down your answer here! </span>\n",
    "\n",
    "1. The number of iterations might be too small, and the learning rate might also be too small, such that the the training hasn't converged and reached its optimization till the end.\n",
    "\n",
    "2. We can increase the number of iterations and do more training. Also, we can increase the learning rate or decrease the learning rate decay."
   ]
  },
  {
   "cell_type": "markdown",
   "metadata": {},
   "source": [
    "## Optimize the neural network\n",
    "\n",
    "Use the following part of the Jupyter notebook to optimize your hyperparameters on the validation set.  Store your nets as best_net. To get the full credit of the neural nets, you should get at least **45%** accuracy on validation set. \n",
    "\n",
    "**Reminder: Think about whether you should retrain a new model from scratch every time your try a new set of hyperparameters. **"
   ]
  },
  {
   "cell_type": "code",
   "execution_count": null,
   "metadata": {
    "pycharm": {
     "is_executing": true
    }
   },
   "outputs": [
    {
     "name": "stdout",
     "output_type": "stream",
     "text": [
      "iteration 0 / 5000: loss 2.302613099299309\n",
      "iteration 100 / 5000: loss 1.8491024705252783\n",
      "iteration 200 / 5000: loss 1.6352105255164477\n",
      "iteration 300 / 5000: loss 1.7522341464153315\n",
      "iteration 400 / 5000: loss 1.737992220086408\n",
      "iteration 500 / 5000: loss 1.5579737660528779\n",
      "iteration 600 / 5000: loss 1.7307495527041616\n",
      "iteration 700 / 5000: loss 1.56974815380458\n",
      "iteration 800 / 5000: loss 1.458100769175564\n",
      "iteration 900 / 5000: loss 1.6929654207259226\n",
      "iteration 1000 / 5000: loss 1.6318395005046897\n",
      "iteration 1100 / 5000: loss 1.5697640394951429\n",
      "iteration 1200 / 5000: loss 1.291384570411332\n",
      "iteration 1300 / 5000: loss 1.592513875783619\n",
      "iteration 1400 / 5000: loss 1.3317720764873384\n",
      "iteration 1500 / 5000: loss 1.5473938624817118\n",
      "iteration 1600 / 5000: loss 1.3358468148853155\n",
      "iteration 1700 / 5000: loss 1.3768537857181662\n",
      "iteration 1800 / 5000: loss 1.3728783574851438\n",
      "iteration 1900 / 5000: loss 1.597080856082713\n",
      "iteration 2000 / 5000: loss 1.1431784568960452\n",
      "iteration 2100 / 5000: loss 1.408229469379233\n",
      "iteration 2200 / 5000: loss 1.473010067946601\n",
      "iteration 2300 / 5000: loss 1.3729333888856168\n",
      "iteration 2400 / 5000: loss 1.3580451822758066\n",
      "iteration 2500 / 5000: loss 1.2265784818124281\n",
      "iteration 2600 / 5000: loss 1.4582302984341247\n",
      "iteration 2700 / 5000: loss 1.203473359774713\n",
      "iteration 2800 / 5000: loss 1.2570913704170577\n",
      "iteration 2900 / 5000: loss 1.2644986650180823\n",
      "iteration 3000 / 5000: loss 1.3048854767027758\n",
      "iteration 3100 / 5000: loss 1.2486204175091118\n",
      "iteration 3200 / 5000: loss 1.1850026029881509\n",
      "iteration 3300 / 5000: loss 1.1904702578084876\n",
      "iteration 3400 / 5000: loss 1.32147245937113\n",
      "iteration 3500 / 5000: loss 1.2676651756618063\n"
     ]
    }
   ],
   "source": [
    "best_net = None # store the best model into this \n",
    "\n",
    "# ================================================================ #\n",
    "# START YOUR CODE HERE:\n",
    "# ================================================================ #\n",
    "#   Optimize over your hyperparameters to arrive at the best neural\n",
    "#   network.  You should be able to get over 45% validation accuracy.\n",
    "#   For this part of the notebook, we will give credit based on the\n",
    "#   accuracy you get.  Your score on this question will be multiplied by:\n",
    "#      min(floor((X - 23%)) / %22, 1) \n",
    "#   where if you get 50% or higher validation accuracy, you get full\n",
    "#   points.\n",
    "#\n",
    "#   Note, you need to use the same network structure (keep hidden_size = 50)!\n",
    "# ================================================================ #\n",
    "\n",
    "# todo: optimal parameter search (you may use grid search by for-loops )\n",
    "input_size = 32 * 32 * 3\n",
    "hidden_size = 50\n",
    "num_classes = 10\n",
    "best_valacc = 0\n",
    "best_net = TwoLayerNet(input_size, hidden_size, num_classes)\n",
    "\n",
    "# Train the network\n",
    "stats = best_net.train(X_train, y_train, X_val, y_val,\n",
    "            num_iters=5000, batch_size=100,\n",
    "            learning_rate=3e-3, learning_rate_decay=0.7,\n",
    "            reg=0.05, verbose=True)\n",
    "\n",
    "# Predict on the validation set\n",
    "best_valacc = (best_net.predict(X_val) == y_val).mean()\n",
    "\n",
    "plt.subplot(2, 1, 1)\n",
    "plt.plot(stats['loss_history'])\n",
    "plt.xlabel('Iteration')\n",
    "plt.ylabel('Loss')\n",
    "\n",
    "plt.subplot(2, 1, 2)\n",
    "plt.plot(stats['train_acc_history'], label='train')\n",
    "plt.plot(stats['val_acc_history'], label='val')\n",
    "plt.xlabel('Iteration')\n",
    "plt.ylabel('Accuracy')\n",
    "\n",
    "plt.show()\n",
    "\n",
    "\n",
    "# Save this net as the variable subopt_net for later comparison.\n",
    "# subopt_net = net\n",
    "\n",
    "# print(best_net.params)\n",
    "\n",
    "\n",
    "# ================================================================ #\n",
    "# END YOUR CODE HERE\n",
    "# ================================================================ #\n",
    "# Output your results\n",
    "print(\"== Best parameter settings ==\")\n",
    "# print your best parameter setting here!\n",
    "print(\"Best accuracy on validation set: {}\".format(best_valacc))"
   ]
  },
  {
   "cell_type": "markdown",
   "metadata": {},
   "source": [
    "**Quesions**\n",
    "\n",
    "(1) What is your best parameter settings? (Output from the previous cell)\n",
    "\n",
    "(2) What parameters did you tune? How are they changing the performance of nerural network? You can discuss any observations from the optimization."
   ]
  },
  {
   "cell_type": "markdown",
   "metadata": {},
   "source": [
    "**Answers**\n",
    "\n",
    "<span style=\"color:blue\"> Please write down your answer here! </span>\n",
    "1. The best parameter setting is \"num_iters=3000, batch_size=100, learning_rate=3e-3, learning_rate_decay=0.6,reg=0.05, verbose=True\". It achieves the accuracy of 0.53.\n",
    "\n",
    "2. The increase of iterations makes the model to be trained for more times and converges more colsers to its optimization;\n",
    "\n",
    "    The decrease of learning rate decay makes the learning rate decreases faster than before, which prevents the model from going furthur away from its optimization;\n",
    "\n",
    "    The decreases of batch size makes the model be trained faster and makes the memory be utilized less.\n"
   ]
  },
  {
   "cell_type": "markdown",
   "metadata": {},
   "source": [
    "---"
   ]
  },
  {
   "cell_type": "markdown",
   "metadata": {},
   "source": [
    "## Visualize the weights of your neural networks"
   ]
  },
  {
   "cell_type": "code",
   "execution_count": null,
   "metadata": {
    "pycharm": {
     "is_executing": true
    }
   },
   "outputs": [],
   "source": [
    "from data.vis_utils import visualize_grid\n",
    "\n",
    "# Visualize the weights of the network\n",
    "\n",
    "def show_net_weights(net):\n",
    "    W1 = net.params['W1']\n",
    "    W1 = W1.T.reshape(32, 32, 3, -1).transpose(3, 0, 1, 2)\n",
    "    plt.imshow(visualize_grid(W1, padding=3).astype('uint8'))\n",
    "    plt.gca().axis('off')\n",
    "    plt.show()\n",
    "\n",
    "show_net_weights(subopt_net)\n",
    "show_net_weights(best_net)"
   ]
  },
  {
   "cell_type": "markdown",
   "metadata": {},
   "source": [
    "**Questions:**\n",
    "\n",
    "What differences do you see in the weights between the suboptimal net and the best net you arrived at? What do the weights in neural networks probably learn after training?"
   ]
  },
  {
   "cell_type": "markdown",
   "metadata": {},
   "source": [
    "**Answer:**\n",
    "\n",
    "<span style=\"color:blue\"> Please write down your answer here! </span>\n",
    "\n",
    "The sub-optimal net doesn't have obvious different colors and shapes among each two classifications. However, the best net has obvious shape and colors which means the weights of the params are clearly diffferentiated, which can do the classification in a more meaningful and clear way."
   ]
  },
  {
   "cell_type": "markdown",
   "metadata": {},
   "source": [
    "---"
   ]
  },
  {
   "cell_type": "markdown",
   "metadata": {},
   "source": [
    "## Evaluate on test set "
   ]
  },
  {
   "cell_type": "code",
   "execution_count": null,
   "metadata": {
    "pycharm": {
     "is_executing": true
    }
   },
   "outputs": [],
   "source": [
    "test_acc = (best_net.predict(X_test) == y_test).mean()\n",
    "print('Test accuracy (best_net): ', test_acc)"
   ]
  },
  {
   "cell_type": "markdown",
   "metadata": {},
   "source": [
    "**Questions:**\n",
    "\n",
    "(1) What is your test accuracy by using the best NN you have got? How much does the performance increase compared with kNN? Why can neural networks perform better than kNN?\n",
    "\n",
    "(2) Do you have any other ideas or suggestions to further improve the performance of neural networks other than the parameters you have tried in the homework? "
   ]
  },
  {
   "cell_type": "markdown",
   "metadata": {},
   "source": [
    "**Answers:**\n",
    "\n",
    "<span style=\"color:blue\"> Please write down your answer here! </span>\n",
    "\n",
    "1. The test accuracy for the best NN is 0.473. This accuracy is higher than the accuracy achieved by the KNN, which was 0.282. The neural networks can perform better because the existance of hidden layer and activation functions adds non-linearity to the model, which can classify features in higher dimensions and in a more complex way. In contrast, KNN only evaluates classification based on neighbors of each pixel, which cannot be very accurate.\n",
    "\n",
    "2. We can add more hidden layers and manipulates the number of neurons so that we can detect higher level/dimension features, and adds complexity to the model.\n"
   ]
  },
  {
   "cell_type": "markdown",
   "metadata": {},
   "source": [
    "---"
   ]
  },
  {
   "cell_type": "markdown",
   "metadata": {},
   "source": [
    "## Bonus Question: Change MSE Loss to Cross Entropy Loss"
   ]
  },
  {
   "cell_type": "markdown",
   "metadata": {},
   "source": [
    "This is a bonus question. If you finish this (cross entropy loss) correctly, you will get **up to 10 points** (add up to your HW3 score). \n",
    "\n",
    "Note: From grading policy of this course, your maximum points from homework are still 25 out of 100, but you can use the bonus question to make up other deduction of other assignments."
   ]
  },
  {
   "cell_type": "markdown",
   "metadata": {},
   "source": [
    "Pass output scores in networks from forward pass into softmax function. The softmax function is defined as,\n",
    "$$p_j = \\sigma(z_j) = \\frac{e^{z_j}}{\\sum_{c=1}^{C} e^{z_c}}$$\n",
    "After softmax, the scores can be considered as probability of $j$-th class.\n",
    "\n",
    "The cross entropy loss is defined as,\n",
    "$$L = L_{\\text{CE}}+L_{reg} = \\frac{1}{N}\\sum_{i=1}^{N} \\log \\left(p_{i,j}\\right)+ \\frac{\\lambda}{2} \\left(||W_1||^2 + ||W_2||^2 \\right)$$\n",
    "\n",
    "To take derivative of this loss, you will get the gradient as,\n",
    "$$\\frac{\\partial L_{\\text{CE}}}{\\partial o_i} = p_i - y_i $$\n",
    "\n",
    "More details about multi-class cross entropy loss, please check [http://cs231n.github.io/linear-classify/](http://cs231n.github.io/linear-classify/) and [more explanation](https://deepnotes.io/softmax-crossentropy) about the derivative of cross entropy."
   ]
  },
  {
   "cell_type": "markdown",
   "metadata": {},
   "source": [
    "Change the loss from MSE to cross entropy, you only need to change you ```MSE_loss(x,y)``` in ```TwoLayerNet.loss()``` function to ```softmax_loss(x,y)```."
   ]
  },
  {
   "cell_type": "markdown",
   "metadata": {},
   "source": [
    "**Now you are free to use any code to show your results of the two-layer networks with newly-implemented cross entropy loss. You can use code from previous cells.**"
   ]
  },
  {
   "cell_type": "code",
   "execution_count": null,
   "metadata": {
    "pycharm": {
     "is_executing": true
    }
   },
   "outputs": [],
   "source": [
    "# Start training your networks and show your results\n",
    "# ================================================================ #\n",
    "# START YOUR CODE HERE:\n",
    "# ================================================================ #\n",
    "input_size = 32 * 32 * 3\n",
    "hidden_size = 50\n",
    "num_classes = 10\n",
    "best_valacc2 = 0\n",
    "best_net2 = TwoLayerNet(input_size, hidden_size, num_classes)\n",
    "\n",
    "# Train the network\n",
    "stats2 = best_net2.train(X_train, y_train, X_val, y_val,\n",
    "            num_iters=5000, batch_size=100,\n",
    "            learning_rate=3e-3, learning_rate_decay=0.6,\n",
    "            reg=0.05, verbose=True)\n",
    "\n",
    "# Predict on the validation set\n",
    "best_valacc2 = (best_net2.predict(X_val) == y_val).mean()\n",
    "\n",
    "plt.subplot(2, 1, 1)\n",
    "plt.plot(stats2['loss_history'])\n",
    "plt.xlabel('Iteration')\n",
    "plt.ylabel('Loss')\n",
    "\n",
    "plt.subplot(2, 1, 2)\n",
    "plt.plot(stats2['train_acc_history'], label='train')\n",
    "plt.plot(stats2['val_acc_history'], label='val')\n",
    "plt.xlabel('Iteration')\n",
    "plt.ylabel('Accuracy')\n",
    "\n",
    "plt.show()\n",
    "print(\"Best accuracy on validation set: {}\".format(best_valacc2))\n",
    "# ================================================================ #\n",
    "# END YOUR CODE HERE\n",
    "# ================================================================ #"
   ]
  },
  {
   "cell_type": "markdown",
   "metadata": {},
   "source": [
    "----\n",
    "\n",
    "## End of Homework 3, Part 2 :)\n",
    "\n",
    "After you've finished both parts the homework, please print out the both of the entire `ipynb` notebooks and `py` files into one PDF file. Make sure you include the output of code cells and answers for questions. Prepare submit it to GradeScope. Do not include any dataset in your submission.  "
   ]
  }
 ],
 "metadata": {
  "kernelspec": {
   "display_name": "Python 3",
   "language": "python",
   "name": "python3"
  },
  "language_info": {
   "codemirror_mode": {
    "name": "ipython",
    "version": 3
   },
   "file_extension": ".py",
   "mimetype": "text/x-python",
   "name": "python",
   "nbconvert_exporter": "python",
   "pygments_lexer": "ipython3",
   "version": "3.7.4"
  }
 },
 "nbformat": 4,
 "nbformat_minor": 2
}