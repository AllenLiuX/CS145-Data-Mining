{
 "cells": [
  {
   "cell_type": "code",
   "execution_count": 0,
   "metadata": {
    "collapsed": true
   },
   "outputs": [],
   "source": []
  },
  {
   "cell_type": "code",
   "execution_count": 1,
   "outputs": [],
   "source": [
    "import numpy as np\n",
    "import pandas as pd\n",
    "from scipy.signal import savgol_filter\n",
    "from scipy.interpolate import UnivariateSpline\n",
    "from sklearn.pipeline import Pipeline\n",
    "from sklearn.preprocessing import PolynomialFeatures\n",
    "from sklearn.preprocessing import StandardScaler\n",
    "from sklearn.linear_model import LinearRegression\n",
    "from sklearn.linear_model import Lasso\n",
    "from sklearn.linear_model import Ridge\n",
    "import math\n",
    "from fbprophet import Prophet\n",
    "import matplotlib.pyplot as plt"
   ],
   "metadata": {
    "collapsed": false,
    "pycharm": {
     "name": "#%%\n"
    }
   }
  },
  {
   "cell_type": "code",
   "execution_count": 2,
   "outputs": [],
   "source": [
    "def getStates():\n",
    "    ds = pd.read_csv('data/test.csv')\n",
    "    states = ds['Province_State'][:50].values\n",
    "    return states"
   ],
   "metadata": {
    "collapsed": false,
    "pycharm": {
     "name": "#%%\n"
    }
   }
  },
  {
   "cell_type": "code",
   "execution_count": 3,
   "outputs": [],
   "source": [
    "def distance(x, y, side_check=False):\n",
    "    if side_check:\n",
    "        if y > x:\n",
    "            return 0\n",
    "    b = y + x\n",
    "    i = b / 2\n",
    "    return math.sqrt((x - i)**2 + (y - i)**2)"
   ],
   "metadata": {
    "collapsed": false,
    "pycharm": {
     "name": "#%%\n"
    }
   }
  },
  {
   "cell_type": "code",
   "execution_count": 4,
   "outputs": [],
   "source": [
    "def all_distance(data, side_check=False):\n",
    "    rtn = []\n",
    "    for i in range(len(data)):\n",
    "        rtn.append(distance(i, data[i], side_check=side_check))\n",
    "    return rtn"
   ],
   "metadata": {
    "collapsed": false,
    "pycharm": {
     "name": "#%%\n"
    }
   }
  },
  {
   "cell_type": "code",
   "execution_count": 5,
   "outputs": [],
   "source": [
    "def standardization(data):\n",
    "    mu = np.mean(data, axis=0)\n",
    "    sigma = np.std(data, axis=0)\n",
    "    return (data - mu) / sigma"
   ],
   "metadata": {
    "collapsed": false,
    "pycharm": {
     "name": "#%%\n"
    }
   }
  },
  {
   "cell_type": "code",
   "execution_count": 6,
   "outputs": [],
   "source": [
    "# ============= DEATH Training ============\n",
    "\n",
    "degree = 3\n",
    "states = getStates()\n",
    "start = 213\n",
    "alpha = 5.2\n",
    "window = 25\n",
    "states2idx = {}\n",
    "for i in range(len(states)):\n",
    "    states2idx[states[i]] = i"
   ],
   "metadata": {
    "collapsed": false,
    "pycharm": {
     "name": "#%%\n"
    }
   }
  },
  {
   "cell_type": "code",
   "execution_count": 7,
   "outputs": [],
   "source": [
    "feature = 'Deaths'\n",
    "res = []\n",
    "total = 0\n",
    "\n",
    "for i in range(len(states)):\n",
    "    state = states[i]\n",
    "    ds = pd.read_csv('data/train_round2.csv')\n",
    "    ds = ds[ds['Province_State'] == state]\n",
    "    raw = ds[feature].values\n",
    "    value = savgol_filter(raw.reshape(-1), window, degree) #smooth data\n",
    "\n",
    "###===================================================================###\n",
    "### no saturation no negative slope ###\n",
    "    scale = raw / raw[-1] * 225\n",
    "    distances = all_distance(scale)\n",
    "    diff = sum(distances[-30:])\n",
    "    max_point = distances.index(max(distances))\n",
    "\n",
    "    x = [[i] for i in range(len(value))]\n",
    "\n",
    "    y = np.array([value[start:]]).reshape(-1, 1)\n",
    "    x = [[i + start] for i in range(225-start)]\n",
    "    model = Ridge(alpha=alpha)\n",
    "    model.fit(x, y)\n",
    "    x_test = [[i + 225] for i in range(21)]\n",
    "    y_hat = model.predict(x_test)\n",
    "\n",
    "    slope = 21 / (y_hat[-1] - y_hat[0])\n",
    "    smooth_slope = 1 / (value[-1] - value[-2])\n",
    "\n",
    "    diff = abs(smooth_slope - slope)\n",
    "    if diff > 0.5:\n",
    "        y = np.array([value[start - 28:]]).reshape(-1, 1)\n",
    "        x = [[i + start - 28] for i in range(225 - start + 28)]\n",
    "        model = Ridge(alpha=alpha)\n",
    "        model.fit(x, y)\n",
    "        y_hat = model.predict(x_test)\n",
    "\n",
    "        sub = 0.1 * smooth_slope + 0.9 * slope\n",
    "        cur_slope = 21 / (y_hat[-1] - y_hat[0])\n",
    "        y_hat = (y_hat-y_hat[0]) / cur_slope * sub + y_hat[0]\n",
    "\n",
    "    res.append(y_hat)"
   ],
   "metadata": {
    "collapsed": false,
    "pycharm": {
     "name": "#%%\n"
    }
   }
  },
  {
   "cell_type": "code",
   "execution_count": 8,
   "outputs": [],
   "source": [
    "rerange = []\n",
    "for i in range(len(res[0])):\n",
    "    for j in range(len(res)):\n",
    "        rerange.append(res[j][i])\n",
    "#print(rerange)\n",
    "df = pd.DataFrame(rerange)\n",
    "df.to_csv(\"output_round2/{}.csv\".format(feature),index=False,sep=',')\n",
    "Death_df = pd.DataFrame(rerange)"
   ],
   "metadata": {
    "collapsed": false,
    "pycharm": {
     "name": "#%%\n"
    }
   }
  },
  {
   "cell_type": "code",
   "execution_count": 9,
   "outputs": [],
   "source": [
    "# ============= CONFIRM Training ============"
   ],
   "metadata": {
    "collapsed": false,
    "pycharm": {
     "name": "#%%\n"
    }
   }
  },
  {
   "cell_type": "code",
   "execution_count": 10,
   "outputs": [],
   "source": [
    "degree = 3\n",
    "states = getStates()\n",
    "start = 219\n",
    "alpha = 3.2\n",
    "window = 23\n",
    "states2idx = {}\n",
    "for i in range(len(states)):\n",
    "    states2idx[states[i]] = i"
   ],
   "metadata": {
    "collapsed": false,
    "pycharm": {
     "name": "#%%\n"
    }
   }
  },
  {
   "cell_type": "code",
   "execution_count": 11,
   "outputs": [],
   "source": [
    "feature = 'Confirmed'\n",
    "res = []\n",
    "total = 0\n",
    "\n",
    "for i in range(len(states)):\n",
    "    state = states[i]\n",
    "    ds = pd.read_csv('data/train_round2.csv')\n",
    "    ds = ds[ds['Province_State'] == state]\n",
    "    raw = ds[feature].values\n",
    "    value = savgol_filter(raw.reshape(-1), window, degree) #smooth data\n",
    "\n",
    "###===================================================================###\n",
    "    scale = raw / raw[-1] * 225\n",
    "    distances = all_distance(scale)\n",
    "    diff = sum(distances[-30:])\n",
    "    max_point = distances.index(max(distances))\n",
    "\n",
    "    test = pd.read_csv('data/datatest_round2.csv')\n",
    "    test = test[test['Province_State'] == state]\n",
    "    real = test[feature].values\n",
    "\n",
    "\n",
    "    y = np.array([value[start:]]).reshape(-1, 1)\n",
    "    x = [[i + start] for i in range(225-start)]\n",
    "    model = Pipeline([\n",
    "        (\"poly\", PolynomialFeatures(degree=1)),\n",
    "        (\"lasso_reg\", Ridge(alpha=alpha))\n",
    "    ])\n",
    "    model.fit(x, y)\n",
    "    x_test = [[i + 225] for i in range(21)]\n",
    "    y_hat = model.predict(x_test)\n",
    "\n",
    "# ###===================================================================###\n",
    "    move_in = pd.read_csv('data/move_in_data_round2.csv')\n",
    "    move_out = pd.read_csv('data/move_out_data_round2.csv')\n",
    "\n",
    "    idx = states2idx[state]\n",
    "\n",
    "    move_in = move_in.iloc[[idx]].values[0][2:]\n",
    "    move_out = move_out.iloc[[idx]].values[0][2:]\n",
    "\n",
    "    smooth_move_in = savgol_filter(move_in.reshape(-1), 11, 3)\n",
    "    smooth_move_out = savgol_filter(move_out.reshape(-1), 11, 3)\n",
    "\n",
    "    plt.show()\n",
    "    move_diff = move_in - move_out\n",
    "    smooth_move_diff = smooth_move_in - smooth_move_out\n",
    "\n",
    "    std_move_diff = standardization(move_diff)\n",
    "    std_smooth_move_diff = standardization(smooth_move_diff)\n",
    "\n",
    "    fst_mean = np.mean(std_move_diff[-28:-21])\n",
    "    snd_mean = np.mean(std_move_diff[-14:-7])\n",
    "    if abs(fst_mean - snd_mean) > 1:\n",
    "        value = savgol_filter(value.reshape(-1), window, degree)\n",
    "        y = np.array([value[start - 7:]]).reshape(-1, 1)\n",
    "        x = [[i + start - 7] for i in range(225 - start + 7)] # double training set\n",
    "        model = Ridge(alpha=alpha)\n",
    "        model.fit(x, y)\n",
    "        x_test = [[i + 225] for i in range(21)]\n",
    "        y_hat = model.predict(x_test)\n",
    "\n",
    "# ###===================================================================###\n",
    "    res.append(y_hat)"
   ],
   "metadata": {
    "collapsed": false,
    "pycharm": {
     "name": "#%%\n"
    }
   }
  },
  {
   "cell_type": "code",
   "execution_count": 12,
   "outputs": [],
   "source": [
    "rerange = []\n",
    "for i in range(len(res[0])):\n",
    "    for j in range(len(res)):\n",
    "        rerange.append(res[j][i])\n",
    "#print(rerange)\n",
    "df = pd.DataFrame(rerange)\n",
    "df.to_csv(\"output_round2/{}.csv\".format(feature),index=False,sep=',')\n",
    "Confirm_df = pd.DataFrame(rerange)"
   ],
   "metadata": {
    "collapsed": false,
    "pycharm": {
     "name": "#%%\n"
    }
   }
  },
  {
   "cell_type": "code",
   "execution_count": 13,
   "outputs": [],
   "source": [
    "submission_df = pd.DataFrame({\"ForecastID\" : np.arange(21*50)})\n",
    "submission_df = pd.concat([submission_df, Confirm_df, Death_df], axis = 1)\n",
    "submission_df.columns = [\"ForecastID\", \"Confirmed\", \"Deaths\"]"
   ],
   "metadata": {
    "collapsed": false,
    "pycharm": {
     "name": "#%%\n"
    }
   }
  },
  {
   "cell_type": "code",
   "execution_count": 14,
   "outputs": [
    {
     "data": {
      "text/plain": "      ForecastID     Confirmed        Deaths\n0              0  2.339492e+05   3498.276983\n1              1  2.804430e+04    105.404668\n2              2  3.006775e+05   6479.172783\n3              3  1.459886e+05   2372.585536\n4              4  1.121545e+06  18753.999430\n...          ...           ...           ...\n1045        1045  2.565172e+05   4322.572763\n1046        1046  1.736147e+05   2896.887567\n1047        1047  5.876896e+04    876.712715\n1048        1048  4.946568e+05   4427.386921\n1049        1049  4.208872e+04    282.938675\n\n[1050 rows x 3 columns]",
      "text/html": "<div>\n<style scoped>\n    .dataframe tbody tr th:only-of-type {\n        vertical-align: middle;\n    }\n\n    .dataframe tbody tr th {\n        vertical-align: top;\n    }\n\n    .dataframe thead th {\n        text-align: right;\n    }\n</style>\n<table border=\"1\" class=\"dataframe\">\n  <thead>\n    <tr style=\"text-align: right;\">\n      <th></th>\n      <th>ForecastID</th>\n      <th>Confirmed</th>\n      <th>Deaths</th>\n    </tr>\n  </thead>\n  <tbody>\n    <tr>\n      <th>0</th>\n      <td>0</td>\n      <td>2.339492e+05</td>\n      <td>3498.276983</td>\n    </tr>\n    <tr>\n      <th>1</th>\n      <td>1</td>\n      <td>2.804430e+04</td>\n      <td>105.404668</td>\n    </tr>\n    <tr>\n      <th>2</th>\n      <td>2</td>\n      <td>3.006775e+05</td>\n      <td>6479.172783</td>\n    </tr>\n    <tr>\n      <th>3</th>\n      <td>3</td>\n      <td>1.459886e+05</td>\n      <td>2372.585536</td>\n    </tr>\n    <tr>\n      <th>4</th>\n      <td>4</td>\n      <td>1.121545e+06</td>\n      <td>18753.999430</td>\n    </tr>\n    <tr>\n      <th>...</th>\n      <td>...</td>\n      <td>...</td>\n      <td>...</td>\n    </tr>\n    <tr>\n      <th>1045</th>\n      <td>1045</td>\n      <td>2.565172e+05</td>\n      <td>4322.572763</td>\n    </tr>\n    <tr>\n      <th>1046</th>\n      <td>1046</td>\n      <td>1.736147e+05</td>\n      <td>2896.887567</td>\n    </tr>\n    <tr>\n      <th>1047</th>\n      <td>1047</td>\n      <td>5.876896e+04</td>\n      <td>876.712715</td>\n    </tr>\n    <tr>\n      <th>1048</th>\n      <td>1048</td>\n      <td>4.946568e+05</td>\n      <td>4427.386921</td>\n    </tr>\n    <tr>\n      <th>1049</th>\n      <td>1049</td>\n      <td>4.208872e+04</td>\n      <td>282.938675</td>\n    </tr>\n  </tbody>\n</table>\n<p>1050 rows × 3 columns</p>\n</div>"
     },
     "execution_count": 14,
     "metadata": {},
     "output_type": "execute_result"
    }
   ],
   "source": [
    "submission_df"
   ],
   "metadata": {
    "collapsed": false,
    "pycharm": {
     "name": "#%%\n"
    }
   }
  },
  {
   "cell_type": "code",
   "execution_count": 15,
   "outputs": [
    {
     "name": "stdout",
     "output_type": "stream",
     "text": [
      "               Confirmed        Deaths\n",
      "ForecastID                            \n",
      "0           2.339492e+05   3498.276983\n",
      "1           2.804430e+04    105.404668\n",
      "2           3.006775e+05   6479.172783\n",
      "3           1.459886e+05   2372.585536\n",
      "4           1.121545e+06  18753.999430\n",
      "...                  ...           ...\n",
      "1045        2.565172e+05   4322.572763\n",
      "1046        1.736147e+05   2896.887567\n",
      "1047        5.876896e+04    876.712715\n",
      "1048        4.946568e+05   4427.386921\n",
      "1049        4.208872e+04    282.938675\n",
      "\n",
      "[1050 rows x 2 columns]\n"
     ]
    }
   ],
   "source": [
    "formatted_df = submission_df.copy()\n",
    "formatted_df.index = submission_df['ForecastID']\n",
    "formatted_df.drop(columns='ForecastID', inplace=True)\n",
    "print(formatted_df)\n",
    "formatted_df.to_csv('round2_all.csv')"
   ],
   "metadata": {
    "collapsed": false,
    "pycharm": {
     "name": "#%%\n"
    }
   }
  },
  {
   "cell_type": "code",
   "execution_count": 16,
   "outputs": [
    {
     "name": "stdout",
     "output_type": "stream",
     "text": [
      "               Confirmed        Deaths\n",
      "ForecastID                            \n",
      "0           2.616859e+05   3894.000783\n",
      "1           3.476201e+04    150.397059\n",
      "2           3.446915e+05   6786.960757\n",
      "3           1.666222e+05   2666.533191\n",
      "4           1.272321e+06  19543.340485\n",
      "...                  ...           ...\n",
      "345         2.565172e+05   4322.572763\n",
      "346         1.736147e+05   2896.887567\n",
      "347         5.876896e+04    876.712715\n",
      "348         4.946568e+05   4427.386921\n",
      "349         4.208872e+04    282.938675\n",
      "\n",
      "[350 rows x 2 columns]\n"
     ]
    }
   ],
   "source": [
    "round2_df = pd.read_csv('data/test_round2.csv')\n",
    "last_confirm_ser = submission_df.iloc[700:, 1].values\n",
    "last_death_ser = submission_df.iloc[700:, 2].values\n",
    "round2_df['Confirmed'] = last_confirm_ser\n",
    "round2_df['Deaths'] = last_death_ser\n",
    "# round2_df.columns = [\"ForecastID\", \"Confirmed\", \"Deaths\"]\n",
    "formatted_df = round2_df.copy()\n",
    "formatted_df.index = round2_df['ForecastID']\n",
    "formatted_df.drop(columns='ForecastID', inplace=True)\n",
    "formatted_df.drop(columns='Province_State', inplace=True)\n",
    "formatted_df.drop(columns='Date', inplace=True)\n",
    "print(formatted_df)\n",
    "formatted_df.to_csv('round2.csv')"
   ],
   "metadata": {
    "collapsed": false,
    "pycharm": {
     "name": "#%%\n"
    }
   }
  }
 ],
 "metadata": {
  "kernelspec": {
   "name": "pycharm-26adf121",
   "language": "python",
   "display_name": "PyCharm (PycharmProjects)"
  },
  "language_info": {
   "codemirror_mode": {
    "name": "ipython",
    "version": 2
   },
   "file_extension": ".py",
   "mimetype": "text/x-python",
   "name": "python",
   "nbconvert_exporter": "python",
   "pygments_lexer": "ipython2",
   "version": "2.7.6"
  }
 },
 "nbformat": 4,
 "nbformat_minor": 0
}