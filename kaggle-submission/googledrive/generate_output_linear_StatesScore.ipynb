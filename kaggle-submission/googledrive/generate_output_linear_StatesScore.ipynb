{
 "cells": [
  {
   "cell_type": "code",
   "execution_count": 124,
   "metadata": {},
   "outputs": [],
   "source": [
    "import torch.nn as nn\n",
    "import torch\n",
    "import numpy as np\n",
    "import torch.optim as optim\n",
    "import pandas as pd\n",
    "from scipy.signal import savgol_filter\n",
    "from sklearn.pipeline import Pipeline\n",
    "from sklearn.preprocessing import PolynomialFeatures\n",
    "from sklearn.preprocessing import StandardScaler\n",
    "from sklearn.linear_model import LinearRegression\n",
    "from sklearn.linear_model import Lasso\n",
    "from sklearn.linear_model import Ridge"
   ]
  },
  {
   "cell_type": "code",
   "execution_count": 133,
   "metadata": {},
   "outputs": [],
   "source": [
    "def getStates():\n",
    "    ds = pd.read_csv('data/test.csv')\n",
    "    states = ds['Province_State'][:50].values   \n",
    "    return states"
   ]
  },
  {
   "cell_type": "code",
   "execution_count": 134,
   "metadata": {},
   "outputs": [],
   "source": [
    "degree = 3\n",
    "states = getStates()\n",
    "start = 132\n",
    "alpha = .1\n",
    "window = 17"
   ]
  },
  {
   "cell_type": "code",
   "execution_count": 148,
   "metadata": {
    "scrolled": true
   },
   "outputs": [
    {
     "name": "stdout",
     "output_type": "stream",
     "text": [
      "[2198.16160991 2219.50855615 2240.85550239 2262.20244863 2283.54939488\n",
      " 2304.89634112 2326.24328736 2347.59023361 2368.93717985 2390.28412609\n",
      " 2411.63107233 2432.97801858 2454.32496482 2475.67191106 2497.0188573\n",
      " 2518.36580355 2539.71274979 2561.05969603 2582.40664227 2603.75358852\n",
      " 2625.10053476 2646.447481   2667.79442724 2689.14137349 2710.48831973\n",
      " 2731.83526597]\n",
      "50\n"
     ]
    }
   ],
   "source": [
    "feature = 'Deaths'\n",
    "#feature = 'Confirmed'\n",
    "res = []\n",
    "for i in range(len(states)):\n",
    "    state = states[i]\n",
    "    ds = pd.read_csv('data/train.csv')\n",
    "    ds = ds[ds['Province_State'] == state]\n",
    "    value = ds[feature].values\n",
    "    \n",
    "    value = savgol_filter(value.reshape(-1), window, degree) #smooth data\n",
    "    \n",
    "    combine = [[value[i]] for i in range(len(value))]\n",
    "    \n",
    "    y = np.array([value[start:]]).reshape(-1, 1)\n",
    "    x = [[i + start] for i in range(142-start)]\n",
    "    \n",
    "#     model = pl.make_pipeline(\n",
    "#         sp.PolynomialFeatures(1), \n",
    "#         lm.LinearRegression()  \n",
    "#     )\n",
    "    model = Lasso(alpha=.05, fit_intercept=True)\n",
    "\n",
    "#    model = Pipeline([\n",
    "#        (\"poly\", PolynomialFeatures(degree=2)),\n",
    "#        (\"lasso_reg\", Ridge(alpha=alpha))\n",
    "#    ])\n",
    "    \n",
    "    model.fit(x, y)\n",
    "    \n",
    "    x_test = [[i + 142] for i in range(26)]\n",
    "    \n",
    "    y_hat = model.predict(x_test)\n",
    "    res.append(y_hat)\n",
    "print(res[0])\n",
    "print(len(res))"
   ]
  },
  {
   "cell_type": "code",
   "execution_count": 136,
   "metadata": {},
   "outputs": [],
   "source": [
    "rerange = []\n",
    "for i in range(len(res[0])):\n",
    "    for j in range(len(res)):\n",
    "        rerange.append(res[j][i])\n",
    "#print(rerange)\n",
    "df = pd.DataFrame(rerange)\n",
    "df.to_csv(\"{}.csv\".format(feature),index=False,sep=',')"
   ]
  },
  {
   "cell_type": "code",
   "execution_count": 137,
   "metadata": {},
   "outputs": [],
   "source": [
    "confirmed_test = pd.read_csv('Confirmed.csv')\n",
    "real = pd.read_csv('data/test.csv')\n",
    "deaths_test = pd.read_csv('deaths.csv')"
   ]
  },
  {
   "cell_type": "code",
   "execution_count": 144,
   "metadata": {},
   "outputs": [
    {
     "name": "stdout",
     "output_type": "stream",
     "text": [
      "[127582.7624355    5353.56357069 202575.34788442 ...  13409.27107609\n",
      "  93964.85559621   4790.84280889]\n",
      "1300\n"
     ]
    }
   ],
   "source": [
    "confirmed = confirmed_test['0'].values\n",
    "deaths = deaths_test['0'].values\n",
    "print(confirmed)\n",
    "print(len(confirmed))"
   ]
  },
  {
   "cell_type": "code",
   "execution_count": 142,
   "metadata": {},
   "outputs": [
    {
     "name": "stdout",
     "output_type": "stream",
     "text": [
      "[127616   5297 202342 ...  15167 113645   5465]\n",
      "1300\n"
     ]
    }
   ],
   "source": [
    "real_confirmed = real['Confirmed'].values\n",
    "real_deaths = real['Deaths'].values\n",
    "print(real_confirmed)\n",
    "print(len(real_confirmed))"
   ]
  },
  {
   "cell_type": "code",
   "execution_count": 140,
   "metadata": {},
   "outputs": [
    {
     "name": "stdout",
     "output_type": "stream",
     "text": [
      "2.0789093976982924 2.6980373273185636\n"
     ]
    }
   ],
   "source": [
    "def score():\n",
    "    total_c = 0\n",
    "    total_d = 0\n",
    "    for i in range(len(confirmed)):\n",
    "        n_c = abs(confirmed[i] - real_confirmed[i]) / real_confirmed[i]\n",
    "        n_d = abs(deaths[i] - real_deaths[i]) / real_deaths[i]\n",
    "        total_d += n_d\n",
    "        total_c += n_c\n",
    "    \n",
    "    total_c = total_c * 100 / (1 * len(confirmed))\n",
    "    total_d = total_d * 100 / (1 * len(deaths))\n",
    "    print(total_c,total_d)\n",
    "score()"
   ]
  },
  {
   "cell_type": "code",
   "execution_count": 162,
   "metadata": {},
   "outputs": [
    {
     "name": "stdout",
     "output_type": "stream",
     "text": [
      "Alabama         3.811042284081161          4.366080417382475\n",
      "Alaska         1.2615842009225928          7.334657747786442\n",
      "Arizona         0.4150094819902818          3.8669501417596686\n",
      "Arkansas         1.6486219870271563          4.90466036407699\n",
      "California         2.629239043037003          1.1462719806722002\n",
      "Colorado         1.2290184009271745          0.15889372536065263\n",
      "Connecticut         0.4643288003035828          0.19909640452916147\n",
      "Delaware         2.762816712098487          0.7476042246938969\n",
      "Florida         0.3964970328458267          0.5675658351501053\n",
      "Georgia         1.7795464965473233          3.734199413502464\n",
      "Hawaii         11.539307072374413          3.0562889678607084\n",
      "Idaho         0.908347764370357          8.692605619714582\n",
      "Illinois         0.40497726703625675          0.5435369830673562\n",
      "Indiana         1.921718815525536          0.35421687463468066\n",
      "Iowa         6.7414607788928445          2.6610265423282744\n",
      "Kansas         1.8207110654985823          8.452863339298217\n",
      "Kentucky         0.47454567789883956          2.251941058929422\n",
      "Louisiana         0.3304588105190499          1.89684402132566\n",
      "Maine         0.6040384352594953          0.6835064281766369\n",
      "Maryland         0.5875874350164835          0.7566409440469329\n",
      "Massachusetts         6.2336572263070655          0.782613310149222\n",
      "Michigan         0.24739251223090386          0.1687090799331954\n",
      "Minnesota         1.6743024379745475          0.2381249514574044\n",
      "Mississippi         2.4424679279749006          5.079241124304971\n",
      "Missouri         2.0206262222219524          3.932120972663608\n",
      "Montana         2.115349944560789          5.874459644598507\n",
      "Nebraska         1.3193562937243781          2.1329332607637497\n",
      "Nevada         2.8643129953253443          2.97357470798993\n",
      "New Hampshire         1.7849370126377733          0.6788324042023193\n",
      "New Jersey         0.4882023703330823          0.6064707220923782\n",
      "New Mexico         0.8585091844187904          0.670286790715164\n",
      "New York         0.34734485469316617          0.11915824282462374\n",
      "North Carolina         1.9204326722292122          1.824177105611807\n",
      "North Dakota         2.9398580546177207          10.212546622339993\n",
      "Ohio         0.40195197034902264          1.1101863046765732\n",
      "Oklahoma         2.712709988593875          3.51561214669973\n",
      "Oregon         1.172649586114731          4.647779700871138\n",
      "Pennsylvania         1.4414054243783714          0.20427640920936826\n",
      "Rhode Island         0.3451508569429419          0.37073667275662187\n",
      "South Carolina         0.7284009042953463          2.53033920838006\n",
      "South Dakota         2.23974406138512          3.759974907271493\n",
      "Tennessee         0.44339183193291465          0.980904335361858\n",
      "Texas         1.3696073407673999          2.805199152577703\n",
      "Utah         3.0416533816356326          3.143302732547342\n",
      "Vermont         2.7430681717941288          4.900294729379999e-14\n",
      "Virginia         0.20253932179995715          2.2475762250120592\n",
      "Washington         1.5463142546358146          0.33290981033849876\n",
      "West Virginia         6.741437682415419          2.3733977733190876\n",
      "Wisconsin         6.215695947302892          0.574318084674304\n",
      "Wyoming         3.612141889149051          14.63665292828888\n"
     ]
    }
   ],
   "source": [
    "def stScore():\n",
    "    for j in range(50):\n",
    "        total_c = 0\n",
    "        total_d = 0\n",
    "        for i in range(26):\n",
    "            n_c = abs(confirmed[j+50*i] - real_confirmed[j + 50*i]) / real_confirmed[j + 50*i]\n",
    "            n_d = abs(deaths[j + 50*i] - real_deaths[j + 50*i]) / real_deaths[j + 50*i]\n",
    "            total_d += n_d\n",
    "            total_c += n_c\n",
    "            #print(confirmed[j+50*i], \" \",real_confirmed[j + 50*i])\n",
    "        total_c = total_c * 100 / 26\n",
    "        total_d = total_d * 100 / 26\n",
    "        print(states[j]+\"        \", total_c, \"        \", total_d)\n",
    "        \n",
    "stScore()"
   ]
  }
 ],
 "metadata": {
  "kernelspec": {
   "display_name": "Python 3",
   "language": "python",
   "name": "python3"
  },
  "language_info": {
   "codemirror_mode": {
    "name": "ipython",
    "version": 3
   },
   "file_extension": ".py",
   "mimetype": "text/x-python",
   "name": "python",
   "nbconvert_exporter": "python",
   "pygments_lexer": "ipython3",
   "version": "3.7.3"
  }
 },
 "nbformat": 4,
 "nbformat_minor": 4
}
