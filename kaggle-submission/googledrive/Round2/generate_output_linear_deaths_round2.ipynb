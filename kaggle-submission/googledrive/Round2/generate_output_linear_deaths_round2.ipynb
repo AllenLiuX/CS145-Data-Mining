{
 "cells": [
  {
   "cell_type": "code",
   "execution_count": 1,
   "metadata": {
    "id": "XKRF9C-Wjw4y"
   },
   "outputs": [
    {
     "name": "stderr",
     "output_type": "stream",
     "text": [
      "Importing plotly failed. Interactive plots will not work.\n"
     ]
    }
   ],
   "source": [
    "import numpy as np\n",
    "import pandas as pd\n",
    "from scipy.signal import savgol_filter\n",
    "from scipy.interpolate import UnivariateSpline\n",
    "from sklearn.pipeline import Pipeline\n",
    "from sklearn.preprocessing import PolynomialFeatures\n",
    "from sklearn.preprocessing import StandardScaler\n",
    "from sklearn.linear_model import LinearRegression\n",
    "from sklearn.linear_model import Lasso\n",
    "from sklearn.linear_model import Ridge\n",
    "import math\n",
    "from fbprophet import Prophet\n",
    "import matplotlib.pyplot as plt"
   ]
  },
  {
   "cell_type": "code",
   "execution_count": 2,
   "metadata": {
    "id": "HW1pmM8Ejw4y"
   },
   "outputs": [],
   "source": [
    "def getStates():\n",
    "    ds = pd.read_csv('data/test.csv')\n",
    "    states = ds['Province_State'][:50].values   \n",
    "    return states"
   ]
  },
  {
   "cell_type": "code",
   "execution_count": 3,
   "metadata": {},
   "outputs": [],
   "source": [
    "def distance(x, y, side_check=False):\n",
    "    if side_check:\n",
    "        if y > x:\n",
    "            return 0\n",
    "    b = y + x\n",
    "    i = b / 2\n",
    "    return math.sqrt((x - i)**2 + (y - i)**2)"
   ]
  },
  {
   "cell_type": "code",
   "execution_count": 4,
   "metadata": {},
   "outputs": [],
   "source": [
    "def all_distance(data, side_check=False):\n",
    "    rtn = []\n",
    "    for i in range(len(data)):\n",
    "        rtn.append(distance(i, data[i], side_check=side_check))\n",
    "    return rtn"
   ]
  },
  {
   "cell_type": "code",
   "execution_count": 5,
   "metadata": {},
   "outputs": [],
   "source": [
    "def standardization(data):\n",
    "    mu = np.mean(data, axis=0)\n",
    "    sigma = np.std(data, axis=0)\n",
    "    return (data - mu) / sigma"
   ]
  },
  {
   "cell_type": "code",
   "execution_count": 6,
   "metadata": {
    "id": "lmzLK-Htjw4y"
   },
   "outputs": [],
   "source": [
    "degree = 3\n",
    "states = getStates()\n",
    "start = 213\n",
    "alpha = 5.2\n",
    "window = 25\n",
    "states2idx = {}\n",
    "for i in range(len(states)):\n",
    "    states2idx[states[i]] = i"
   ]
  },
  {
   "cell_type": "code",
   "execution_count": 7,
   "metadata": {
    "id": "pUUApASFjw4y",
    "outputId": "9e6e2d0b-ef52-4398-faad-de3415f31858",
    "scrolled": true
   },
   "outputs": [],
   "source": [
    "feature = 'Deaths'\n",
    "res = []\n",
    "total = 0\n",
    "\n",
    "for i in range(len(states)):\n",
    "    state = states[i]\n",
    "    ds = pd.read_csv('data/train_round2.csv')\n",
    "    ds = ds[ds['Province_State'] == state]\n",
    "    raw = ds[feature].values\n",
    "    value = savgol_filter(raw.reshape(-1), window, degree) #smooth data\n",
    "    \n",
    "###===================================================================###   \n",
    "### no saturation no negative slope ###\n",
    "    scale = raw / raw[-1] * 225\n",
    "    distances = all_distance(scale)\n",
    "    diff = sum(distances[-30:])\n",
    "    max_point = distances.index(max(distances))       \n",
    "    \n",
    "    x = [[i] for i in range(len(value))]\n",
    "    \n",
    "    y = np.array([value[start:]]).reshape(-1, 1)\n",
    "    x = [[i + start] for i in range(225-start)]\n",
    "    model = Ridge(alpha=alpha)\n",
    "    model.fit(x, y)\n",
    "    x_test = [[i + 225] for i in range(21)]\n",
    "    y_hat = model.predict(x_test)\n",
    " \n",
    "    slope = 21 / (y_hat[-1] - y_hat[0])\n",
    "    smooth_slope = 1 / (value[-1] - value[-2])\n",
    "\n",
    "    diff = abs(smooth_slope - slope)\n",
    "    if diff > 0.5:\n",
    "        y = np.array([value[start - 28:]]).reshape(-1, 1)\n",
    "        x = [[i + start - 28] for i in range(225 - start + 28)]\n",
    "        model = Ridge(alpha=alpha)\n",
    "        model.fit(x, y)\n",
    "        y_hat = model.predict(x_test)\n",
    "\n",
    "        sub = 0.1 * smooth_slope + 0.9 * slope\n",
    "        cur_slope = 21 / (y_hat[-1] - y_hat[0])\n",
    "        y_hat = (y_hat-y_hat[0]) / cur_slope * sub + y_hat[0]\n",
    "\n",
    "    res.append(y_hat)"
   ]
  },
  {
   "cell_type": "code",
   "execution_count": 8,
   "metadata": {
    "id": "BsqXtalnjw4z"
   },
   "outputs": [],
   "source": [
    "rerange = []\n",
    "for i in range(len(res[0])):\n",
    "    for j in range(len(res)):\n",
    "        rerange.append(res[j][i])\n",
    "#print(rerange)\n",
    "df = pd.DataFrame(rerange)\n",
    "df.to_csv(\"{}.csv\".format(feature),index=False,sep=',')"
   ]
  },
  {
   "cell_type": "code",
   "execution_count": null,
   "metadata": {},
   "outputs": [],
   "source": []
  }
 ],
 "metadata": {
  "colab": {
   "name": "generate_output_linear_StatesScore.ipynb",
   "provenance": []
  },
  "kernelspec": {
   "display_name": "Python 3",
   "language": "python",
   "name": "python3"
  },
  "language_info": {
   "codemirror_mode": {
    "name": "ipython",
    "version": 3
   },
   "file_extension": ".py",
   "mimetype": "text/x-python",
   "name": "python",
   "nbconvert_exporter": "python",
   "pygments_lexer": "ipython3",
   "version": "3.8.3"
  }
 },
 "nbformat": 4,
 "nbformat_minor": 1
}
