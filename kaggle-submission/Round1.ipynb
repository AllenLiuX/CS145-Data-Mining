{
 "cells": [
  {
   "cell_type": "code",
   "execution_count": 1,
   "metadata": {
    "id": "DHgJnE0XQhkC"
   },
   "outputs": [],
   "source": [
    "import numpy as np\n",
    "import pandas as pd\n",
    "from scipy.signal import savgol_filter\n",
    "from scipy.interpolate import UnivariateSpline\n",
    "from sklearn.pipeline import Pipeline\n",
    "from sklearn.preprocessing import PolynomialFeatures\n",
    "from sklearn.preprocessing import StandardScaler\n",
    "from sklearn.linear_model import LinearRegression\n",
    "from sklearn.linear_model import Lasso\n",
    "from sklearn.linear_model import Ridge\n",
    "import math\n",
    "from fbprophet import Prophet\n",
    "import matplotlib.pyplot as plt"
   ]
  },
  {
   "cell_type": "code",
   "execution_count": 2,
   "metadata": {
    "colab": {
     "base_uri": "https://localhost:8080/"
    },
    "id": "fstrUz3eZyPO",
    "outputId": "1c742d91-8a6e-45b6-820d-69244740a46c"
   },
   "outputs": [],
   "source": [
    "# from google.colab import drive\n",
    "# drive.mount('/content/drive')"
   ]
  },
  {
   "cell_type": "code",
   "execution_count": 3,
   "metadata": {
    "colab": {
     "base_uri": "https://localhost:8080/"
    },
    "id": "1aqWFahkZ3Be",
    "outputId": "5fbe26fe-ee98-45c0-b41a-b50d14d5af6b"
   },
   "outputs": [],
   "source": [
    "# %cd /content/drive/'My Drive'/'CS145_Kaggle'/\n",
    "# %ls\n"
   ]
  },
  {
   "cell_type": "code",
   "execution_count": 4,
   "metadata": {
    "id": "HW1pmM8Ejw4y"
   },
   "outputs": [],
   "source": [
    "def getStates():\n",
    "    ds = pd.read_csv('data/test.csv')\n",
    "    states = ds['Province_State'][:50].values   \n",
    "    return states"
   ]
  },
  {
   "cell_type": "code",
   "execution_count": 5,
   "metadata": {
    "id": "zFTFlWTdMl4l"
   },
   "outputs": [],
   "source": [
    "def isDown(state, ds):\n",
    "    x = [[i] for i in range(142)]\n",
    "    \n",
    "    confirmed = ds['Confirmed'].values\n",
    "    deaths = ds['Deaths'].values\n",
    "    \n",
    "    smooth_confirmed = savgol_filter(confirmed.reshape(-1), 31, 2)\n",
    "    scale_smooth_confirmed = (smooth_confirmed - confirmed[0]) / confirmed[-14] * 128\n",
    "    \n",
    "    scale_deaths = deaths / deaths[-1] * 142\n",
    "    deaths_spl = UnivariateSpline(x,scale_deaths,s=10,k=4)\n",
    "    deaths_spl_1d = deaths_spl.derivative(n=1)\n",
    "      \n",
    "    if scale_smooth_confirmed[-1] - 142 < -7 and np.mean(deaths_spl_1d(x)[-28:-14]) < 1.5:\n",
    "        return True"
   ]
  },
  {
   "cell_type": "code",
   "execution_count": 6,
   "metadata": {
    "id": "irrdmJ0aMl4l"
   },
   "outputs": [],
   "source": [
    "def distance(x, y):\n",
    "    if y > x:\n",
    "        return 0\n",
    "    b = y + x\n",
    "    i = b / 2\n",
    "    return math.sqrt((x - i)**2 + (y - i)**2)"
   ]
  },
  {
   "cell_type": "code",
   "execution_count": 7,
   "metadata": {
    "id": "KCpd3HBGMl4l"
   },
   "outputs": [],
   "source": [
    "def all_distance(data):\n",
    "    rtn = []\n",
    "    for i in range(len(data)):\n",
    "        rtn.append(distance(i, data[i]))\n",
    "    return rtn"
   ]
  },
  {
   "cell_type": "code",
   "execution_count": 8,
   "metadata": {
    "id": "_SJFrjqo5mvb"
   },
   "outputs": [],
   "source": [
    "def standardization(data):\n",
    "    mu = np.mean(data, axis=0)\n",
    "    sigma = np.std(data, axis=0)\n",
    "    return (data - mu) / sigma"
   ]
  },
  {
   "cell_type": "code",
   "execution_count": 9,
   "metadata": {
    "id": "lmzLK-Htjw4y"
   },
   "outputs": [],
   "source": [
    "degree = 3\n",
    "states = getStates()\n",
    "start = 133\n",
    "alpha = 6.5\n",
    "window = 17"
   ]
  },
  {
   "cell_type": "code",
   "execution_count": 10,
   "metadata": {
    "id": "iUuFpzd9SjcA"
   },
   "outputs": [],
   "source": [
    "feature = 'Deaths'\n",
    "total = 0\n",
    "res = []\n",
    "\n",
    "for i in range(len(states)):\n",
    "    state = states[i]\n",
    "    ds = pd.read_csv('data/train.csv')\n",
    "    ds = ds[ds['Province_State'] == state]\n",
    "    raw = ds[feature].values\n",
    "    \n",
    "    value = savgol_filter(raw.reshape(-1), window, degree) #smooth data\n",
    "    \n",
    "###===================================================================###   \n",
    "    scale = raw / raw[-1] * 142\n",
    "    distances = all_distance(scale)\n",
    "    diff = sum(distances)\n",
    "    max_point = distances.index(max(distances))       \n",
    "    \n",
    "    if scale[80] > 100: # Grow too fast, Saturated\n",
    "        x = [[i] for i in range(142)]\n",
    "        #print(scale[75], state)\n",
    "        model = Pipeline([\n",
    "            (\"poly\", PolynomialFeatures(degree=1)),\n",
    "            (\"lasso_reg\", Ridge(alpha=0)) \n",
    "        ])\n",
    "        model.fit(x[-10:], value[-10:])\n",
    "        x_test = [[i + 142] for i in range(26)]\n",
    "        y_hat = model.predict(x_test)\n",
    "        y_hat = y_hat.reshape(-1,1) \n",
    "        \n",
    "###===================================================================###\n",
    "    else:  \n",
    "        y = np.array([value[start:]]).reshape(-1, 1)\n",
    "        x = [[i + start] for i in range(142-start)]\n",
    "        \n",
    "        diff = np.sum((raw[start:] - value[start:])**2 / raw[-1]**2)\n",
    "        \n",
    "        model = Ridge(alpha=alpha, fit_intercept=True)\n",
    "        model.fit(x, y)\n",
    "        x_test = [[i + 142] for i in range(26)]\n",
    "\n",
    "        y_hat = model.predict(x_test)\n",
    "        slope = (168 - 142) / (y_hat[-1] - y_hat[0]) * raw[-1] / 142\n",
    "        \n",
    "        if isDown(state, ds): # \n",
    "            if slope < 1.6:\n",
    "                sub = [[np.log(1 + i) ** 2] for i in range(26)]\n",
    "                y_hat = y_hat - sub\n",
    "\n",
    "        \n",
    "        else:\n",
    "            if slope < 0 : # impossible slope\n",
    "                y = np.array([value[50:]]).reshape(-1, 1)\n",
    "                x = [[i + 50] for i in range(142 - 50)]\n",
    "\n",
    "                model = Pipeline([\n",
    "                    (\"poly\", PolynomialFeatures(degree=2)),\n",
    "                    (\"lasso_reg\", Ridge(alpha=0)) \n",
    "                ])\n",
    "                model.fit(x, y)\n",
    "\n",
    "                y_hat = model.predict(x_test)\n",
    "# ###===================================================================###        \n",
    "    res.append(y_hat)"
   ]
  },
  {
   "cell_type": "code",
   "execution_count": 11,
   "metadata": {
    "id": "n3TWMVMwSqq_"
   },
   "outputs": [],
   "source": [
    "rerange = []\n",
    "for i in range(len(res[0])):\n",
    "    for j in range(len(res)):\n",
    "        rerange.append(res[j][i])\n",
    "#print(rerange)\n",
    "Death_df = pd.DataFrame(rerange)\n",
    "Death_df.to_csv(\"output_round1/{}.csv\".format(feature),index=False,sep=',')"
   ]
  },
  {
   "cell_type": "code",
   "execution_count": 12,
   "metadata": {
    "id": "BNUlXlLyVX0d"
   },
   "outputs": [],
   "source": [
    "degree = 3\n",
    "states = getStates()\n",
    "start = 137\n",
    "alpha = .5\n",
    "window = 15\n",
    "states2idx = {}\n",
    "for i in range(len(states)):\n",
    "    states2idx[states[i]] = i"
   ]
  },
  {
   "cell_type": "code",
   "execution_count": 13,
   "metadata": {
    "colab": {
     "base_uri": "https://localhost:8080/"
    },
    "id": "2A7UtvZqSkWl",
    "outputId": "94c1abcd-edea-4d6e-80ae-072c4436398e"
   },
   "outputs": [
    {
     "name": "stderr",
     "output_type": "stream",
     "text": [
      "INFO:fbprophet:Disabling yearly seasonality. Run prophet with yearly_seasonality=True to override this.\n",
      "INFO:fbprophet:Disabling daily seasonality. Run prophet with daily_seasonality=True to override this.\n",
      "INFO:fbprophet:n_changepoints greater than number of observations. Using 15.\n",
      "INFO:fbprophet:Disabling yearly seasonality. Run prophet with yearly_seasonality=True to override this.\n",
      "INFO:fbprophet:Disabling daily seasonality. Run prophet with daily_seasonality=True to override this.\n",
      "INFO:fbprophet:n_changepoints greater than number of observations. Using 15.\n",
      "INFO:fbprophet:Disabling yearly seasonality. Run prophet with yearly_seasonality=True to override this.\n",
      "INFO:fbprophet:Disabling daily seasonality. Run prophet with daily_seasonality=True to override this.\n",
      "INFO:fbprophet:n_changepoints greater than number of observations. Using 15.\n",
      "INFO:fbprophet:Disabling yearly seasonality. Run prophet with yearly_seasonality=True to override this.\n",
      "INFO:fbprophet:Disabling daily seasonality. Run prophet with daily_seasonality=True to override this.\n",
      "INFO:fbprophet:n_changepoints greater than number of observations. Using 15.\n",
      "INFO:fbprophet:Disabling yearly seasonality. Run prophet with yearly_seasonality=True to override this.\n",
      "INFO:fbprophet:Disabling daily seasonality. Run prophet with daily_seasonality=True to override this.\n",
      "INFO:fbprophet:n_changepoints greater than number of observations. Using 15.\n",
      "INFO:fbprophet:Disabling yearly seasonality. Run prophet with yearly_seasonality=True to override this.\n",
      "INFO:fbprophet:Disabling daily seasonality. Run prophet with daily_seasonality=True to override this.\n",
      "INFO:fbprophet:n_changepoints greater than number of observations. Using 15.\n",
      "INFO:fbprophet:Disabling yearly seasonality. Run prophet with yearly_seasonality=True to override this.\n",
      "INFO:fbprophet:Disabling daily seasonality. Run prophet with daily_seasonality=True to override this.\n",
      "INFO:fbprophet:n_changepoints greater than number of observations. Using 15.\n",
      "INFO:fbprophet:Disabling yearly seasonality. Run prophet with yearly_seasonality=True to override this.\n",
      "INFO:fbprophet:Disabling daily seasonality. Run prophet with daily_seasonality=True to override this.\n",
      "INFO:fbprophet:n_changepoints greater than number of observations. Using 15.\n",
      "INFO:fbprophet:Disabling yearly seasonality. Run prophet with yearly_seasonality=True to override this.\n",
      "INFO:fbprophet:Disabling daily seasonality. Run prophet with daily_seasonality=True to override this.\n",
      "INFO:fbprophet:n_changepoints greater than number of observations. Using 15.\n",
      "INFO:fbprophet:Disabling yearly seasonality. Run prophet with yearly_seasonality=True to override this.\n",
      "INFO:fbprophet:Disabling daily seasonality. Run prophet with daily_seasonality=True to override this.\n",
      "INFO:fbprophet:n_changepoints greater than number of observations. Using 15.\n",
      "INFO:fbprophet:Disabling yearly seasonality. Run prophet with yearly_seasonality=True to override this.\n",
      "INFO:fbprophet:Disabling daily seasonality. Run prophet with daily_seasonality=True to override this.\n",
      "INFO:fbprophet:n_changepoints greater than number of observations. Using 15.\n",
      "INFO:fbprophet:Disabling yearly seasonality. Run prophet with yearly_seasonality=True to override this.\n",
      "INFO:fbprophet:Disabling daily seasonality. Run prophet with daily_seasonality=True to override this.\n",
      "INFO:fbprophet:n_changepoints greater than number of observations. Using 15.\n",
      "INFO:fbprophet:Disabling yearly seasonality. Run prophet with yearly_seasonality=True to override this.\n",
      "INFO:fbprophet:Disabling daily seasonality. Run prophet with daily_seasonality=True to override this.\n",
      "INFO:fbprophet:n_changepoints greater than number of observations. Using 15.\n",
      "INFO:fbprophet:Disabling yearly seasonality. Run prophet with yearly_seasonality=True to override this.\n",
      "INFO:fbprophet:Disabling daily seasonality. Run prophet with daily_seasonality=True to override this.\n",
      "INFO:fbprophet:n_changepoints greater than number of observations. Using 15.\n",
      "INFO:fbprophet:Disabling yearly seasonality. Run prophet with yearly_seasonality=True to override this.\n",
      "INFO:fbprophet:Disabling daily seasonality. Run prophet with daily_seasonality=True to override this.\n",
      "INFO:fbprophet:n_changepoints greater than number of observations. Using 15.\n",
      "INFO:fbprophet:Disabling yearly seasonality. Run prophet with yearly_seasonality=True to override this.\n",
      "INFO:fbprophet:Disabling daily seasonality. Run prophet with daily_seasonality=True to override this.\n",
      "INFO:fbprophet:n_changepoints greater than number of observations. Using 15.\n",
      "INFO:fbprophet:Disabling yearly seasonality. Run prophet with yearly_seasonality=True to override this.\n",
      "INFO:fbprophet:Disabling daily seasonality. Run prophet with daily_seasonality=True to override this.\n",
      "INFO:fbprophet:n_changepoints greater than number of observations. Using 15.\n",
      "INFO:fbprophet:Disabling yearly seasonality. Run prophet with yearly_seasonality=True to override this.\n",
      "INFO:fbprophet:Disabling daily seasonality. Run prophet with daily_seasonality=True to override this.\n",
      "INFO:fbprophet:n_changepoints greater than number of observations. Using 15.\n",
      "INFO:fbprophet:Disabling yearly seasonality. Run prophet with yearly_seasonality=True to override this.\n",
      "INFO:fbprophet:Disabling daily seasonality. Run prophet with daily_seasonality=True to override this.\n",
      "INFO:fbprophet:n_changepoints greater than number of observations. Using 15.\n",
      "INFO:fbprophet:Disabling yearly seasonality. Run prophet with yearly_seasonality=True to override this.\n",
      "INFO:fbprophet:Disabling daily seasonality. Run prophet with daily_seasonality=True to override this.\n",
      "INFO:fbprophet:n_changepoints greater than number of observations. Using 15.\n",
      "INFO:fbprophet:Disabling yearly seasonality. Run prophet with yearly_seasonality=True to override this.\n",
      "INFO:fbprophet:Disabling daily seasonality. Run prophet with daily_seasonality=True to override this.\n",
      "INFO:fbprophet:n_changepoints greater than number of observations. Using 15.\n",
      "INFO:fbprophet:Disabling yearly seasonality. Run prophet with yearly_seasonality=True to override this.\n",
      "INFO:fbprophet:Disabling daily seasonality. Run prophet with daily_seasonality=True to override this.\n",
      "INFO:fbprophet:n_changepoints greater than number of observations. Using 15.\n",
      "INFO:fbprophet:Disabling yearly seasonality. Run prophet with yearly_seasonality=True to override this.\n",
      "INFO:fbprophet:Disabling daily seasonality. Run prophet with daily_seasonality=True to override this.\n",
      "INFO:fbprophet:n_changepoints greater than number of observations. Using 15.\n",
      "INFO:fbprophet:Disabling yearly seasonality. Run prophet with yearly_seasonality=True to override this.\n",
      "INFO:fbprophet:Disabling daily seasonality. Run prophet with daily_seasonality=True to override this.\n",
      "INFO:fbprophet:n_changepoints greater than number of observations. Using 15.\n",
      "INFO:fbprophet:Disabling yearly seasonality. Run prophet with yearly_seasonality=True to override this.\n",
      "INFO:fbprophet:Disabling daily seasonality. Run prophet with daily_seasonality=True to override this.\n",
      "INFO:fbprophet:n_changepoints greater than number of observations. Using 15.\n",
      "INFO:fbprophet:Disabling yearly seasonality. Run prophet with yearly_seasonality=True to override this.\n",
      "INFO:fbprophet:Disabling daily seasonality. Run prophet with daily_seasonality=True to override this.\n",
      "INFO:fbprophet:n_changepoints greater than number of observations. Using 15.\n",
      "INFO:fbprophet:Disabling yearly seasonality. Run prophet with yearly_seasonality=True to override this.\n",
      "INFO:fbprophet:Disabling daily seasonality. Run prophet with daily_seasonality=True to override this.\n",
      "INFO:fbprophet:n_changepoints greater than number of observations. Using 15.\n",
      "INFO:fbprophet:Disabling yearly seasonality. Run prophet with yearly_seasonality=True to override this.\n",
      "INFO:fbprophet:Disabling daily seasonality. Run prophet with daily_seasonality=True to override this.\n",
      "INFO:fbprophet:n_changepoints greater than number of observations. Using 15.\n",
      "INFO:fbprophet:Disabling yearly seasonality. Run prophet with yearly_seasonality=True to override this.\n",
      "INFO:fbprophet:Disabling daily seasonality. Run prophet with daily_seasonality=True to override this.\n",
      "INFO:fbprophet:n_changepoints greater than number of observations. Using 15.\n",
      "INFO:fbprophet:Disabling yearly seasonality. Run prophet with yearly_seasonality=True to override this.\n",
      "INFO:fbprophet:Disabling daily seasonality. Run prophet with daily_seasonality=True to override this.\n",
      "INFO:fbprophet:n_changepoints greater than number of observations. Using 15.\n",
      "INFO:fbprophet:Disabling yearly seasonality. Run prophet with yearly_seasonality=True to override this.\n",
      "INFO:fbprophet:Disabling daily seasonality. Run prophet with daily_seasonality=True to override this.\n",
      "INFO:fbprophet:n_changepoints greater than number of observations. Using 15.\n",
      "INFO:fbprophet:Disabling yearly seasonality. Run prophet with yearly_seasonality=True to override this.\n",
      "INFO:fbprophet:Disabling daily seasonality. Run prophet with daily_seasonality=True to override this.\n",
      "INFO:fbprophet:n_changepoints greater than number of observations. Using 15.\n",
      "INFO:fbprophet:Disabling yearly seasonality. Run prophet with yearly_seasonality=True to override this.\n",
      "INFO:fbprophet:Disabling daily seasonality. Run prophet with daily_seasonality=True to override this.\n",
      "INFO:fbprophet:n_changepoints greater than number of observations. Using 15.\n",
      "INFO:fbprophet:Disabling yearly seasonality. Run prophet with yearly_seasonality=True to override this.\n",
      "INFO:fbprophet:Disabling daily seasonality. Run prophet with daily_seasonality=True to override this.\n",
      "INFO:fbprophet:n_changepoints greater than number of observations. Using 15.\n",
      "INFO:fbprophet:Disabling yearly seasonality. Run prophet with yearly_seasonality=True to override this.\n",
      "INFO:fbprophet:Disabling daily seasonality. Run prophet with daily_seasonality=True to override this.\n",
      "INFO:fbprophet:n_changepoints greater than number of observations. Using 15.\n",
      "INFO:fbprophet:Disabling yearly seasonality. Run prophet with yearly_seasonality=True to override this.\n",
      "INFO:fbprophet:Disabling daily seasonality. Run prophet with daily_seasonality=True to override this.\n",
      "INFO:fbprophet:n_changepoints greater than number of observations. Using 15.\n",
      "INFO:fbprophet:Disabling yearly seasonality. Run prophet with yearly_seasonality=True to override this.\n",
      "INFO:fbprophet:Disabling daily seasonality. Run prophet with daily_seasonality=True to override this.\n",
      "INFO:fbprophet:n_changepoints greater than number of observations. Using 15.\n",
      "INFO:fbprophet:Disabling yearly seasonality. Run prophet with yearly_seasonality=True to override this.\n",
      "INFO:fbprophet:Disabling daily seasonality. Run prophet with daily_seasonality=True to override this.\n",
      "INFO:fbprophet:n_changepoints greater than number of observations. Using 15.\n",
      "INFO:fbprophet:Disabling yearly seasonality. Run prophet with yearly_seasonality=True to override this.\n",
      "INFO:fbprophet:Disabling daily seasonality. Run prophet with daily_seasonality=True to override this.\n",
      "INFO:fbprophet:n_changepoints greater than number of observations. Using 15.\n",
      "INFO:fbprophet:Disabling yearly seasonality. Run prophet with yearly_seasonality=True to override this.\n",
      "INFO:fbprophet:Disabling daily seasonality. Run prophet with daily_seasonality=True to override this.\n",
      "INFO:fbprophet:n_changepoints greater than number of observations. Using 15.\n",
      "INFO:fbprophet:Disabling yearly seasonality. Run prophet with yearly_seasonality=True to override this.\n",
      "INFO:fbprophet:Disabling daily seasonality. Run prophet with daily_seasonality=True to override this.\n",
      "INFO:fbprophet:n_changepoints greater than number of observations. Using 15.\n",
      "INFO:fbprophet:Disabling yearly seasonality. Run prophet with yearly_seasonality=True to override this.\n",
      "INFO:fbprophet:Disabling daily seasonality. Run prophet with daily_seasonality=True to override this.\n",
      "INFO:fbprophet:n_changepoints greater than number of observations. Using 15.\n"
     ]
    }
   ],
   "source": [
    "feature = 'Confirmed'\n",
    "res = []\n",
    "total = 0\n",
    "\n",
    "for i in range(len(states)):\n",
    "    state = states[i]\n",
    "    ds = pd.read_csv('data/train.csv')\n",
    "    ds = ds[ds['Province_State'] == state]\n",
    "    raw = ds[feature].values\n",
    "    value = savgol_filter(raw.reshape(-1), window, degree) #smooth data\n",
    "    \n",
    "###===================================================================###   \n",
    "    scale = raw / raw[-1] * 142\n",
    "    distances = all_distance(scale)\n",
    "    diff = sum(distances[-30:])\n",
    "    max_point = distances.index(max(distances))       \n",
    "\n",
    "    if scale[80] > 100: # Grow too fast, Saturated\n",
    "        x = [[i] for i in range(142)]\n",
    "        model = Pipeline([\n",
    "            (\"poly\", PolynomialFeatures(degree=1)),\n",
    "            (\"lasso_reg\", Ridge(alpha=0)) \n",
    "        ])\n",
    "        model.fit(x[-10:], value[-10:])\n",
    "        x_test = [[i + 142] for i in range(26)]\n",
    "        y_hat = model.predict(x_test)\n",
    "        y_hat = y_hat.reshape(-1,1)\n",
    "###===================================================================###\n",
    "    else:\n",
    "        y = np.array([value[start:]]).reshape(-1, 1)\n",
    "        x = [[i + start] for i in range(142-start)]\n",
    "        model = Ridge(alpha=alpha)\n",
    "        model.fit(x, y)\n",
    "        x_test = [[i + 142] for i in range(26)]\n",
    "        y_hat = model.predict(x_test)\n",
    "        slope = (168 - 142) / (y_hat[-1] - y_hat[0]) * raw[-1] / 142\n",
    "###===================================================================###\n",
    "        move_in = pd.read_csv('data/move_in_data.csv')\n",
    "        move_out = pd.read_csv('data/move_out_data.csv')\n",
    "\n",
    "        idx = states2idx[state]\n",
    "\n",
    "        move_in = move_in.iloc[[idx]].values[0][2:]\n",
    "        move_out = move_out.iloc[[idx]].values[0][2:]\n",
    "\n",
    "        smooth_move_in = savgol_filter(move_in.reshape(-1), 11, 3)\n",
    "        smooth_move_out = savgol_filter(move_out.reshape(-1), 11, 3)\n",
    "\n",
    "        move_diff = move_in - move_out\n",
    "###===================================================================###\n",
    "        all_neg = True\n",
    "        for i in move_diff[-30:]:\n",
    "            if i > 0:\n",
    "                all_neg = False\n",
    "                break\n",
    " \n",
    "        if all_neg and (np.mean(move_diff[-14:]) - np.mean(move_diff[-28:-14]) < 0):# tend to slow down\n",
    "            move_slope = 14 / np.mean(move_diff[-14:]) - np.mean(move_diff[-28:-14]) / np.mean(move_diff[-14:-7])\n",
    "            y_hat = (y_hat - y_hat[0]) * (-move_slope) + y_hat[0] # 1 - (1 - |move_slope|)\n",
    "###===================================================================###        \n",
    "        all_pos = True    \n",
    "        for i in move_diff[-30:]:\n",
    "            if i < 0:\n",
    "                all_pos = False\n",
    "                break\n",
    " \n",
    "        if all_pos and (np.mean(move_diff[-14:]) - np.mean(move_diff[-28:-14]) > 0):# tend to speed up\n",
    "            move_slope = 14 / np.mean(move_diff[-14:]) - np.mean(move_diff[-28:-14]) / np.mean(move_diff[-14:-7])\n",
    "            y_hat = (y_hat - y_hat[0]) * (2 + move_slope) + y_hat[0] # 1 + (1 - |move_slope|)          \n",
    "###===================================================================###\n",
    "        std_move_diff = standardization(move_diff)\n",
    "        fst_mean = np.mean(std_move_diff[-28:-21])\n",
    "        snd_mean = np.mean(std_move_diff[-14:-7])\n",
    "        if abs(fst_mean - snd_mean) > 2: # detect sudden change of mobilility\n",
    "            value = savgol_filter(value.reshape(-1), window, degree)\n",
    "            y = np.array([value[start - 7:]]).reshape(-1, 1)\n",
    "            x = [[i + start - 7] for i in range(142 - start + 7)] # double training set\n",
    "            model = Ridge(alpha=alpha)\n",
    "            model.fit(x, y)\n",
    "            x_test = [[i + 142] for i in range(26)]\n",
    "            y_hat = model.predict(x_test)    \n",
    "###===================================================================###        \n",
    "        state_data = ds[-21:]\n",
    "        df_date = state_data['Date'].to_frame()\n",
    "        df_y = state_data[feature].to_frame()\n",
    "        df = pd.concat([df_y, df_date], axis=1)\n",
    "        df.columns = ['y', 'ds']\n",
    "        m = Prophet()\n",
    "        m.fit(df)\n",
    "        future = m.make_future_dataframe(periods=26)\n",
    "        forecast = m.predict(future)\n",
    "        sesonality = forecast['weekly'].values # extract seasonality from prophet\n",
    "        sesonality = sesonality\n",
    "        sesonality = sesonality[-26:].reshape(-1, 1)\n",
    "        y_hat = y_hat + sesonality # apply seasonality to our result\n",
    "###===================================================================###        \n",
    "    res.append(y_hat)"
   ]
  },
  {
   "cell_type": "code",
   "execution_count": 14,
   "metadata": {
    "id": "RWjZs8GVSpUt"
   },
   "outputs": [],
   "source": [
    "rerange = []\n",
    "for i in range(len(res[0])):\n",
    "    for j in range(len(res)):\n",
    "        rerange.append(res[j][i])\n",
    "#print(rerange)\n",
    "Confirm_df = pd.DataFrame(rerange)\n",
    "Confirm_df.to_csv(\"output_round1/{}.csv\".format(feature),index=False,sep=',')"
   ]
  },
  {
   "cell_type": "code",
   "execution_count": 15,
   "metadata": {
    "id": "QlHn17L4VcYV"
   },
   "outputs": [],
   "source": [
    "submission_df = pd.DataFrame({\"ForecastID\" : np.arange(26*50)})\n",
    "submission_df = pd.concat([submission_df, Confirm_df, Death_df], axis = 1)\n",
    "submission_df.columns = [\"ForecastID\", \"Confirmed\", \"Deaths\"]"
   ]
  },
  {
   "cell_type": "code",
   "execution_count": 16,
   "metadata": {
    "colab": {
     "base_uri": "https://localhost:8080/",
     "height": 416
    },
    "id": "qMK60rivXH0N",
    "outputId": "00406ac8-511d-44ce-c942-f0cebbe3e440"
   },
   "outputs": [
    {
     "data": {
      "text/plain": "      ForecastID      Confirmed        Deaths\n0              0  126768.444529   2190.364297\n1              1    5307.139062     38.397745\n2              2  202404.481222   5076.520324\n3              3   61518.378386    805.358833\n4              4  716449.952860  13122.890354\n...          ...            ...           ...\n1295        1295  145875.347399   2936.681731\n1296        1296   86965.981078   2062.577514\n1297        1297   14024.443660    333.989340\n1298        1298   92791.615774   1249.219263\n1299        1299    4674.081091     51.060289\n\n[1300 rows x 3 columns]",
      "text/html": "<div>\n<style scoped>\n    .dataframe tbody tr th:only-of-type {\n        vertical-align: middle;\n    }\n\n    .dataframe tbody tr th {\n        vertical-align: top;\n    }\n\n    .dataframe thead th {\n        text-align: right;\n    }\n</style>\n<table border=\"1\" class=\"dataframe\">\n  <thead>\n    <tr style=\"text-align: right;\">\n      <th></th>\n      <th>ForecastID</th>\n      <th>Confirmed</th>\n      <th>Deaths</th>\n    </tr>\n  </thead>\n  <tbody>\n    <tr>\n      <th>0</th>\n      <td>0</td>\n      <td>126768.444529</td>\n      <td>2190.364297</td>\n    </tr>\n    <tr>\n      <th>1</th>\n      <td>1</td>\n      <td>5307.139062</td>\n      <td>38.397745</td>\n    </tr>\n    <tr>\n      <th>2</th>\n      <td>2</td>\n      <td>202404.481222</td>\n      <td>5076.520324</td>\n    </tr>\n    <tr>\n      <th>3</th>\n      <td>3</td>\n      <td>61518.378386</td>\n      <td>805.358833</td>\n    </tr>\n    <tr>\n      <th>4</th>\n      <td>4</td>\n      <td>716449.952860</td>\n      <td>13122.890354</td>\n    </tr>\n    <tr>\n      <th>...</th>\n      <td>...</td>\n      <td>...</td>\n      <td>...</td>\n    </tr>\n    <tr>\n      <th>1295</th>\n      <td>1295</td>\n      <td>145875.347399</td>\n      <td>2936.681731</td>\n    </tr>\n    <tr>\n      <th>1296</th>\n      <td>1296</td>\n      <td>86965.981078</td>\n      <td>2062.577514</td>\n    </tr>\n    <tr>\n      <th>1297</th>\n      <td>1297</td>\n      <td>14024.443660</td>\n      <td>333.989340</td>\n    </tr>\n    <tr>\n      <th>1298</th>\n      <td>1298</td>\n      <td>92791.615774</td>\n      <td>1249.219263</td>\n    </tr>\n    <tr>\n      <th>1299</th>\n      <td>1299</td>\n      <td>4674.081091</td>\n      <td>51.060289</td>\n    </tr>\n  </tbody>\n</table>\n<p>1300 rows × 3 columns</p>\n</div>"
     },
     "execution_count": 16,
     "metadata": {},
     "output_type": "execute_result"
    }
   ],
   "source": [
    "submission_df"
   ]
  },
  {
   "cell_type": "code",
   "execution_count": 17,
   "metadata": {
    "id": "p1pd2VKlaVat",
    "pycharm": {
     "name": "#%%\n"
    }
   },
   "outputs": [
    {
     "name": "stdout",
     "output_type": "stream",
     "text": [
      "                Confirmed        Deaths\n",
      "ForecastID                             \n",
      "0           126768.444529   2190.364297\n",
      "1             5307.139062     38.397745\n",
      "2           202404.481222   5076.520324\n",
      "3            61518.378386    805.358833\n",
      "4           716449.952860  13122.890354\n",
      "...                   ...           ...\n",
      "1295        145875.347399   2936.681731\n",
      "1296         86965.981078   2062.577514\n",
      "1297         14024.443660    333.989340\n",
      "1298         92791.615774   1249.219263\n",
      "1299          4674.081091     51.060289\n",
      "\n",
      "[1300 rows x 2 columns]\n"
     ]
    }
   ],
   "source": [
    "formatted_df = submission_df.copy()\n",
    "formatted_df.index = submission_df['ForecastID']\n",
    "formatted_df.drop(columns='ForecastID', inplace=True)\n",
    "print(formatted_df)\n",
    "formatted_df.to_csv('round1.csv')"
   ]
  }
 ],
 "metadata": {
  "colab": {
   "collapsed_sections": [],
   "name": "Round1.ipynb",
   "provenance": []
  },
  "kernelspec": {
   "display_name": "PyCharm (PycharmProjects)",
   "language": "python",
   "name": "pycharm-26adf121"
  },
  "language_info": {
   "codemirror_mode": {
    "name": "ipython",
    "version": 3
   },
   "file_extension": ".py",
   "mimetype": "text/x-python",
   "name": "python",
   "nbconvert_exporter": "python",
   "pygments_lexer": "ipython3",
   "version": "3.7.3"
  }
 },
 "nbformat": 4,
 "nbformat_minor": 1
}