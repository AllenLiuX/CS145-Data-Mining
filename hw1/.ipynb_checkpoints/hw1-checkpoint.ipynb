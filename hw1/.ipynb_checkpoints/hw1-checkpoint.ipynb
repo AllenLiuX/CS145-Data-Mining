{
 "cells": [
  {
   "cell_type": "markdown",
   "metadata": {},
   "source": [
    "# CS145 Howework 1 \n",
    "\n",
    "<span style=\"color:red\"> **Important Note:** </span>\n",
    "HW1 is due on **11:59 PM PT, Oct 19 (Monday, Week 3)**. Please submit through GradeScope (you will receive an invite to Gradescope for CS145 Fall 2020.). \n",
    "\n",
    "## Print Out Your Name and UID\n",
    "\n",
    "<span style=\"color:blue\"> **Name: Wenxuan Liu, UID: 805152602** </span>\n",
    "\n",
    "## Before You Start\n",
    "\n",
    "You need to first create HW1 conda environment by the given `cs145hw1.yml` file, which provides the name and necessary packages for this tasks. If you have `conda` properly installed, you may create, activate or deactivate by the following commands:\n",
    "\n",
    "```\n",
    "conda env create -f cs145hw1.yml\n",
    "conda activate hw1\n",
    "conda deactivate\n",
    "```\n",
    "OR \n",
    "\n",
    "```\n",
    "conda env create --name NAMEOFYOURCHOICE -f cs145hw1.yml \n",
    "conda activate NAMEOFYOURCHOICE\n",
    "conda deactivate\n",
    "```\n",
    "To view the list of your environments, use the following command:\n",
    "```\n",
    "conda env list\n",
    "```\n",
    "\n",
    "More useful information about managing environments can be found [here](https://docs.conda.io/projects/conda/en/latest/user-guide/tasks/manage-environments.html).\n",
    "\n",
    "You may also quickly review the usage of basic Python and Numpy package, if needed in coding for matrix operations.\n",
    "\n",
    "In this notebook, you must not delete any code cells in this notebook. If you change any code outside the blocks that you are allowed to edit (between `STRART/END YOUR CODE HERE`), you need to highlight these changes. You may add some additional cells to help explain your results and observations."
   ]
  },
  {
   "cell_type": "code",
   "execution_count": 56,
   "metadata": {},
   "outputs": [
    {
     "name": "stdout",
     "output_type": "stream",
     "text": [
      "The autoreload extension is already loaded. To reload it, use:\n",
      "  %reload_ext autoreload\n"
     ]
    }
   ],
   "source": [
    "import numpy as np \n",
    "import pandas as pd\n",
    "import sys \n",
    "import random as rd\n",
    "import matplotlib.pyplot as plt\n",
    "%load_ext autoreload\n",
    "%autoreload 2"
   ]
  },
  {
   "cell_type": "markdown",
   "metadata": {},
   "source": [
    "If you can successfully run the code above, there will be no problem for environment setting."
   ]
  },
  {
   "cell_type": "markdown",
   "metadata": {},
   "source": [
    "## 1. Linear regression \n",
    "This workbook will walk you through a linear regression example. "
   ]
  },
  {
   "cell_type": "code",
   "execution_count": 57,
   "metadata": {},
   "outputs": [
    {
     "name": "stdout",
     "output_type": "stream",
     "text": [
      "Training data shape:  (1000, 100)\n",
      "Training labels shape: (1000,)\n"
     ]
    }
   ],
   "source": [
    "from hw1code.linear_regression import LinearRegression\n",
    "\n",
    "lm=LinearRegression()\n",
    "lm.load_data('./data/linear-regression-train.csv','./data/linear-regression-test.csv')\n",
    "# As a sanity check, we print out the size of the training data (1000, 100) and training labels (1000,)\n",
    "print('Training data shape: ', lm.train_x.shape)\n",
    "print('Training labels shape:', lm.train_y.shape)"
   ]
  },
  {
   "cell_type": "markdown",
   "metadata": {},
   "source": [
    "### 1.1 Closed form solution\n",
    "In this section, complete the `getBeta` function in `linear_regression.py` which use the close for solution of $\\hat{\\beta}$.\n",
    "\n",
    "Train you model by using `lm.train('0')` function.\n",
    "\n",
    "Print the training error and the testing error using `lm.predict` and `lm.compute_mse` given."
   ]
  },
  {
   "cell_type": "code",
   "execution_count": 58,
   "metadata": {},
   "outputs": [
    {
     "name": "stdout",
     "output_type": "stream",
     "text": [
      "Learning Algorithm Type:  0\n",
      "Training error is:  0.08693886675396784\n",
      "Testing error is:  0.11017540281675804\n"
     ]
    }
   ],
   "source": [
    "from hw1code.linear_regression import LinearRegression\n",
    "\n",
    "lm=LinearRegression()\n",
    "lm.load_data('./data/linear-regression-train.csv','./data/linear-regression-test.csv')\n",
    "training_error= 0\n",
    "testing_error= 0\n",
    "#========================#\n",
    "# STRART YOUR CODE HERE  #\n",
    "#========================#\n",
    "\n",
    "beta = lm.train('0')\n",
    "y_train_pred = lm.predict(lm.train_x, beta)\n",
    "y_test_pred = lm.predict(lm.test_x, beta)\n",
    "\n",
    "training_error = lm.compute_mse(y_train_pred, lm.train_y)\n",
    "testing_error = lm.compute_mse(y_test_pred, lm.test_y)\n",
    "\n",
    "#========================#\n",
    "#   END YOUR CODE HERE   #\n",
    "#========================# \n",
    "print('Training error is: ', training_error)\n",
    "print('Testing error is: ', testing_error)"
   ]
  },
  {
   "cell_type": "markdown",
   "metadata": {},
   "source": [
    "### 1.2 Batch gradient descent\n",
    "In this section, complete the `getBetaBatchGradient` function in `linear_regression.py` which compute the gradient of the objective fuction. \n",
    "\n",
    "Train you model by using `lm.train('1')` function.\n",
    "\n",
    "Print the training error and the testing error using `lm.predict` and `lm.compute_mse` given."
   ]
  },
  {
   "cell_type": "code",
   "execution_count": 59,
   "metadata": {},
   "outputs": [
    {
     "name": "stdout",
     "output_type": "stream",
     "text": [
      "Learning Algorithm Type:  1\n",
      "Training accuracy is:  0.08693897242330627\n",
      "Testing accuracy is:  0.11018612687974925\n"
     ]
    }
   ],
   "source": [
    "lm=LinearRegression()\n",
    "lm.load_data('./data/linear-regression-train.csv','./data/linear-regression-test.csv')\n",
    "training_error= 0\n",
    "testing_error= 0\n",
    "#========================#\n",
    "# STRART YOUR CODE HERE  #\n",
    "#========================#\n",
    "\n",
    "beta = lm.train('1')\n",
    "y_train_pred = lm.predict(lm.train_x, beta)\n",
    "y_test_pred = lm.predict(lm.test_x, beta)\n",
    "\n",
    "training_error = lm.compute_mse(y_train_pred, lm.train_y)\n",
    "testing_error = lm.compute_mse(y_test_pred, lm.test_y)\n",
    "\n",
    "#========================#\n",
    "#   END YOUR CODE HERE   #\n",
    "#========================# \n",
    "print('Training accuracy is: ', training_error)\n",
    "print('Testing accuracy is: ', testing_error)"
   ]
  },
  {
   "cell_type": "markdown",
   "metadata": {},
   "source": [
    "### 1.3 Stochastic gadient descent \n",
    "In this section, complete the `getBetaStochasticGradient` function in `linear_regression.py`, which use an estimated gradient of the objective function.\n",
    "\n",
    "Train you model by using `lm.train('2')` function.\n",
    "\n",
    "Print the training error and the testing error using `lm.predict` and `lm.compute_mse` given."
   ]
  },
  {
   "cell_type": "code",
   "execution_count": 60,
   "metadata": {},
   "outputs": [
    {
     "name": "stdout",
     "output_type": "stream",
     "text": [
      "Learning Algorithm Type:  2\n",
      "Training accuracy is:  0.09583964263625265\n",
      "Testing accuracy is:  0.11707460131538608\n"
     ]
    }
   ],
   "source": [
    "lm=LinearRegression()\n",
    "lm.load_data('./data/linear-regression-train.csv','./data/linear-regression-test.csv')\n",
    "training_error= 0\n",
    "testing_error= 0\n",
    "#========================#\n",
    "# STRART YOUR CODE HERE  #\n",
    "#========================#\n",
    "\n",
    "lm.lr = 0.0005  # to avoid overflow\n",
    "beta = lm.train('2')\n",
    "y_train_pred = lm.predict(lm.train_x, beta)\n",
    "y_test_pred = lm.predict(lm.test_x, beta)\n",
    "\n",
    "training_error = lm.compute_mse(y_train_pred, lm.train_y)\n",
    "testing_error = lm.compute_mse(y_test_pred, lm.test_y)\n",
    "\n",
    "#========================#\n",
    "#   END YOUR CODE HERE   #\n",
    "#========================# \n",
    "print('Training accuracy is: ', training_error)\n",
    "print('Testing accuracy is: ', testing_error)"
   ]
  },
  {
   "cell_type": "markdown",
   "metadata": {},
   "source": [
    "### Questions: \n",
    "1. Compare the MSE on the testing dataset for each version. Are they the same? Why or why not?\n",
    "2. Apply z-score normalization for eachh featrure and comment whether or not it affect the three algorithm. \n",
    "3. Ridge regression is adding an L2 regularization term to the original objective function of mean squared error. The objective function become following: \n",
    "    $$ J(\\beta) = \\frac{1}{2n} \\sum_i \\left(x_i^T\\beta - y_i \\right)^2 + \\frac{\\lambda}{2n} \\sum_j \\beta_j^2 ,$$ \n",
    "where $\\lambda \\geq 0$, which is a hyper parameter that controls the trade off. Take the derivative of this provided objective function and derive the closed form solution for $\\beta$. "
   ]
  },
  {
   "cell_type": "markdown",
   "metadata": {},
   "source": [
    "### Your answer here: \n"
   ]
  },
  {
   "cell_type": "markdown",
   "metadata": {},
   "source": [
    "<span style=\"color:blue\">\n",
    "1. Compute the MSE on test dataset for each version:\n",
    "<span>"
   ]
  },
  {
   "cell_type": "code",
   "execution_count": 61,
   "metadata": {
    "pycharm": {
     "name": "#%%\n"
    }
   },
   "outputs": [
    {
     "name": "stdout",
     "output_type": "stream",
     "text": [
      "Learning Algorithm Type:  0\n",
      "Testing error is:  0.11017540281675804 \n",
      "\n",
      "Learning Algorithm Type:  1\n",
      "Testing error is:  0.1139244819746439 \n",
      "\n",
      "Learning Algorithm Type:  2\n",
      "Testing error is:  0.1973558594621252 \n",
      "\n"
     ]
    }
   ],
   "source": [
    "lm=LinearRegression()\n",
    "lm.load_data('./data/linear-regression-train.csv','./data/linear-regression-test.csv')\n",
    "# training_error= 0\n",
    "testing_error= 0\n",
    "lm.lr = 0.002  # to avoid overflow\n",
    "for method in ('0','1','2'):\n",
    "    beta = lm.train(method)\n",
    "    testing_error = lm.compute_mse(lm.predict(lm.test_x, beta), lm.test_y)\n",
    "    print('Testing error is: ', testing_error, '\\n')"
   ]
  },
  {
   "cell_type": "markdown",
   "metadata": {
    "pycharm": {
     "name": "#%% md\n"
    }
   },
   "source": [
    "<span style=\"color:blue\">\n",
    "The MSE for each version of linear regression is not the same, but they are very close.\n",
    "\n",
    "They are different because they took different optimization paths such that '0' uses direct computation, '1' uses batch gradient descent, and '2' uses Stochastic gradient descent. They are very close because they are all optimized in the linear regression way and took the same learning rate, so the optimizing paths are very close.\n",
    "\n",
    "2. Test the normalized version of algorithms:\n",
    "<span>"
   ]
  },
  {
   "cell_type": "code",
   "execution_count": 62,
   "metadata": {
    "pycharm": {
     "is_executing": true,
     "name": "#%%\n"
    }
   },
   "outputs": [
    {
     "name": "stdout",
     "output_type": "stream",
     "text": [
      "Learning Algorithm Type:  0\n",
      "Testing error is:  0.11017540281675804 \n",
      "\n",
      "Learning Algorithm Type:  1\n",
      "Testing error is:  1.0811155806695387 \n",
      "\n",
      "Learning Algorithm Type:  2\n",
      "Testing error is:  0.11419008740447903 \n",
      "\n"
     ]
    }
   ],
   "source": [
    "lm=LinearRegression()\n",
    "lm.load_data('./data/linear-regression-train.csv','./data/linear-regression-test.csv')\n",
    "# training_error= 0\n",
    "testing_error= 0\n",
    "lm.lr = 0.002  # to avoid overflow\n",
    "lm.normalize()\n",
    "for method in ('0','1','2'):\n",
    "    beta = lm.train(method)\n",
    "    testing_error = lm.compute_mse(lm.predict(lm.test_x, beta), lm.test_y)\n",
    "    print('Testing error is: ', testing_error, '\\n')"
   ]
  },
  {
   "cell_type": "markdown",
   "metadata": {
    "pycharm": {
     "name": "#%% md\n"
    }
   },
   "source": [
    "<span style=\"color:blue\">\n",
    "\n",
    "The z-score normalization for each feature does not affect the closed form, but would affect SGD and BGD. Because linear regression takes the form of multiplying $\\beta_i$ for each feature, so normalizing the feature basically would only affect the scale of the $\\beta_i$, but not affect the accuracy of the closed form.\n",
    "However, normalization affects gradient descent algorithms because it makes each feature equally important for optimization and it prevents quick converging for the gradient descent.\n",
    "\n",
    "3.\n",
    "The answer is $\\beta = (X^TX+\\lambda I)^{-1} X^T y$.\n",
    "The deduction steps are as followed:\n",
    "\n",
    "First, transform into matrix form:\n",
    "\n",
    "$$ J(\\beta)=\\frac{1}{2n}(X\\beta-Y)^T(X\\beta-Y)+\\frac{\\lambda}{2n}\\beta^T\\beta $$\n",
    "\n",
    "Then take the derivative(as we already know the left part which is the same as OLS):\n",
    "\n",
    "$$ \\frac{\\partial J(\\beta)}{\\partial \\beta}=(X^TX\\beta - X^Ty)/n+\\frac{\\partial J}{\\partial \\beta}(\\frac{\\lambda}{2n}\\beta^T\\beta)$$\n",
    "\n",
    "$$ \\rightarrow \\frac{\\partial J(\\beta)}{\\partial \\beta} = (X^TX\\beta-X^Ty)/n+\\frac{\\lambda}{n}\\beta $$\n",
    "\n",
    "Set the derivative to zero:\n",
    "\n",
    "$$ 0=\\frac{1}{n}(X^TX\\beta-X^Ty+\\lambda\\beta) $$\n",
    "\n",
    "$$ \\rightarrow X^Ty = X^TX\\beta+\\lambda \\beta $$\n",
    "\n",
    "$$ \\rightarrow X^Ty = \\beta(X^TX+\\lambda I) $$\n",
    "\n",
    "$$ \\rightarrow \\beta = (X^TX+\\lambda I)^{-1} X^T y $$\n",
    "</span>"
   ]
  },
  {
   "cell_type": "markdown",
   "metadata": {},
   "source": [
    "## 2. Logistic regression \n",
    "This workbook will walk you through a logistic regression example. "
   ]
  },
  {
   "cell_type": "code",
   "execution_count": 63,
   "metadata": {
    "pycharm": {
     "is_executing": true
    }
   },
   "outputs": [
    {
     "name": "stdout",
     "output_type": "stream",
     "text": [
      "Training data shape:  (1000, 5)\n",
      "Training labels shape: (1000,)\n"
     ]
    }
   ],
   "source": [
    "from hw1code.logistic_regression import LogisticRegression\n",
    "\n",
    "lm=LogisticRegression()\n",
    "lm.load_data('./data/logistic-regression-train.csv','./data/logistic-regression-test.csv')\n",
    "# As a sanity chech, we print out the size of the training data (1000, 5) and training labels (1000,)\n",
    "print('Training data shape: ', lm.train_x.shape)\n",
    "print('Training labels shape:', lm.train_y.shape)"
   ]
  },
  {
   "cell_type": "markdown",
   "metadata": {},
   "source": [
    "### 2.1 Batch gradiend descent\n",
    "In this section, complete the `getBeta_BatchGradient` in `logistic_regression.py`, which compute the gradient of the log likelihoood function. \n",
    "\n",
    "Complete the `compute_avglogL` function in `logistic_regression.py` for sanity check. \n",
    "\n",
    "Train you model by using `lm.train('0')` function.\n",
    "\n",
    "And print the training and testing accuracy using `lm.predict` and `lm.compute_accuracy` given. "
   ]
  },
  {
   "cell_type": "code",
   "execution_count": 64,
   "metadata": {
    "pycharm": {
     "is_executing": true
    }
   },
   "outputs": [
    {
     "name": "stdout",
     "output_type": "stream",
     "text": [
      "average logL for iteration 0: -0.5069864418045587 \t\n",
      "average logL for iteration 1000: -0.460100375350853 \t\n",
      "average logL for iteration 2000: -0.460100375350853 \t\n",
      "average logL for iteration 3000: -0.460100375350853 \t\n",
      "average logL for iteration 4000: -0.460100375350853 \t\n",
      "average logL for iteration 5000: -0.460100375350853 \t\n",
      "average logL for iteration 6000: -0.460100375350853 \t\n",
      "average logL for iteration 7000: -0.460100375350853 \t\n",
      "average logL for iteration 8000: -0.460100375350853 \t\n",
      "average logL for iteration 9000: -0.460100375350853 \t\n",
      "Training avgLogL:  -0.460100375350853\n",
      "Training accuracy is:  0.797\n",
      "Testing accuracy is:  0.7534791252485089\n"
     ]
    }
   ],
   "source": [
    "lm=LogisticRegression()\n",
    "lm.load_data('./data/logistic-regression-train.csv','./data/logistic-regression-test.csv')\n",
    "training_accuracy= 0\n",
    "testing_accuracy= 0\n",
    "#========================#\n",
    "# STRART YOUR CODE HERE  #\n",
    "#========================#\n",
    "\n",
    "lm.normalize()\n",
    "\n",
    "beta = lm.train('0')\n",
    "y_train_pred = lm.predict(lm.train_x, beta)\n",
    "y_test_pred = lm.predict(lm.test_x, beta)\n",
    "\n",
    "training_accuracy = lm.compute_accuracy(y_train_pred, lm.train_y)\n",
    "testing_accuracy = lm.compute_accuracy(y_test_pred, lm.test_y)\n",
    "\n",
    "#========================#\n",
    "#   END YOUR CODE HERE   #\n",
    "#========================# \n",
    "print('Training accuracy is: ', training_accuracy)\n",
    "print('Testing accuracy is: ', testing_accuracy)"
   ]
  },
  {
   "cell_type": "markdown",
   "metadata": {},
   "source": [
    "### 2.2 Newton Raphhson\n",
    "In this section, complete the `getBeta_Newton` in `logistic_regression.py`, which make use of both first and second derivative.\n",
    "\n",
    "Train you model by using `lm.train('1')` function.\n",
    "\n",
    "Print the training and testing accuracy using `lm.predict` and `lm.compute_accuracy` given. "
   ]
  },
  {
   "cell_type": "code",
   "execution_count": 65,
   "metadata": {
    "pycharm": {
     "is_executing": true
    }
   },
   "outputs": [
    {
     "name": "stdout",
     "output_type": "stream",
     "text": [
      "average logL for iteration 0: -0.49788520389331575 \t\n",
      "average logL for iteration 500: -0.460100375350853 \t\n",
      "average logL for iteration 1000: -0.460100375350853 \t\n",
      "average logL for iteration 1500: -0.460100375350853 \t\n",
      "average logL for iteration 2000: -0.460100375350853 \t\n",
      "average logL for iteration 2500: -0.460100375350853 \t\n",
      "average logL for iteration 3000: -0.460100375350853 \t\n",
      "average logL for iteration 3500: -0.460100375350853 \t\n",
      "average logL for iteration 4000: -0.460100375350853 \t\n",
      "average logL for iteration 4500: -0.460100375350853 \t\n",
      "average logL for iteration 5000: -0.4601003753508531 \t\n",
      "average logL for iteration 5500: -0.460100375350853 \t\n",
      "average logL for iteration 6000: -0.460100375350853 \t\n",
      "average logL for iteration 6500: -0.460100375350853 \t\n",
      "average logL for iteration 7000: -0.460100375350853 \t\n",
      "average logL for iteration 7500: -0.460100375350853 \t\n",
      "average logL for iteration 8000: -0.460100375350853 \t\n",
      "average logL for iteration 8500: -0.460100375350853 \t\n",
      "average logL for iteration 9000: -0.460100375350853 \t\n",
      "average logL for iteration 9500: -0.460100375350853 \t\n",
      "Training avgLogL:  -0.460100375350853\n",
      "Training accuracy is:  0.797\n",
      "Testing accuracy is:  0.7534791252485089\n"
     ]
    }
   ],
   "source": [
    "lm=LogisticRegression()\n",
    "lm.load_data('./data/logistic-regression-train.csv','./data/logistic-regression-test.csv')\n",
    "training_accuracy= 0\n",
    "testing_accuracy= 0\n",
    "#========================#\n",
    "# STRART YOUR CODE HERE  #\n",
    "#========================#\n",
    "\n",
    "lm.normalize()\n",
    "\n",
    "beta = lm.train('1')\n",
    "y_train_pred = lm.predict(lm.train_x, beta)\n",
    "y_test_pred = lm.predict(lm.test_x, beta)\n",
    "\n",
    "training_accuracy = lm.compute_accuracy(y_train_pred, lm.train_y)\n",
    "testing_accuracy = lm.compute_accuracy(y_test_pred, lm.test_y)\n",
    "\n",
    "#========================#\n",
    "#   END YOUR CODE HERE   #\n",
    "#========================# \n",
    "print('Training accuracy is: ', training_accuracy)\n",
    "print('Testing accuracy is: ', testing_accuracy)"
   ]
  },
  {
   "cell_type": "markdown",
   "metadata": {},
   "source": [
    "### Questions: \n",
    "1. Compare the accuracy on the testing dataset for each version. Are they the same? Why or why not?\n",
    "2. Regularization. Similar to linear regression, an regularization term could be added to logistic regression. \n",
    "The objective function becomes following: \n",
    "    $$ J(\\beta) = -\\frac{1}{n} \\sum_i \\left(y_i x_i^T \\beta - \\log \\left( 1+ \\exp\\{ x_i^T \\beta \\} \\right) \\right) + \\lambda \\sum_j \\beta_j^2,$$ \n",
    "where $\\lambda \\geq 0$, which is a hyper parameter that controls the trade off. Take the derivative $\\frac{\\partial J(\\beta)}{\\partial \\beta_j}$ of this provided objective function and provide the batch gradient descent update."
   ]
  },
  {
   "cell_type": "markdown",
   "metadata": {},
   "source": [
    "### Your answer here:"
   ]
  },
  {
   "cell_type": "markdown",
   "metadata": {},
   "source": [
    "<span style=\"color:blue\">\n",
    "1. Their accuracy are same(around 0.75). Because the two algorithms both converge to the optimized point, although with different converging speed. However, with large enough iterations, they basically took the similar regression path, and reach the same optimized accuracy.\n",
    "\n",
    "2. The result is $\\beta_j^{t+1} = B_j^t + \\eta \\left(\\frac{1}{n} \\sum_{i=1}^n x_{ij}(y_i-p_i(\\beta)) - 2 \\lambda \\beta_j\\right)$\n",
    "\n",
    "First, compute the gradient(as we already know the first derivative of the left part)\n",
    "\n",
    "$$ \\frac{\\partial J}{\\partial \\beta_j} = -\\frac{1}{n} \\sum_{i=1}^n x_{ij}(y_i-p_i(\\beta)) + \\frac{\\partial}{\\partial \\beta_j}\\lambda \\sum_j \\beta_j^2$$\n",
    "\n",
    "$$ \\rightarrow \\frac{\\partial J}{\\partial \\beta_j} = -\\frac{1}{n} \\sum_{i=1}^n x_{ij}(y_i-p_i(\\beta)) + 2 \\lambda \\beta_j$$\n",
    "\n",
    "Then, as we have the gradient ascent update $$ \\beta_j^{t+1} = B_j^t - \\eta \\frac{\\partial J}{\\partial \\beta_j} $$, we can further do the deduction:\n",
    "\n",
    "$$ \\beta_j^{t+1} = B_j^t + \\eta \\left(\\frac{1}{n} \\sum_{i=1}^n x_{ij}(y_i-p_i(\\beta)) - 2 \\lambda \\beta_j\\right) $$\n",
    "\n"
   ]
  },
  {
   "cell_type": "markdown",
   "metadata": {
    "pycharm": {
     "name": "#%% md\n"
    }
   },
   "source": [
    "</span>"
   ]
  },
  {
   "cell_type": "markdown",
   "metadata": {},
   "source": [
    "### 2.3 Visualize the decision boundary on a toy dataset\n",
    "\n",
    "In this subsection, you will use the same implementation for another small dataset with each datapoint $x$ with only two features $(x_1, x_2)$ to visualize the decision boundary of logistic regression model."
   ]
  },
  {
   "cell_type": "code",
   "execution_count": 66,
   "metadata": {
    "pycharm": {
     "is_executing": true
    }
   },
   "outputs": [
    {
     "name": "stdout",
     "output_type": "stream",
     "text": [
      "Training data shape:  (99, 2)\n",
      "Training labels shape: (99,)\n"
     ]
    }
   ],
   "source": [
    "from hw1code.logistic_regression import LogisticRegression\n",
    "\n",
    "lm=LogisticRegression(verbose = False)\n",
    "lm.load_data('./data/logistic-regression-toy.csv','./data/logistic-regression-toy.csv')\n",
    "# As a sanity chech, we print out the size of the training data (99,2) and training labels (99,)\n",
    "print('Training data shape: ', lm.train_x.shape)\n",
    "print('Training labels shape:', lm.train_y.shape)"
   ]
  },
  {
   "cell_type": "markdown",
   "metadata": {},
   "source": [
    "In the following block, you can apply the same implementation of logistic regression model (either in 2.1 or 2.2) to the toy dataset. Print out the $\\hat{\\beta}$ after training and accuracy on the train set.  "
   ]
  },
  {
   "cell_type": "code",
   "execution_count": 67,
   "metadata": {
    "pycharm": {
     "is_executing": true
    }
   },
   "outputs": [
    {
     "name": "stdout",
     "output_type": "stream",
     "text": [
      "Training avgLogL:  -0.32914743129571195\n",
      "Beta is [-0.04717577  1.46005896  2.06586134]\n",
      "Training accuracy is:  0.8888888888888888\n"
     ]
    }
   ],
   "source": [
    "training_accuracy= 0\n",
    "#========================#\n",
    "# STRART YOUR CODE HERE  #\n",
    "#========================#\n",
    "lm.normalize()\n",
    "beta = lm.train('0')\n",
    "\n",
    "y_train_pred = lm.predict(lm.train_x, beta)\n",
    "y_test_pred = lm.predict(lm.test_x, beta)\n",
    "\n",
    "training_accuracy = lm.compute_accuracy(y_train_pred, lm.train_y)\n",
    "testing_accuracy = lm.compute_accuracy(y_test_pred, lm.test_y)\n",
    "\n",
    "print('Beta is', beta)\n",
    "#========================#\n",
    "#   END YOUR CODE HERE   #\n",
    "#========================# \n",
    "print('Training accuracy is: ', training_accuracy)"
   ]
  },
  {
   "cell_type": "markdown",
   "metadata": {},
   "source": [
    "Next, we try to plot the decision boundary of your learned logistic regression classifier. Generally, a decision boundary is the region of a space in which the output label of a classifier is ambiguous. That is, in the given toy data, given a datapoint $x=(x_1, x_2)$ on the decision boundary, the logistic regression classifier cannot decide whether $y=0$ or $y=1$. "
   ]
  },
  {
   "cell_type": "markdown",
   "metadata": {},
   "source": [
    "### Question\n",
    "\n",
    "Is the decision boundary for logistic regression linear? Why or why not?"
   ]
  },
  {
   "cell_type": "markdown",
   "metadata": {},
   "source": [
    "### Your answer here:"
   ]
  },
  {
   "cell_type": "markdown",
   "metadata": {},
   "source": [
    "<span style=\"color:blue\"> Please type your answer here! </span>"
   ]
  },
  {
   "cell_type": "markdown",
   "metadata": {},
   "source": [
    "Draw the decision boundary in the following cell. Note that the code to plot the raw data points are given. You may need `plt.plot` function (see [here](https://matplotlib.org/tutorials/introductory/pyplot.html)). "
   ]
  },
  {
   "cell_type": "code",
   "execution_count": 68,
   "metadata": {
    "pycharm": {
     "is_executing": true
    }
   },
   "outputs": [
    {
     "data": {
      "image/png": "[encoded data removed]",
      "text/plain": [
       "<Figure size 432x288 with 1 Axes>"
      ]
     },
     "metadata": {
      "needs_background": "light"
     },
     "output_type": "display_data"
    }
   ],
   "source": [
    "# scatter plot the raw data\n",
    "df = pd.concat([lm.train_x, lm.train_y], axis=1)\n",
    "groups = df.groupby(\"y\")\n",
    "for name, group in groups:\n",
    "    plt.plot(group[\"x1\"], group[\"x2\"], marker=\"o\", linestyle=\"\", label=name)\n",
    "    \n",
    "# plot the decision boundary on top of the scattered points\n",
    "#========================#\n",
    "# STRART YOUR CODE HERE  #\n",
    "#========================#\n",
    "x = np.array([-2, 2])\n",
    "y = (beta[0] + beta[1]*x)/(-beta[2])\n",
    "\n",
    "plt.plot(x, y)\n",
    "#========================#\n",
    "#   END YOUR CODE HERE   #\n",
    "#========================#\n",
    "plt.show()"
   ]
  },
  {
   "cell_type": "markdown",
   "metadata": {},
   "source": [
    "# End of Homework 1 :)\n",
    "After you've finished the homework, please print out the entire `ipynb` notebook and two `py` files into one PDF file. Make sure you include the output of code cells and answers for questions. Prepare submit it to GradeScope. "
   ]
  },
  {
   "cell_type": "code",
   "execution_count": null,
   "metadata": {},
   "outputs": [],
   "source": []
  },
  {
   "cell_type": "code",
   "execution_count": null,
   "metadata": {},
   "outputs": [],
   "source": []
  }
 ],
 "metadata": {
  "kernelspec": {
   "display_name": "Python 3",
   "language": "python",
   "name": "python3"
  },
  "language_info": {
   "codemirror_mode": {
    "name": "ipython",
    "version": 3
   },
   "file_extension": ".py",
   "mimetype": "text/x-python",
   "name": "python",
   "nbconvert_exporter": "python",
   "pygments_lexer": "ipython3",
   "version": "3.7.3"
  }
 },
 "nbformat": 4,
 "nbformat_minor": 4
}
