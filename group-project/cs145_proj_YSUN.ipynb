{
 "nbformat": 4,
 "nbformat_minor": 0,
 "metadata": {
  "colab": {
   "name": "cs145_proj_YSUN.ipynb",
   "provenance": [],
   "collapsed_sections": [
    "c2Faca-gNkFR"
   ],
   "authorship_tag": "ABX9TyOfRlpTvSpMXIRuYamNd5H6"
  },
  "kernelspec": {
   "name": "python3",
   "language": "python",
   "display_name": "Python 3"
  }
 },
 "cells": [
  {
   "cell_type": "code",
   "metadata": {
    "id": "Nk0YWcdt5R5H",
    "executionInfo": {
     "status": "ok",
     "timestamp": 1604187226333,
     "user_tz": 300,
     "elapsed": 1582,
     "user": {
      "displayName": "Thomas Sun",
      "photoUrl": "https://lh3.googleusercontent.com/a-/AOh14Gge-4Dkf8K882kgbBR9hPTcHW4PsnCxrfeR01sDBw=s64",
      "userId": "06890183580794949868"
     }
    }
   },
   "source": [
    "import pandas as pd\n",
    "import numpy as np \n",
    "from sklearn.model_selection import train_test_split\n",
    "import torch\n",
    "from torch.utils.data import Dataset, DataLoader\n",
    "from torch.autograd import Variable\n",
    "import torch.nn.functional as F\n",
    "from sklearn.metrics import mean_squared_error\n",
    "import seaborn as sns\n",
    "import numpy as np\n",
    "import matplotlib.colors as mcolors\n",
    "import matplotlib.pyplot as plt\n",
    "import sklearn\n",
    "from sklearn import preprocessing\n",
    "import statistics \n",
    "from tqdm import tqdm\n",
    "import copy\n",
    "from random import randint \n",
    "import math\n",
    "from matplotlib import ticker\n",
    "from google.colab import files"
   ],
   "execution_count": 1,
   "outputs": [
    {
     "ename": "ModuleNotFoundError",
     "evalue": "No module named 'torch'",
     "output_type": "error",
     "traceback": [
      "\u001B[0;31m---------------------------------------------------------------------------\u001B[0m",
      "\u001B[0;31mModuleNotFoundError\u001B[0m                       Traceback (most recent call last)",
      "\u001B[0;32m<ipython-input-1-c74767a1d359>\u001B[0m in \u001B[0;36m<module>\u001B[0;34m\u001B[0m\n\u001B[1;32m      2\u001B[0m \u001B[0;32mimport\u001B[0m \u001B[0mnumpy\u001B[0m \u001B[0;32mas\u001B[0m \u001B[0mnp\u001B[0m\u001B[0;34m\u001B[0m\u001B[0;34m\u001B[0m\u001B[0m\n\u001B[1;32m      3\u001B[0m \u001B[0;32mfrom\u001B[0m \u001B[0msklearn\u001B[0m\u001B[0;34m.\u001B[0m\u001B[0mmodel_selection\u001B[0m \u001B[0;32mimport\u001B[0m \u001B[0mtrain_test_split\u001B[0m\u001B[0;34m\u001B[0m\u001B[0;34m\u001B[0m\u001B[0m\n\u001B[0;32m----> 4\u001B[0;31m \u001B[0;32mimport\u001B[0m \u001B[0mtorch\u001B[0m\u001B[0;34m\u001B[0m\u001B[0;34m\u001B[0m\u001B[0m\n\u001B[0m\u001B[1;32m      5\u001B[0m \u001B[0;32mfrom\u001B[0m \u001B[0mtorch\u001B[0m\u001B[0;34m.\u001B[0m\u001B[0mutils\u001B[0m\u001B[0;34m.\u001B[0m\u001B[0mdata\u001B[0m \u001B[0;32mimport\u001B[0m \u001B[0mDataset\u001B[0m\u001B[0;34m,\u001B[0m \u001B[0mDataLoader\u001B[0m\u001B[0;34m\u001B[0m\u001B[0;34m\u001B[0m\u001B[0m\n\u001B[1;32m      6\u001B[0m \u001B[0;32mfrom\u001B[0m \u001B[0mtorch\u001B[0m\u001B[0;34m.\u001B[0m\u001B[0mautograd\u001B[0m \u001B[0;32mimport\u001B[0m \u001B[0mVariable\u001B[0m\u001B[0;34m\u001B[0m\u001B[0;34m\u001B[0m\u001B[0m\n",
      "\u001B[0;31mModuleNotFoundError\u001B[0m: No module named 'torch'"
     ]
    }
   ]
  },
  {
   "cell_type": "code",
   "metadata": {
    "id": "fstrUz3eZyPO",
    "executionInfo": {
     "status": "ok",
     "timestamp": 1604187226334,
     "user_tz": 300,
     "elapsed": 1068,
     "user": {
      "displayName": "Thomas Sun",
      "photoUrl": "https://lh3.googleusercontent.com/a-/AOh14Gge-4Dkf8K882kgbBR9hPTcHW4PsnCxrfeR01sDBw=s64",
      "userId": "06890183580794949868"
     }
    },
    "outputId": "00a862b3-b94b-47b8-fcac-ca9112228d24",
    "colab": {
     "base_uri": "https://localhost:8080/"
    }
   },
   "source": [
    "# from google.colab import drive\n",
    "# drive.mount('/content/drive')"
   ],
   "execution_count": null,
   "outputs": []
  },
  {
   "cell_type": "code",
   "metadata": {
    "id": "1aqWFahkZ3Be",
    "executionInfo": {
     "status": "ok",
     "timestamp": 1604187226335,
     "user_tz": 300,
     "elapsed": 969,
     "user": {
      "displayName": "Thomas Sun",
      "photoUrl": "https://lh3.googleusercontent.com/a-/AOh14Gge-4Dkf8K882kgbBR9hPTcHW4PsnCxrfeR01sDBw=s64",
      "userId": "06890183580794949868"
     }
    },
    "outputId": "a044712f-b683-41ca-b676-c4b43841336c",
    "colab": {
     "base_uri": "https://localhost:8080/"
    }
   },
   "source": [
    "# %cd /content/drive/'My Drive'/'CS145_Kaggle'\n",
    "# %ls\n"
   ],
   "execution_count": null,
   "outputs": []
  },
  {
   "cell_type": "code",
   "metadata": {
    "id": "5vVwaNMC6Ibs",
    "executionInfo": {
     "status": "ok",
     "timestamp": 1604187226335,
     "user_tz": 300,
     "elapsed": 911,
     "user": {
      "displayName": "Thomas Sun",
      "photoUrl": "https://lh3.googleusercontent.com/a-/AOh14Gge-4Dkf8K882kgbBR9hPTcHW4PsnCxrfeR01sDBw=s64",
      "userId": "06890183580794949868"
     }
    }
   },
   "source": [
    "traindf = pd.read_csv(\"data/train.csv\")\n",
    "testdf = pd.read_csv(\"data/test.csv\", )\n",
    "mobility = pd.read_csv(\"data/graph.csv\")"
   ],
   "execution_count": null,
   "outputs": []
  },
  {
   "cell_type": "code",
   "metadata": {
    "id": "TbdcAHQ26cdr",
    "executionInfo": {
     "status": "ok",
     "timestamp": 1604187226425,
     "user_tz": 300,
     "elapsed": 926,
     "user": {
      "displayName": "Thomas Sun",
      "photoUrl": "https://lh3.googleusercontent.com/a-/AOh14Gge-4Dkf8K882kgbBR9hPTcHW4PsnCxrfeR01sDBw=s64",
      "userId": "06890183580794949868"
     }
    },
    "outputId": "4db98d0a-7c5d-407c-d6cf-30bc3fe7123c",
    "colab": {
     "base_uri": "https://localhost:8080/",
     "height": 197
    }
   },
   "source": [
    "testdf.head()"
   ],
   "execution_count": null,
   "outputs": []
  },
  {
   "cell_type": "markdown",
   "metadata": {
    "id": "c2Faca-gNkFR"
   },
   "source": [
    "### Fill-in test csv"
   ]
  },
  {
   "cell_type": "code",
   "metadata": {
    "id": "NzK_9gzB_DCo",
    "executionInfo": {
     "status": "error",
     "timestamp": 1604187226650,
     "user_tz": 300,
     "elapsed": 844,
     "user": {
      "displayName": "Thomas Sun",
      "photoUrl": "https://lh3.googleusercontent.com/a-/AOh14Gge-4Dkf8K882kgbBR9hPTcHW4PsnCxrfeR01sDBw=s64",
      "userId": "06890183580794949868"
     }
    },
    "outputId": "a80c9b35-5229-4095-ee9a-8bff786e9c42",
    "colab": {
     "base_uri": "https://localhost:8080/",
     "height": 406
    }
   },
   "source": [
    "df1 = pd.read_csv(\"13.csv\", usecols=[\"Province_State\", \"Confirmed\", \"Deaths\"])\n",
    "df1.tail()"
   ],
   "execution_count": null,
   "outputs": []
  },
  {
   "cell_type": "code",
   "metadata": {
    "id": "vPNIqHkN-lOt",
    "executionInfo": {
     "status": "aborted",
     "timestamp": 1604187226644,
     "user_tz": 300,
     "elapsed": 790,
     "user": {
      "displayName": "Thomas Sun",
      "photoUrl": "https://lh3.googleusercontent.com/a-/AOh14Gge-4Dkf8K882kgbBR9hPTcHW4PsnCxrfeR01sDBw=s64",
      "userId": "06890183580794949868"
     }
    }
   },
   "source": [
    "df2 = pd.read_csv(\"1.csv\", usecols=[\"Province_State\", \"Confirmed\", \"Deaths\"])\n",
    "df2.tail()"
   ],
   "execution_count": null,
   "outputs": []
  },
  {
   "cell_type": "code",
   "metadata": {
    "id": "7ho0WcuiBfqB",
    "executionInfo": {
     "status": "aborted",
     "timestamp": 1604187226645,
     "user_tz": 300,
     "elapsed": 734,
     "user": {
      "displayName": "Thomas Sun",
      "photoUrl": "https://lh3.googleusercontent.com/a-/AOh14Gge-4Dkf8K882kgbBR9hPTcHW4PsnCxrfeR01sDBw=s64",
      "userId": "06890183580794949868"
     }
    }
   },
   "source": [
    "teststates = testdf.Province_State.unique().tolist()\n",
    "newdfstates = df2.Province_State.unique().tolist()\n",
    "skipstate = []\n",
    "skipidx = []\n",
    "idx = 0\n",
    "for state in newdfstates:\n",
    "  if state not in teststates:\n",
    "    skipstate += [state]\n",
    "    skipidx += [idx]\n",
    "  idx += 1\n",
    "skipstate"
   ],
   "execution_count": null,
   "outputs": []
  },
  {
   "cell_type": "code",
   "metadata": {
    "id": "3zC1yuzLKBOL",
    "executionInfo": {
     "status": "aborted",
     "timestamp": 1604187226647,
     "user_tz": 300,
     "elapsed": 689,
     "user": {
      "displayName": "Thomas Sun",
      "photoUrl": "https://lh3.googleusercontent.com/a-/AOh14Gge-4Dkf8K882kgbBR9hPTcHW4PsnCxrfeR01sDBw=s64",
      "userId": "06890183580794949868"
     }
    }
   },
   "source": [
    "df2 = df2.drop(index = skipidx)\n",
    "df2 = df2.reset_index(drop=True)\n",
    "print(len(df2))\n",
    "df2.head()"
   ],
   "execution_count": null,
   "outputs": []
  },
  {
   "cell_type": "code",
   "metadata": {
    "id": "qd3rOCsfHfeM",
    "executionInfo": {
     "status": "aborted",
     "timestamp": 1604187226648,
     "user_tz": 300,
     "elapsed": 584,
     "user": {
      "displayName": "Thomas Sun",
      "photoUrl": "https://lh3.googleusercontent.com/a-/AOh14Gge-4Dkf8K882kgbBR9hPTcHW4PsnCxrfeR01sDBw=s64",
      "userId": "06890183580794949868"
     }
    }
   },
   "source": [
    "tempdf = copy.copy(testdf)\n",
    "tempdf.iloc[0:1*50, 3:5] = df2[['Confirmed', 'Deaths']]"
   ],
   "execution_count": null,
   "outputs": []
  },
  {
   "cell_type": "code",
   "metadata": {
    "id": "pQ1A2MPs6fPf",
    "executionInfo": {
     "status": "aborted",
     "timestamp": 1604187226649,
     "user_tz": 300,
     "elapsed": 523,
     "user": {
      "displayName": "Thomas Sun",
      "photoUrl": "https://lh3.googleusercontent.com/a-/AOh14Gge-4Dkf8K882kgbBR9hPTcHW4PsnCxrfeR01sDBw=s64",
      "userId": "06890183580794949868"
     }
    }
   },
   "source": [
    "for i in range(26):\n",
    "  df = pd.read_csv(\"{}.csv\".format(i+1), usecols=[\"Province_State\", \"Confirmed\", \"Deaths\"])\n",
    "  df = df.drop(index = skipidx)\n",
    "  df = df.set_index(np.arange(i*50, (i+1)*50))\n",
    "  assert len(df) == 50\n",
    "  testdf.iloc[i*50:(i+1)*50, 3:5] = df[['Confirmed', 'Deaths']]\n",
    "  "
   ],
   "execution_count": null,
   "outputs": []
  },
  {
   "cell_type": "code",
   "metadata": {
    "id": "E8kyIRprLD9z",
    "executionInfo": {
     "status": "aborted",
     "timestamp": 1604187226650,
     "user_tz": 300,
     "elapsed": 431,
     "user": {
      "displayName": "Thomas Sun",
      "photoUrl": "https://lh3.googleusercontent.com/a-/AOh14Gge-4Dkf8K882kgbBR9hPTcHW4PsnCxrfeR01sDBw=s64",
      "userId": "06890183580794949868"
     }
    }
   },
   "source": [
    "# traintraindftttasdsadsadssssssstestdf"
   ],
   "execution_count": null,
   "outputs": []
  },
  {
   "cell_type": "code",
   "metadata": {
    "id": "zFqnj1UqMP-A",
    "executionInfo": {
     "status": "ok",
     "timestamp": 1604173742726,
     "user_tz": 300,
     "elapsed": 280,
     "user": {
      "displayName": "Thomas Sun",
      "photoUrl": "https://lh3.googleusercontent.com/a-/AOh14Gge-4Dkf8K882kgbBR9hPTcHW4PsnCxrfeR01sDBw=s64",
      "userId": "06890183580794949868"
     }
    },
    "outputId": "69238fe5-ceb4-4d1d-ce46-dd8a9f10655e",
    "colab": {
     "base_uri": "https://localhost:8080/",
     "height": 16
    }
   },
   "source": [
    "from google.colab import files\n",
    "testdf.to_csv('newtest.csv')  \n",
    "files.download(\"newtest.csv\")"
   ],
   "execution_count": null,
   "outputs": []
  },
  {
   "cell_type": "markdown",
   "metadata": {
    "id": "uDAC9uEcNMEc"
   },
   "source": [
    "### Data exploration"
   ]
  },
  {
   "cell_type": "code",
   "metadata": {
    "id": "pBVoKtlURteO",
    "executionInfo": {
     "status": "ok",
     "timestamp": 1604187237117,
     "user_tz": 300,
     "elapsed": 229,
     "user": {
      "displayName": "Thomas Sun",
      "photoUrl": "https://lh3.googleusercontent.com/a-/AOh14Gge-4Dkf8K882kgbBR9hPTcHW4PsnCxrfeR01sDBw=s64",
      "userId": "06890183580794949868"
     }
    },
    "outputId": "99fb13da-923d-4429-de06-0a68aee37f3a",
    "colab": {
     "base_uri": "https://localhost:8080/",
     "height": 215
    }
   },
   "source": [
    "print(traindf.shape)\n",
    "traindf.head()"
   ],
   "execution_count": null,
   "outputs": []
  },
  {
   "cell_type": "markdown",
   "metadata": {
    "id": "fahcG_GmVbtz"
   },
   "source": [
    "#### Translate states to numerical values (by category) "
   ]
  },
  {
   "cell_type": "code",
   "metadata": {
    "id": "Z2Fdx7k_R1O-",
    "executionInfo": {
     "status": "ok",
     "timestamp": 1604187237725,
     "user_tz": 300,
     "elapsed": 250,
     "user": {
      "displayName": "Thomas Sun",
      "photoUrl": "https://lh3.googleusercontent.com/a-/AOh14Gge-4Dkf8K882kgbBR9hPTcHW4PsnCxrfeR01sDBw=s64",
      "userId": "06890183580794949868"
     }
    }
   },
   "source": [
    "# translate Province_State to numerical values\n",
    "unique_states = traindf.Province_State.unique()"
   ],
   "execution_count": null,
   "outputs": []
  },
  {
   "cell_type": "code",
   "metadata": {
    "id": "KjOx108vSy3x",
    "executionInfo": {
     "status": "ok",
     "timestamp": 1604187237726,
     "user_tz": 300,
     "elapsed": 161,
     "user": {
      "displayName": "Thomas Sun",
      "photoUrl": "https://lh3.googleusercontent.com/a-/AOh14Gge-4Dkf8K882kgbBR9hPTcHW4PsnCxrfeR01sDBw=s64",
      "userId": "06890183580794949868"
     }
    },
    "outputId": "d8df18e4-24d6-4e10-9fc8-4d84058afb25",
    "colab": {
     "base_uri": "https://localhost:8080/"
    }
   },
   "source": [
    "le = preprocessing.LabelEncoder() \n",
    "le.fit(unique_states)\n",
    "le.classes_[:10]"
   ],
   "execution_count": null,
   "outputs": []
  },
  {
   "cell_type": "code",
   "metadata": {
    "id": "NZ86CCh4TcJf",
    "executionInfo": {
     "status": "ok",
     "timestamp": 1604187238008,
     "user_tz": 300,
     "elapsed": 365,
     "user": {
      "displayName": "Thomas Sun",
      "photoUrl": "https://lh3.googleusercontent.com/a-/AOh14Gge-4Dkf8K882kgbBR9hPTcHW4PsnCxrfeR01sDBw=s64",
      "userId": "06890183580794949868"
     }
    },
    "outputId": "7d978006-ca85-45db-c340-bec37a965701",
    "colab": {
     "base_uri": "https://localhost:8080/",
     "height": 321
    }
   },
   "source": [
    "traindf[\"State_code\"] = le.transform(traindf.Province_State)\n",
    "features = traindf.columns.tolist() \n",
    "features = features[4:6] + features[0:2] + features[-1:] + features[2:4] + features[6:-1]\n",
    "traindf = traindf[features]\n",
    "traindf.iloc[48:52, :]"
   ],
   "execution_count": null,
   "outputs": []
  },
  {
   "cell_type": "markdown",
   "metadata": {
    "id": "KQQSXC_ZVicM"
   },
   "source": [
    "#### Check distribution and fill na"
   ]
  },
  {
   "cell_type": "code",
   "metadata": {
    "id": "RegT5y-KVp5x",
    "executionInfo": {
     "status": "ok",
     "timestamp": 1604187238162,
     "user_tz": 300,
     "elapsed": 324,
     "user": {
      "displayName": "Thomas Sun",
      "photoUrl": "https://lh3.googleusercontent.com/a-/AOh14Gge-4Dkf8K882kgbBR9hPTcHW4PsnCxrfeR01sDBw=s64",
      "userId": "06890183580794949868"
     }
    },
    "outputId": "9269dfac-1570-4134-aa41-a597208ed041",
    "colab": {
     "base_uri": "https://localhost:8080/"
    }
   },
   "source": [
    "# Any NA?\n",
    "traindf.isnull().values.any()"
   ],
   "execution_count": null,
   "outputs": []
  },
  {
   "cell_type": "code",
   "metadata": {
    "id": "MtVGnEIHMi5C",
    "executionInfo": {
     "status": "ok",
     "timestamp": 1604187238324,
     "user_tz": 300,
     "elapsed": 398,
     "user": {
      "displayName": "Thomas Sun",
      "photoUrl": "https://lh3.googleusercontent.com/a-/AOh14Gge-4Dkf8K882kgbBR9hPTcHW4PsnCxrfeR01sDBw=s64",
      "userId": "06890183580794949868"
     }
    },
    "outputId": "460e5b42-c248-48d9-bed6-b145c20dcafe",
    "colab": {
     "base_uri": "https://localhost:8080/"
    }
   },
   "source": [
    "features = traindf.columns\n",
    "features_na = []\n",
    "for feature in features:\n",
    "  na_count = traindf[feature].isnull().sum()\n",
    "  if na_count > 0:\n",
    "   features_na += [feature]\n",
    "  print(\"{0: <20} : {1}\".format(feature, na_count))"
   ],
   "execution_count": null,
   "outputs": []
  },
  {
   "cell_type": "code",
   "metadata": {
    "id": "h5wdBTRV03V5",
    "executionInfo": {
     "status": "ok",
     "timestamp": 1604187239096,
     "user_tz": 300,
     "elapsed": 175,
     "user": {
      "displayName": "Thomas Sun",
      "photoUrl": "https://lh3.googleusercontent.com/a-/AOh14Gge-4Dkf8K882kgbBR9hPTcHW4PsnCxrfeR01sDBw=s64",
      "userId": "06890183580794949868"
     }
    },
    "outputId": "ebc0a56b-79ce-46d2-f635-d9102e52febb",
    "colab": {
     "base_uri": "https://localhost:8080/"
    }
   },
   "source": [
    "# All states have NA in Hospitalization data (even after mid-June)\n",
    "len(traindf[traindf[\"Hospitalization_Rate\"].isna()][\"Province_State\"].unique())"
   ],
   "execution_count": null,
   "outputs": []
  },
  {
   "cell_type": "code",
   "metadata": {
    "id": "GpZgh5kb1c3Q",
    "executionInfo": {
     "status": "ok",
     "timestamp": 1604187239526,
     "user_tz": 300,
     "elapsed": 167,
     "user": {
      "displayName": "Thomas Sun",
      "photoUrl": "https://lh3.googleusercontent.com/a-/AOh14Gge-4Dkf8K882kgbBR9hPTcHW4PsnCxrfeR01sDBw=s64",
      "userId": "06890183580794949868"
     }
    }
   },
   "source": [
    "# Fill with zeros for now?\n",
    "traindf['Hospitalization_Rate'] = traindf['Hospitalization_Rate'].fillna(0)\n",
    "traindf['People_Hospitalized'] = traindf['People_Hospitalized'].fillna(0)"
   ],
   "execution_count": null,
   "outputs": []
  },
  {
   "cell_type": "code",
   "metadata": {
    "id": "nSlRfNxwzvpJ",
    "executionInfo": {
     "status": "ok",
     "timestamp": 1604187239968,
     "user_tz": 300,
     "elapsed": 227,
     "user": {
      "displayName": "Thomas Sun",
      "photoUrl": "https://lh3.googleusercontent.com/a-/AOh14Gge-4Dkf8K882kgbBR9hPTcHW4PsnCxrfeR01sDBw=s64",
      "userId": "06890183580794949868"
     }
    },
    "outputId": "1e555a85-6516-4172-b1b5-584bd43f313a",
    "colab": {
     "base_uri": "https://localhost:8080/"
    }
   },
   "source": [
    "traindf['Recovered'] = traindf['Recovered'].fillna(0)\n",
    "traindf['Recovered'] "
   ],
   "execution_count": null,
   "outputs": []
  },
  {
   "cell_type": "code",
   "metadata": {
    "id": "YnKLrwdXNobr",
    "executionInfo": {
     "status": "ok",
     "timestamp": 1604187242044,
     "user_tz": 300,
     "elapsed": 2120,
     "user": {
      "displayName": "Thomas Sun",
      "photoUrl": "https://lh3.googleusercontent.com/a-/AOh14Gge-4Dkf8K882kgbBR9hPTcHW4PsnCxrfeR01sDBw=s64",
      "userId": "06890183580794949868"
     }
    },
    "outputId": "be084407-88e9-4ea4-9ed7-59552804a7a9",
    "colab": {
     "base_uri": "https://localhost:8080/",
     "height": 1000
    }
   },
   "source": [
    "for feature in features_na:\n",
    "  sns.displot(data=traindf, x=feature, kde=True)\n",
    "  plt.show()"
   ],
   "execution_count": null,
   "outputs": []
  },
  {
   "cell_type": "code",
   "metadata": {
    "id": "o-d0vwPj6Fn6",
    "executionInfo": {
     "status": "ok",
     "timestamp": 1604187242045,
     "user_tz": 300,
     "elapsed": 1914,
     "user": {
      "displayName": "Thomas Sun",
      "photoUrl": "https://lh3.googleusercontent.com/a-/AOh14Gge-4Dkf8K882kgbBR9hPTcHW4PsnCxrfeR01sDBw=s64",
      "userId": "06890183580794949868"
     }
    },
    "outputId": "b0e637e0-7932-4250-903b-3c9291527d44",
    "colab": {
     "base_uri": "https://localhost:8080/",
     "height": 427
    }
   },
   "source": [
    "traindf.corr()"
   ],
   "execution_count": null,
   "outputs": []
  },
  {
   "cell_type": "code",
   "metadata": {
    "id": "cKvlynEHRLh-",
    "executionInfo": {
     "status": "ok",
     "timestamp": 1604187258392,
     "user_tz": 300,
     "elapsed": 1250,
     "user": {
      "displayName": "Thomas Sun",
      "photoUrl": "https://lh3.googleusercontent.com/a-/AOh14Gge-4Dkf8K882kgbBR9hPTcHW4PsnCxrfeR01sDBw=s64",
      "userId": "06890183580794949868"
     }
    },
    "outputId": "de25b05a-17f2-47dc-8e6a-1f79ff8b13cd",
    "colab": {
     "base_uri": "https://localhost:8080/",
     "height": 596
    }
   },
   "source": [
    "plt.figure(figsize=(8,8))\n",
    "sns.heatmap(traindf.corr(),\n",
    "            vmin=-1,\n",
    "            cmap='coolwarm',\n",
    "            annot=True)"
   ],
   "execution_count": null,
   "outputs": []
  },
  {
   "cell_type": "code",
   "metadata": {
    "id": "D_IlCEBJ5kA9",
    "executionInfo": {
     "status": "ok",
     "timestamp": 1604187258393,
     "user_tz": 300,
     "elapsed": 978,
     "user": {
      "displayName": "Thomas Sun",
      "photoUrl": "https://lh3.googleusercontent.com/a-/AOh14Gge-4Dkf8K882kgbBR9hPTcHW4PsnCxrfeR01sDBw=s64",
      "userId": "06890183580794949868"
     }
    },
    "outputId": "2c1a840d-47d1-42f7-9e72-0c9feefe4a3b",
    "colab": {
     "base_uri": "https://localhost:8080/",
     "height": 384
    }
   },
   "source": [
    "traindf.head()"
   ],
   "execution_count": null,
   "outputs": []
  },
  {
   "cell_type": "code",
   "metadata": {
    "id": "hraYOJo92yq0",
    "executionInfo": {
     "status": "ok",
     "timestamp": 1604187258394,
     "user_tz": 300,
     "elapsed": 634,
     "user": {
      "displayName": "Thomas Sun",
      "photoUrl": "https://lh3.googleusercontent.com/a-/AOh14Gge-4Dkf8K882kgbBR9hPTcHW4PsnCxrfeR01sDBw=s64",
      "userId": "06890183580794949868"
     }
    },
    "outputId": "03ecd23f-c9d2-4f60-e39c-c06105d398f2",
    "colab": {
     "base_uri": "https://localhost:8080/"
    }
   },
   "source": [
    "X_train = traindf.iloc[:, 4:]\n",
    "y_train = traindf.iloc[:, 0:2]\n",
    "X_train.shape, y_train.shape"
   ],
   "execution_count": null,
   "outputs": []
  },
  {
   "cell_type": "markdown",
   "metadata": {
    "id": "-v7IQHrOPZaW"
   },
   "source": [
    "### Models"
   ]
  },
  {
   "cell_type": "markdown",
   "metadata": {
    "id": "xV-DGg8O2vVG"
   },
   "source": [
    "### SVM RBF for baseline"
   ]
  },
  {
   "cell_type": "code",
   "metadata": {
    "id": "6uvuF3Dq3LFd",
    "executionInfo": {
     "status": "ok",
     "timestamp": 1604187261562,
     "user_tz": 300,
     "elapsed": 578,
     "user": {
      "displayName": "Thomas Sun",
      "photoUrl": "https://lh3.googleusercontent.com/a-/AOh14Gge-4Dkf8K882kgbBR9hPTcHW4PsnCxrfeR01sDBw=s64",
      "userId": "06890183580794949868"
     }
    },
    "outputId": "4f49aaef-c9d0-46af-fa79-f591472a564f",
    "colab": {
     "base_uri": "https://localhost:8080/",
     "height": 282
    }
   },
   "source": [
    "y_train[\"Deaths\"].plot()"
   ],
   "execution_count": null,
   "outputs": []
  },
  {
   "cell_type": "code",
   "metadata": {
    "id": "_YWtOQyX8hbu",
    "executionInfo": {
     "status": "ok",
     "timestamp": 1604187261945,
     "user_tz": 300,
     "elapsed": 697,
     "user": {
      "displayName": "Thomas Sun",
      "photoUrl": "https://lh3.googleusercontent.com/a-/AOh14Gge-4Dkf8K882kgbBR9hPTcHW4PsnCxrfeR01sDBw=s64",
      "userId": "06890183580794949868"
     }
    },
    "outputId": "a2a00425-59dc-43c9-a452-f2e3e12578b0",
    "colab": {
     "base_uri": "https://localhost:8080/",
     "height": 282
    }
   },
   "source": [
    "y_train[\"Recovered\"].plot(c = \"orange\")"
   ],
   "execution_count": null,
   "outputs": []
  },
  {
   "cell_type": "code",
   "metadata": {
    "id": "gq39lLHi8mdp",
    "executionInfo": {
     "status": "ok",
     "timestamp": 1604187261947,
     "user_tz": 300,
     "elapsed": 233,
     "user": {
      "displayName": "Thomas Sun",
      "photoUrl": "https://lh3.googleusercontent.com/a-/AOh14Gge-4Dkf8K882kgbBR9hPTcHW4PsnCxrfeR01sDBw=s64",
      "userId": "06890183580794949868"
     }
    }
   },
   "source": [
    "from statsmodels.tsa.ar_model import AutoReg"
   ],
   "execution_count": null,
   "outputs": []
  },
  {
   "cell_type": "code",
   "metadata": {
    "id": "I4X0f56hA44M",
    "executionInfo": {
     "status": "ok",
     "timestamp": 1604187300694,
     "user_tz": 300,
     "elapsed": 236,
     "user": {
      "displayName": "Thomas Sun",
      "photoUrl": "https://lh3.googleusercontent.com/a-/AOh14Gge-4Dkf8K882kgbBR9hPTcHW4PsnCxrfeR01sDBw=s64",
      "userId": "06890183580794949868"
     }
    }
   },
   "source": [
    "import warnings\n",
    "warnings.filterwarnings('ignore', 'statsmodels.tsa.arima_model.ARMA',\n",
    "                        FutureWarning)\n",
    "warnings.filterwarnings('ignore', 'statsmodels.tsa.arima_model.ARIMA',\n",
    "                        FutureWarning)"
   ],
   "execution_count": null,
   "outputs": []
  },
  {
   "cell_type": "code",
   "metadata": {
    "id": "M4cWee5Y_gaU",
    "executionInfo": {
     "status": "ok",
     "timestamp": 1604187366633,
     "user_tz": 300,
     "elapsed": 415,
     "user": {
      "displayName": "Thomas Sun",
      "photoUrl": "https://lh3.googleusercontent.com/a-/AOh14Gge-4Dkf8K882kgbBR9hPTcHW4PsnCxrfeR01sDBw=s64",
      "userId": "06890183580794949868"
     }
    },
    "outputId": "b4fad730-a633-499e-a5e0-ee32d87c14c7",
    "colab": {
     "base_uri": "https://localhost:8080/"
    }
   },
   "source": [
    "from statsmodels.tsa.arima.model import ARIMA\n",
    "from random import random\n",
    "# contrived dataset\n",
    "data = [x + random() for x in range(1, 100)]\n",
    "# fit model\n",
    "model = ARIMA(data, order=(1, 1, 1))\n",
    "model_fit = model.fit()\n",
    "# make prediction\n",
    "yhat = model_fit.predict(len(data), len(data), typ='levels')\n",
    "print(yhat)"
   ],
   "execution_count": null,
   "outputs": []
  },
  {
   "cell_type": "code",
   "metadata": {
    "id": "-tOhZCPPA24l",
    "executionInfo": {
     "status": "ok",
     "timestamp": 1604187850207,
     "user_tz": 300,
     "elapsed": 184,
     "user": {
      "displayName": "Thomas Sun",
      "photoUrl": "https://lh3.googleusercontent.com/a-/AOh14Gge-4Dkf8K882kgbBR9hPTcHW4PsnCxrfeR01sDBw=s64",
      "userId": "06890183580794949868"
     }
    },
    "outputId": "27b47e5e-a278-47cf-e13c-14bb81018b6f",
    "colab": {
     "base_uri": "https://localhost:8080/",
     "height": 406
    }
   },
   "source": [
    "y_pred = y_train.rolling(2, win_type='gaussian').sum(std=3)"
   ],
   "execution_count": null,
   "outputs": []
  },
  {
   "cell_type": "code",
   "metadata": {
    "id": "WmO6LIBICx54",
    "executionInfo": {
     "status": "ok",
     "timestamp": 1604188044467,
     "user_tz": 300,
     "elapsed": 187,
     "user": {
      "displayName": "Thomas Sun",
      "photoUrl": "https://lh3.googleusercontent.com/a-/AOh14Gge-4Dkf8K882kgbBR9hPTcHW4PsnCxrfeR01sDBw=s64",
      "userId": "06890183580794949868"
     }
    }
   },
   "source": [
    "y_train['D_SMA_10'] = y_train.Deaths.rolling(10, min_periods=1).mean()\n",
    "y_train['D_SMA_20'] = y_train.Deaths.rolling(20, min_periods=1).mean()\n",
    "y_train['R_SMA_10'] = y_train.Recovered.rolling(10, min_periods=1).mean()\n",
    "y_train['R_SMA_20'] = y_train.Recovered.rolling(20, min_periods=1).mean()"
   ],
   "execution_count": null,
   "outputs": []
  },
  {
   "cell_type": "code",
   "metadata": {
    "id": "OD_WHBkNDvu6",
    "executionInfo": {
     "status": "ok",
     "timestamp": 1604188107968,
     "user_tz": 300,
     "elapsed": 217,
     "user": {
      "displayName": "Thomas Sun",
      "photoUrl": "https://lh3.googleusercontent.com/a-/AOh14Gge-4Dkf8K882kgbBR9hPTcHW4PsnCxrfeR01sDBw=s64",
      "userId": "06890183580794949868"
     }
    }
   },
   "source": [
    "y_train[\"D_GSMA_10\"] = y_train.Deaths.rolling(10, win_type='gaussian').sum(std=3)\n",
    "y_train[\"D_GSMA_20\"] = y_train.Deaths.rolling(20, win_type='gaussian').sum(std=3)"
   ],
   "execution_count": null,
   "outputs": []
  },
  {
   "cell_type": "code",
   "metadata": {
    "id": "Luv7kQRDElZ8",
    "executionInfo": {
     "status": "ok",
     "timestamp": 1604188352088,
     "user_tz": 300,
     "elapsed": 164,
     "user": {
      "displayName": "Thomas Sun",
      "photoUrl": "https://lh3.googleusercontent.com/a-/AOh14Gge-4Dkf8K882kgbBR9hPTcHW4PsnCxrfeR01sDBw=s64",
      "userId": "06890183580794949868"
     }
    }
   },
   "source": [
    "y_train['DEMA_0.1'] = y_train.Deaths.ewm(alpha=0.1, adjust=False).mean()\n",
    "y_train['DEMA_0.2'] = y_train.Deaths.ewm(alpha=0.2, adjust=False).mean()"
   ],
   "execution_count": null,
   "outputs": []
  },
  {
   "cell_type": "code",
   "metadata": {
    "id": "pTkSb4t2D_Oc",
    "executionInfo": {
     "status": "ok",
     "timestamp": 1604188461746,
     "user_tz": 300,
     "elapsed": 169,
     "user": {
      "displayName": "Thomas Sun",
      "photoUrl": "https://lh3.googleusercontent.com/a-/AOh14Gge-4Dkf8K882kgbBR9hPTcHW4PsnCxrfeR01sDBw=s64",
      "userId": "06890183580794949868"
     }
    },
    "outputId": "1d9840f4-85e2-41bd-8c5e-5cc055a6443a",
    "colab": {
     "base_uri": "https://localhost:8080/",
     "height": 406
    }
   },
   "source": [
    "y_train"
   ],
   "execution_count": null,
   "outputs": []
  },
  {
   "cell_type": "code",
   "metadata": {
    "id": "pY4syn71DwuH",
    "executionInfo": {
     "status": "ok",
     "timestamp": 1604188644987,
     "user_tz": 300,
     "elapsed": 1263,
     "user": {
      "displayName": "Thomas Sun",
      "photoUrl": "https://lh3.googleusercontent.com/a-/AOh14Gge-4Dkf8K882kgbBR9hPTcHW4PsnCxrfeR01sDBw=s64",
      "userId": "06890183580794949868"
     }
    },
    "outputId": "749e9412-dde9-41ea-87e7-30a6d120ab38",
    "colab": {
     "base_uri": "https://localhost:8080/",
     "height": 1000
    }
   },
   "source": [
    "pairs = [(2,3), (6,7), (8,9)]\n",
    "for pair in pairs:\n",
    "  y_train.iloc[:50,  [0,pair[0],pair[1]]].plot()\n",
    "  plt.show()\n",
    "  y_train.iloc[-50:, [0,pair[0],pair[1]]].plot()\n",
    "  plt.show()"
   ],
   "execution_count": null,
   "outputs": []
  },
  {
   "cell_type": "code",
   "metadata": {
    "id": "7nCybulKE97G"
   },
   "source": [
    "#Other ideas\n",
    "#use LSTM to train for predicting everything in the next day\n",
    "#Arima "
   ],
   "execution_count": null,
   "outputs": []
  }
 ]
}