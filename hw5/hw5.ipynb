{
 "cells": [
  {
   "cell_type": "markdown",
   "metadata": {},
   "source": [
    " # CS145 Howework 5\n",
    "\n",
    "\n",
    "<span style=\"color:red\"> **Important Note:** </span>\n",
    "HW4 is due on **11:59 PM PT, Dec 4 (Friday, Week 9)**. Please submit through GradeScope. \n",
    "\n",
    "## Print Out Your Name and UID\n",
    "\n",
    "<span style=\"color:blue\"> **Name: Wenxuan Liu, UID: 805152602** </span>\n",
    "\n",
    "## Before You Start\n",
    "\n",
    "You need to first create HW5 conda environment by the given `cs145hw5.yml` file, which provides the name and necessary packages for this tasks. If you have `conda` properly installed, you may create, activate or deactivate by the following commands:\n",
    "\n",
    "```\n",
    "conda env create -f cs145hw5.yml\n",
    "conda activate hw4\n",
    "conda deactivate\n",
    "```\n",
    "OR \n",
    "\n",
    "```\n",
    "conda env create --name NAMEOFYOURCHOICE -f cs145hw5.yml \n",
    "conda activate NAMEOFYOURCHOICE\n",
    "conda deactivate\n",
    "```\n",
    "To view the list of your environments, use the following command:\n",
    "```\n",
    "conda env list\n",
    "```\n",
    "\n",
    "More useful information about managing environments can be found [here](https://docs.conda.io/projects/conda/en/latest/user-guide/tasks/manage-environments.html).\n",
    "\n",
    "You may also quickly review the usage of basic Python and Numpy package, if needed in coding for matrix operations.\n",
    "\n",
    "In this notebook, you must not delete any code cells in this notebook. If you change any code outside the blocks (such as some important hyperparameters) that you are allowed to edit (between STRART/END YOUR CODE HERE), you need to highlight these changes. You may add some additional cells to help explain your results and observations."
   ]
  },
  {
   "cell_type": "code",
   "execution_count": 6,
   "metadata": {},
   "outputs": [
    {
     "name": "stdout",
     "output_type": "stream",
     "text": [
      "The autoreload extension is already loaded. To reload it, use:\n",
      "  %reload_ext autoreload\n"
     ]
    }
   ],
   "source": [
    "import numpy as np \n",
    "import pandas as pd\n",
    "import sys \n",
    "import random\n",
    "import math\n",
    "import matplotlib.pyplot as plt\n",
    "from graphviz import Digraph\n",
    "from IPython.display import Image\n",
    "from scipy.stats import multivariate_normal\n",
    "%load_ext autoreload\n",
    "%autoreload 2"
   ]
  },
  {
   "cell_type": "markdown",
   "metadata": {},
   "source": [
    "If you can successfully run the code above, there will be no problem for environment setting."
   ]
  },
  {
   "cell_type": "markdown",
   "metadata": {},
   "source": [
    "## 1. Frequent Pattern Mining for Set Data (25 pts)\n"
   ]
  },
  {
   "cell_type": "markdown",
   "metadata": {},
   "source": [
    "##### Table 1\n",
    "| TID | Items | \n",
    "| --- | --- | \n",
    "| 1 | b,c,j | \n",
    "| 2 | a,b,d |\n",
    "| 3 | a,c |\n",
    "| 4 | b,d | \n",
    "| 5 | a,b,c,e | \n",
    "| 6 | b,c,k| \n",
    "| 7 | a,c |\n",
    "| 8 | a,b,e,i | \n",
    "| 9 | b,d | \n",
    "| 10 | a,b,c,d |"
   ]
  },
  {
   "cell_type": "markdown",
   "metadata": {},
   "source": [
    "\n",
    "\n",
    "\n",
    "Given a transaction database shown in Table 1, answer the following questions. Let the parameter `min_support` be 2. "
   ]
  },
  {
   "cell_type": "markdown",
   "metadata": {},
   "source": [
    "\n",
    "**Questions**\n",
    "\n",
    "### 1.1 Apriori Algorothm (16 pts) . \n",
    "<span style=\"color:red\"> Note: This is a \"question-answer\" style problem. You do not need to code anything and you are required to calculate by hand (with a scientific calculator). </span>\n",
    "Find all the frequent patterns using Apriori Algorithm. <br>\n",
    "a. $C_1$ <br>\n",
    "b. $L_1$<br>\n",
    "c. $C_2$<br>\n",
    "d. $L_2$<br>\n",
    "e. $C_3$<br>\n",
    "f. $L_3$<br>\n",
    "g. $C_4$ <br>\n",
    "h. $L_4$ "
   ]
  },
  {
   "cell_type": "markdown",
   "metadata": {},
   "source": [
    "<span style=\"color:blue\"> Please type your answer here! </span>\n",
    "\n",
    "a. C1\n",
    "\n",
    "| Itemset | support count |\n",
    "| ------- | ------------- |\n",
    "| {a}     | 6             |\n",
    "| {b}     | 8             |\n",
    "| {c}     | 6             |\n",
    "| {d}     | 4             |\n",
    "| {e}     | 2             |\n",
    "| {i}     | 1             |\n",
    "| {j}     | 1             |\n",
    "| {k}     | 1             |\n",
    "\n",
    "b. L1\n",
    "\n",
    "| Itemset | support count |\n",
    "| ------- | ------------- |\n",
    "| {a}     | 6             |\n",
    "| {b}     | 8             |\n",
    "| {c}     | 6             |\n",
    "| {d}     | 4             |\n",
    "| {e}     | 2             |\n",
    "\n",
    "c. C1\n",
    "\n",
    "| Itemset | support count |\n",
    "| ------- | ------------- |\n",
    "| {a,b}   | 4             |\n",
    "| {a,c}   | 4             |\n",
    "| {a,d}   | 2             |\n",
    "| {a,e}   | 2             |\n",
    "| {b,c}   | 4             |\n",
    "| {b,d}   | 4             |\n",
    "| {b,e}   | 2             |\n",
    "| {c,d}   | 1             |\n",
    "| {c,e}   | 1             |\n",
    "| {d,e}   | 0             |\n",
    "\n",
    "d. L2\n",
    "\n",
    "| Itemset | support count |\n",
    "| ------- | ------------- |\n",
    "| {a,b}   | 4             |\n",
    "| {a,c}   | 4             |\n",
    "| {a,d}   | 2             |\n",
    "| {a,e}   | 2             |\n",
    "| {b,c}   | 4             |\n",
    "| {b,d}   | 4             |\n",
    "| {b,e}   | 2             |\n",
    "\n",
    "e. C3\n",
    "\n",
    "When forming the candidate itemsets of size 3, we can prune the sets that has infrequent subset.\n",
    "\n",
    "| Itemset | support count |\n",
    "| ------- | ------------- |\n",
    "| {a,b,c} | 2             |\n",
    "| {a,b,d} | 2             |\n",
    "| {a,b,e} | 2             |\n",
    "| {a,c,d} | Prune         |\n",
    "| {a,c,e} | Prune         |\n",
    "| {a,d,e} | Prune         |\n",
    "| {b,c,d} | Prune         |\n",
    "| {b,c,e} | Prune         |\n",
    "| {b,d,e} | Prune         |\n",
    "\n",
    "f. L3\n",
    "\n",
    "| Itemset | support count |\n",
    "| ------- | ------------- |\n",
    "| {a,b,c} | 2             |\n",
    "| {a,b,d} | 2             |\n",
    "| {a,b,e} | 2             |\n",
    "\n",
    "g. C4\n",
    "\n",
    "C4 is empty since all of the joined set can be pruned(since all of them have infrequent subset).\n",
    "\n",
    "h. L4\n",
    "\n",
    "L4 is empty since C4 is empty.\n",
    "\n",
    "So, the frequent patterns are:\n",
    "\n",
    "{a}, {b}, {c}, {d}, {e}\n",
    "\n",
    "{a,b}, {a,c}, {a,d}, {a,e}, {b,c}, {b,d}, {b,e}\n",
    "\n",
    "{a,b,c}, {a,b,d}, {a,b,e}"
   ]
  },
  {
   "cell_type": "markdown",
   "metadata": {},
   "source": [
    "### 1.2 FP-tree (9 pts)\n",
    "(a)Construct the FP-tree of the table.  \n",
    "(b) For the item d, show its conditional pattern base (projected database) and conditional FP-tree <br> \n",
    "You may use Package `graphviz` to generate graph (https://graphviz.readthedocs.io/en/stable/manual.html) (Bonus point: 5pts) or draw by hand. "
   ]
  },
  {
   "cell_type": "markdown",
   "metadata": {},
   "source": [
    "(c) Find frequent patterns based on d's conditional FP-tree <br>\n",
    "\n"
   ]
  },
  {
   "cell_type": "markdown",
   "metadata": {},
   "source": [
    "<span style=\"color:blue\"> Please type your answer here! </span>\n",
    "\n",
    "(a) Use the result of frequent 1-itemsets and sort in descending order of support count:\n",
    "\n",
    "| Itemset | support count |\n",
    "| ------- | ------------- |\n",
    "| {b}     | 8             |\n",
    "| {a}     | 6             |\n",
    "| {c}     | 6             |\n",
    "| {d}     | 4             |\n",
    "| {e}     | 2             |\n",
    "\n",
    "Then, we can get the F-list = b-a-c-d-e\n",
    "\n",
    "Then, order the transaction database by the F-list priority:\n",
    "\n",
    "| TID | Items | Ordered Frequent Items |\n",
    "| --- | --- | ---|\n",
    "| 1 | b,c,j | b,c|\n",
    "| 2 | a,b,d |b,a,d\n",
    "| 3 | a,c | a,c\n",
    "| 4 | b,d |b,d\n",
    "| 5 | a,b,c,e |b,a,c,e\n",
    "| 6 | b,c,k|b,c\n",
    "| 7 | a,c |a,c\n",
    "| 8 | a,b,e,i |b,a,e\n",
    "| 9 | b,d |b,d\n",
    "| 10 | a,b,c,d |b,a,c,d\n",
    "\n",
    "Then, we can plot the FP-tree graph:"
   ]
  },
  {
   "cell_type": "code",
   "execution_count": 7,
   "outputs": [
    {
     "data": {
      "text/plain": "<graphviz.dot.Digraph at 0x7f961334bfd0>",
      "image/svg+xml": "<?xml version=\"1.0\" encoding=\"UTF-8\" standalone=\"no\"?>\n<!DOCTYPE svg PUBLIC \"-//W3C//DTD SVG 1.1//EN\"\n \"http://www.w3.org/Graphics/SVG/1.1/DTD/svg11.dtd\">\n<!-- Generated by graphviz version 2.40.1 (20161225.0304)\n -->\n<!-- Title: unix Pages: 1 -->\n<svg width=\"278pt\" height=\"332pt\"\n viewBox=\"0.00 0.00 278.00 332.00\" xmlns=\"http://www.w3.org/2000/svg\" xmlns:xlink=\"http://www.w3.org/1999/xlink\">\n<g id=\"graph0\" class=\"graph\" transform=\"scale(1 1) rotate(0) translate(4 328)\">\n<title>unix</title>\n<polygon fill=\"#ffffff\" stroke=\"transparent\" points=\"-4,4 -4,-328 274,-328 274,4 -4,4\"/>\n<!-- {} -->\n<g id=\"node1\" class=\"node\">\n<title>{}</title>\n<ellipse fill=\"none\" stroke=\"#000000\" cx=\"171\" cy=\"-306\" rx=\"27\" ry=\"18\"/>\n<text text-anchor=\"middle\" x=\"171\" y=\"-301.8\" font-family=\"Times,serif\" font-size=\"14.00\" fill=\"#000000\">{}</text>\n</g>\n<!-- b&#45;8 -->\n<g id=\"node2\" class=\"node\">\n<title>b&#45;8</title>\n<ellipse fill=\"none\" stroke=\"#000000\" cx=\"117\" cy=\"-234\" rx=\"27\" ry=\"18\"/>\n<text text-anchor=\"middle\" x=\"117\" y=\"-229.8\" font-family=\"Times,serif\" font-size=\"14.00\" fill=\"#000000\">b&#45;8</text>\n</g>\n<!-- {}&#45;&gt;b&#45;8 -->\n<g id=\"edge1\" class=\"edge\">\n<title>{}&#45;&gt;b&#45;8</title>\n<path fill=\"none\" stroke=\"#000000\" d=\"M158.7466,-289.6621C151.8423,-280.4564 143.0823,-268.7764 135.3715,-258.4953\"/>\n<polygon fill=\"#000000\" stroke=\"#000000\" points=\"138.005,-256.1733 129.2049,-250.2733 132.405,-260.3733 138.005,-256.1733\"/>\n</g>\n<!-- a&#45;2 -->\n<g id=\"node3\" class=\"node\">\n<title>a&#45;2</title>\n<ellipse fill=\"none\" stroke=\"#000000\" cx=\"225\" cy=\"-234\" rx=\"27\" ry=\"18\"/>\n<text text-anchor=\"middle\" x=\"225\" y=\"-229.8\" font-family=\"Times,serif\" font-size=\"14.00\" fill=\"#000000\">a&#45;2</text>\n</g>\n<!-- {}&#45;&gt;a&#45;2 -->\n<g id=\"edge2\" class=\"edge\">\n<title>{}&#45;&gt;a&#45;2</title>\n<path fill=\"none\" stroke=\"#000000\" d=\"M183.2534,-289.6621C190.1577,-280.4564 198.9177,-268.7764 206.6285,-258.4953\"/>\n<polygon fill=\"#000000\" stroke=\"#000000\" points=\"209.595,-260.3733 212.7951,-250.2733 203.995,-256.1733 209.595,-260.3733\"/>\n</g>\n<!-- c&#45;2  -->\n<g id=\"node5\" class=\"node\">\n<title>c&#45;2 </title>\n<ellipse fill=\"none\" stroke=\"#000000\" cx=\"27\" cy=\"-162\" rx=\"27\" ry=\"18\"/>\n<text text-anchor=\"middle\" x=\"27\" y=\"-157.8\" font-family=\"Times,serif\" font-size=\"14.00\" fill=\"#000000\">c&#45;2 </text>\n</g>\n<!-- b&#45;8&#45;&gt;c&#45;2  -->\n<g id=\"edge4\" class=\"edge\">\n<title>b&#45;8&#45;&gt;c&#45;2 </title>\n<path fill=\"none\" stroke=\"#000000\" d=\"M99.6471,-220.1177C86.2003,-209.3602 67.3761,-194.3009 52.259,-182.2072\"/>\n<polygon fill=\"#000000\" stroke=\"#000000\" points=\"54.2948,-179.3536 44.2996,-175.8397 49.9219,-184.8197 54.2948,-179.3536\"/>\n</g>\n<!-- a&#45;4 -->\n<g id=\"node6\" class=\"node\">\n<title>a&#45;4</title>\n<ellipse fill=\"none\" stroke=\"#000000\" cx=\"99\" cy=\"-162\" rx=\"27\" ry=\"18\"/>\n<text text-anchor=\"middle\" x=\"99\" y=\"-157.8\" font-family=\"Times,serif\" font-size=\"14.00\" fill=\"#000000\">a&#45;4</text>\n</g>\n<!-- b&#45;8&#45;&gt;a&#45;4 -->\n<g id=\"edge5\" class=\"edge\">\n<title>b&#45;8&#45;&gt;a&#45;4</title>\n<path fill=\"none\" stroke=\"#000000\" d=\"M112.5506,-216.2022C110.5602,-208.2406 108.1668,-198.6671 105.9489,-189.7957\"/>\n<polygon fill=\"#000000\" stroke=\"#000000\" points=\"109.2816,-188.6951 103.4606,-179.8425 102.4906,-190.3929 109.2816,-188.6951\"/>\n</g>\n<!-- d&#45;2 -->\n<g id=\"node7\" class=\"node\">\n<title>d&#45;2</title>\n<ellipse fill=\"none\" stroke=\"#000000\" cx=\"171\" cy=\"-162\" rx=\"27\" ry=\"18\"/>\n<text text-anchor=\"middle\" x=\"171\" y=\"-157.8\" font-family=\"Times,serif\" font-size=\"14.00\" fill=\"#000000\">d&#45;2</text>\n</g>\n<!-- b&#45;8&#45;&gt;d&#45;2 -->\n<g id=\"edge6\" class=\"edge\">\n<title>b&#45;8&#45;&gt;d&#45;2</title>\n<path fill=\"none\" stroke=\"#000000\" d=\"M129.2534,-217.6621C136.1577,-208.4564 144.9177,-196.7764 152.6285,-186.4953\"/>\n<polygon fill=\"#000000\" stroke=\"#000000\" points=\"155.595,-188.3733 158.7951,-178.2733 149.995,-184.1733 155.595,-188.3733\"/>\n</g>\n<!-- c&#45;2 -->\n<g id=\"node4\" class=\"node\">\n<title>c&#45;2</title>\n<ellipse fill=\"none\" stroke=\"#000000\" cx=\"243\" cy=\"-162\" rx=\"27\" ry=\"18\"/>\n<text text-anchor=\"middle\" x=\"243\" y=\"-157.8\" font-family=\"Times,serif\" font-size=\"14.00\" fill=\"#000000\">c&#45;2</text>\n</g>\n<!-- a&#45;2&#45;&gt;c&#45;2 -->\n<g id=\"edge3\" class=\"edge\">\n<title>a&#45;2&#45;&gt;c&#45;2</title>\n<path fill=\"none\" stroke=\"#000000\" d=\"M229.4494,-216.2022C231.4398,-208.2406 233.8332,-198.6671 236.0511,-189.7957\"/>\n<polygon fill=\"#000000\" stroke=\"#000000\" points=\"239.5094,-190.3929 238.5394,-179.8425 232.7184,-188.6951 239.5094,-190.3929\"/>\n</g>\n<!--  c&#45;2  -->\n<g id=\"node9\" class=\"node\">\n<title> c&#45;2 </title>\n<ellipse fill=\"none\" stroke=\"#000000\" cx=\"99\" cy=\"-90\" rx=\"27\" ry=\"18\"/>\n<text text-anchor=\"middle\" x=\"99\" y=\"-85.8\" font-family=\"Times,serif\" font-size=\"14.00\" fill=\"#000000\"> c&#45;2 </text>\n</g>\n<!-- c&#45;2&#45;&gt; c&#45;2  -->\n<g id=\"edge14\" class=\"edge\">\n<title>c&#45;2&#45;&gt; c&#45;2 </title>\n<path fill=\"none\" stroke=\"#000000\" stroke-dasharray=\"5,2\" d=\"M221.1295,-151.0647C196.7778,-138.8889 157.238,-119.119 129.7715,-105.3858\"/>\n<polygon fill=\"#000000\" stroke=\"#000000\" points=\"131.114,-102.1439 120.6045,-100.8022 127.9835,-108.4049 131.114,-102.1439\"/>\n</g>\n<!-- c&#45;2 &#45;&gt;c&#45;2 -->\n<g id=\"edge13\" class=\"edge\">\n<title>c&#45;2 &#45;&gt;c&#45;2</title>\n<path fill=\"none\" stroke=\"#000000\" stroke-dasharray=\"5,2\" d=\"M41.217,-177.5681C49.3696,-185.3189 60.2933,-193.8935 72,-198 124.8432,-216.5364 145.1568,-216.5364 198,-198 206.2313,-195.1126 214.0754,-190.0163 220.8414,-184.5505\"/>\n<polygon fill=\"#000000\" stroke=\"#000000\" points=\"223.584,-186.7996 228.783,-177.5681 218.9619,-181.5426 223.584,-186.7996\"/>\n</g>\n<!-- a&#45;4&#45;&gt;a&#45;2 -->\n<g id=\"edge12\" class=\"edge\">\n<title>a&#45;4&#45;&gt;a&#45;2</title>\n<path fill=\"none\" stroke=\"#000000\" stroke-dasharray=\"5,2\" d=\"M119.5157,-173.7233C140.1972,-185.5413 172.3163,-203.895 195.681,-217.2463\"/>\n<polygon fill=\"#000000\" stroke=\"#000000\" points=\"194.0565,-220.3491 204.4755,-222.2717 197.5296,-214.2714 194.0565,-220.3491\"/>\n</g>\n<!-- d&#45;1 -->\n<g id=\"node8\" class=\"node\">\n<title>d&#45;1</title>\n<ellipse fill=\"none\" stroke=\"#000000\" cx=\"27\" cy=\"-90\" rx=\"27\" ry=\"18\"/>\n<text text-anchor=\"middle\" x=\"27\" y=\"-85.8\" font-family=\"Times,serif\" font-size=\"14.00\" fill=\"#000000\">d&#45;1</text>\n</g>\n<!-- a&#45;4&#45;&gt;d&#45;1 -->\n<g id=\"edge7\" class=\"edge\">\n<title>a&#45;4&#45;&gt;d&#45;1</title>\n<path fill=\"none\" stroke=\"#000000\" d=\"M83.7307,-146.7307C73.803,-136.803 60.6847,-123.6847 49.5637,-112.5637\"/>\n<polygon fill=\"#000000\" stroke=\"#000000\" points=\"51.7933,-109.8436 42.2473,-105.2473 46.8436,-114.7933 51.7933,-109.8436\"/>\n</g>\n<!-- a&#45;4&#45;&gt; c&#45;2  -->\n<g id=\"edge8\" class=\"edge\">\n<title>a&#45;4&#45;&gt; c&#45;2 </title>\n<path fill=\"none\" stroke=\"#000000\" d=\"M99,-143.8314C99,-136.131 99,-126.9743 99,-118.4166\"/>\n<polygon fill=\"#000000\" stroke=\"#000000\" points=\"102.5001,-118.4132 99,-108.4133 95.5001,-118.4133 102.5001,-118.4132\"/>\n</g>\n<!-- e&#45;1 -->\n<g id=\"node10\" class=\"node\">\n<title>e&#45;1</title>\n<ellipse fill=\"none\" stroke=\"#000000\" cx=\"171\" cy=\"-90\" rx=\"27\" ry=\"18\"/>\n<text text-anchor=\"middle\" x=\"171\" y=\"-85.8\" font-family=\"Times,serif\" font-size=\"14.00\" fill=\"#000000\">e&#45;1</text>\n</g>\n<!-- a&#45;4&#45;&gt;e&#45;1 -->\n<g id=\"edge9\" class=\"edge\">\n<title>a&#45;4&#45;&gt;e&#45;1</title>\n<path fill=\"none\" stroke=\"#000000\" d=\"M114.2693,-146.7307C124.197,-136.803 137.3153,-123.6847 148.4363,-112.5637\"/>\n<polygon fill=\"#000000\" stroke=\"#000000\" points=\"151.1564,-114.7933 155.7527,-105.2473 146.2067,-109.8436 151.1564,-114.7933\"/>\n</g>\n<!-- d&#45;1  -->\n<g id=\"node12\" class=\"node\">\n<title>d&#45;1 </title>\n<ellipse fill=\"none\" stroke=\"#000000\" cx=\"135\" cy=\"-18\" rx=\"27\" ry=\"18\"/>\n<text text-anchor=\"middle\" x=\"135\" y=\"-13.8\" font-family=\"Times,serif\" font-size=\"14.00\" fill=\"#000000\">d&#45;1 </text>\n</g>\n<!-- d&#45;2&#45;&gt;d&#45;1  -->\n<g id=\"edge16\" class=\"edge\">\n<title>d&#45;2&#45;&gt;d&#45;1 </title>\n<path fill=\"none\" stroke=\"#000000\" stroke-dasharray=\"5,2\" d=\"M185.3192,-146.3713C200.1886,-128.1448 219.6437,-97.2873 207,-72 198.5514,-55.1028 182.023,-42.1213 166.9314,-33.1258\"/>\n<polygon fill=\"#000000\" stroke=\"#000000\" points=\"168.2445,-29.8508 157.8054,-28.0405 164.8371,-35.9655 168.2445,-29.8508\"/>\n</g>\n<!-- d&#45;1&#45;&gt;d&#45;2 -->\n<g id=\"edge15\" class=\"edge\">\n<title>d&#45;1&#45;&gt;d&#45;2</title>\n<path fill=\"none\" stroke=\"#000000\" stroke-dasharray=\"5,2\" d=\"M48.6045,-100.8022C72.845,-112.9225 112.3731,-132.6865 139.9273,-146.4636\"/>\n<polygon fill=\"#000000\" stroke=\"#000000\" points=\"138.62,-149.7231 149.1295,-151.0647 141.7505,-143.4621 138.62,-149.7231\"/>\n</g>\n<!-- e&#45;1  -->\n<g id=\"node11\" class=\"node\">\n<title>e&#45;1 </title>\n<ellipse fill=\"none\" stroke=\"#000000\" cx=\"63\" cy=\"-18\" rx=\"27\" ry=\"18\"/>\n<text text-anchor=\"middle\" x=\"63\" y=\"-13.8\" font-family=\"Times,serif\" font-size=\"14.00\" fill=\"#000000\">e&#45;1 </text>\n</g>\n<!--  c&#45;2 &#45;&gt;e&#45;1  -->\n<g id=\"edge10\" class=\"edge\">\n<title> c&#45;2 &#45;&gt;e&#45;1 </title>\n<path fill=\"none\" stroke=\"#000000\" d=\"M90.2854,-72.5708C86.0403,-64.0807 80.8464,-53.6929 76.1337,-44.2674\"/>\n<polygon fill=\"#000000\" stroke=\"#000000\" points=\"79.237,-42.6477 71.6343,-35.2687 72.976,-45.7782 79.237,-42.6477\"/>\n</g>\n<!--  c&#45;2 &#45;&gt;d&#45;1  -->\n<g id=\"edge11\" class=\"edge\">\n<title> c&#45;2 &#45;&gt;d&#45;1 </title>\n<path fill=\"none\" stroke=\"#000000\" d=\"M107.7146,-72.5708C111.9597,-64.0807 117.1536,-53.6929 121.8663,-44.2674\"/>\n<polygon fill=\"#000000\" stroke=\"#000000\" points=\"125.024,-45.7782 126.3657,-35.2687 118.763,-42.6477 125.024,-45.7782\"/>\n</g>\n<!-- e&#45;1 &#45;&gt;e&#45;1 -->\n<g id=\"edge17\" class=\"edge\">\n<title>e&#45;1 &#45;&gt;e&#45;1</title>\n<path fill=\"none\" stroke=\"#000000\" stroke-dasharray=\"5,2\" d=\"M82.1411,-30.7607C99.1358,-42.0905 124.1752,-58.7835 143.3463,-71.5642\"/>\n<polygon fill=\"#000000\" stroke=\"#000000\" points=\"141.4298,-74.493 151.6918,-77.1278 145.3127,-68.6686 141.4298,-74.493\"/>\n</g>\n</g>\n</svg>\n"
     },
     "execution_count": 7,
     "metadata": {},
     "output_type": "execute_result"
    }
   ],
   "source": [
    "from graphviz import Digraph\n",
    "\n",
    "u = Digraph('unix', filename='unix.gv')\n",
    "u.attr(size='6,6')\n",
    "\n",
    "u.edge('{}', 'b-8')\n",
    "u.edge('{}', 'a-2')\n",
    "u.edge('a-2', 'c-2')\n",
    "u.edge('b-8', 'c-2 ')\n",
    "u.edge('b-8', 'a-4')\n",
    "u.edge('b-8', 'd-2')\n",
    "u.edge('a-4', 'd-1')\n",
    "u.edge('a-4', ' c-2 ')\n",
    "u.edge('a-4', 'e-1')\n",
    "u.edge(' c-2 ', 'e-1 ')\n",
    "u.edge(' c-2 ', 'd-1 ')\n",
    "u.edge('a-4', 'a-2', _attributes={'style': 'dashed', 'constraint': 'false'})\n",
    "u.edge('c-2 ', 'c-2', _attributes={'style': 'dashed', 'constraint': 'false'})\n",
    "u.edge('c-2', ' c-2 ', _attributes={'style': 'dashed', 'constraint': 'false'})\n",
    "u.edge('d-1', 'd-2', _attributes={'style': 'dashed', 'constraint': 'false'})\n",
    "u.edge('d-2', 'd-1 ', _attributes={'style': 'dashed', 'constraint': 'false'})\n",
    "u.edge('e-1 ', 'e-1', _attributes={'style': 'dashed', 'constraint': 'false'})\n",
    "\n",
    "u"
   ],
   "metadata": {
    "collapsed": false,
    "pycharm": {
     "name": "#%%\n"
    }
   }
  },
  {
   "cell_type": "markdown",
   "source": [
    "(b) First, we can remove all the ordered frequent items without d.\n",
    "\n",
    "| TID | Items | Ordered Frequent Items |\n",
    "| --- | --- | ---|\n",
    "| 1 | b,c,j |removed|\n",
    "| 2 | a,b,d |b,a,d\n",
    "| 3 | a,c | removed\n",
    "| 4 | b,d |b,d\n",
    "| 5 | a,b,c,e | removed\n",
    "| 6 | b,c,k| removed\n",
    "| 7 | a,c |removed\n",
    "| 8 | a,b,e,i |removed\n",
    "| 9 | b,d |b,d\n",
    "| 10 | a,b,c,d |b,a,c,d\n",
    "\n",
    "In summary, we need to form a FP-tree for the frequent items below:\n",
    "\n",
    "| TID | Items | Ordered Frequent Items |\n",
    "| --- | --- | ---|\n",
    "| 1 | a,b,d |b,a\n",
    "| 2 | b,d |b\n",
    "| 3 | b,d |b\n",
    "| 4 | a,b,c,d |b,a,c"
   ],
   "metadata": {
    "collapsed": false,
    "pycharm": {
     "name": "#%% md\n"
    }
   }
  },
  {
   "cell_type": "code",
   "execution_count": 8,
   "outputs": [
    {
     "data": {
      "text/plain": "<graphviz.dot.Digraph at 0x7f9613326cf8>",
      "image/svg+xml": "<?xml version=\"1.0\" encoding=\"UTF-8\" standalone=\"no\"?>\n<!DOCTYPE svg PUBLIC \"-//W3C//DTD SVG 1.1//EN\"\n \"http://www.w3.org/Graphics/SVG/1.1/DTD/svg11.dtd\">\n<!-- Generated by graphviz version 2.40.1 (20161225.0304)\n -->\n<!-- Title: unix Pages: 1 -->\n<svg width=\"62pt\" height=\"188pt\"\n viewBox=\"0.00 0.00 62.00 188.00\" xmlns=\"http://www.w3.org/2000/svg\" xmlns:xlink=\"http://www.w3.org/1999/xlink\">\n<g id=\"graph0\" class=\"graph\" transform=\"scale(1 1) rotate(0) translate(4 184)\">\n<title>unix</title>\n<polygon fill=\"#ffffff\" stroke=\"transparent\" points=\"-4,4 -4,-184 58,-184 58,4 -4,4\"/>\n<!-- {} -->\n<g id=\"node1\" class=\"node\">\n<title>{}</title>\n<ellipse fill=\"none\" stroke=\"#000000\" cx=\"27\" cy=\"-162\" rx=\"27\" ry=\"18\"/>\n<text text-anchor=\"middle\" x=\"27\" y=\"-157.8\" font-family=\"Times,serif\" font-size=\"14.00\" fill=\"#000000\">{}</text>\n</g>\n<!-- b&#45;3 -->\n<g id=\"node2\" class=\"node\">\n<title>b&#45;3</title>\n<ellipse fill=\"none\" stroke=\"#000000\" cx=\"27\" cy=\"-90\" rx=\"27\" ry=\"18\"/>\n<text text-anchor=\"middle\" x=\"27\" y=\"-85.8\" font-family=\"Times,serif\" font-size=\"14.00\" fill=\"#000000\">b&#45;3</text>\n</g>\n<!-- {}&#45;&gt;b&#45;3 -->\n<g id=\"edge1\" class=\"edge\">\n<title>{}&#45;&gt;b&#45;3</title>\n<path fill=\"none\" stroke=\"#000000\" d=\"M27,-143.8314C27,-136.131 27,-126.9743 27,-118.4166\"/>\n<polygon fill=\"#000000\" stroke=\"#000000\" points=\"30.5001,-118.4132 27,-108.4133 23.5001,-118.4133 30.5001,-118.4132\"/>\n</g>\n<!-- a&#45;2 -->\n<g id=\"node3\" class=\"node\">\n<title>a&#45;2</title>\n<ellipse fill=\"none\" stroke=\"#000000\" cx=\"27\" cy=\"-18\" rx=\"27\" ry=\"18\"/>\n<text text-anchor=\"middle\" x=\"27\" y=\"-13.8\" font-family=\"Times,serif\" font-size=\"14.00\" fill=\"#000000\">a&#45;2</text>\n</g>\n<!-- b&#45;3&#45;&gt;a&#45;2 -->\n<g id=\"edge2\" class=\"edge\">\n<title>b&#45;3&#45;&gt;a&#45;2</title>\n<path fill=\"none\" stroke=\"#000000\" d=\"M27,-71.8314C27,-64.131 27,-54.9743 27,-46.4166\"/>\n<polygon fill=\"#000000\" stroke=\"#000000\" points=\"30.5001,-46.4132 27,-36.4133 23.5001,-46.4133 30.5001,-46.4132\"/>\n</g>\n</g>\n</svg>\n"
     },
     "execution_count": 8,
     "metadata": {},
     "output_type": "execute_result"
    }
   ],
   "source": [
    "v = Digraph('unix', filename='unix.gv')\n",
    "v.attr(size='6,6')\n",
    "\n",
    "v.edge('{}', 'b-3')\n",
    "v.edge('b-3', 'a-2')\n",
    "# v.edge('a-2', 'c-1')\n",
    "\n",
    "v"
   ],
   "metadata": {
    "collapsed": false,
    "pycharm": {
     "name": "#%%\n"
    }
   }
  },
  {
   "cell_type": "markdown",
   "source": [
    "'c:1' as the leaf node under 'a:2' is removed since it is infrequent.\n",
    "\n",
    "(c)\n",
    "\n",
    "Thus, we can find the frequent patterns for d is {{d}, {b d}, {a,d}, {b,a,d}}."
   ],
   "metadata": {
    "collapsed": false,
    "pycharm": {
     "name": "#%% md\n"
    }
   }
  },
  {
   "cell_type": "markdown",
   "metadata": {},
   "source": [
    "## 2. Apriori for Yelp (50 pts) "
   ]
  },
  {
   "cell_type": "markdown",
   "metadata": {},
   "source": [
    "In `apriori.py`, fill the missing lines. The parameters are set as `min_suppport=50` and `min_conf` = 0.25, and `ignore_one_iter_set=True`. Use the Yelp data `yelp.csv` and `id_nams.csv`, and run the following cell and report the frequent patterns and rules associated with it. "
   ]
  },
  {
   "cell_type": "code",
   "execution_count": null,
   "metadata": {
    "pycharm": {
     "is_executing": true
    }
   },
   "outputs": [],
   "source": [
    "#No need to modify\n",
    "from hw5code.apriori import * \n",
    "input_file = read_data('./data/yelp.csv') \n",
    "min_support = 50\n",
    "min_conf = 0.25\n",
    "items, rules = run_apriori(input_file, min_support, min_conf)\n",
    "name_map = read_name_map('./data/id_name.csv')\n",
    "print_items_rules(items, rules, ignore_one_item_set=True, name_map=name_map)\n",
    "\n"
   ]
  },
  {
   "cell_type": "markdown",
   "metadata": {},
   "source": [
    "What do these results mean? Do a quick Google search and briefly interpret the patterns and rules mined from Yelp in 50 words or less. "
   ]
  },
  {
   "cell_type": "markdown",
   "metadata": {},
   "source": [
    "<span style=\"color:blue\"> Please type your answer here! </span>\n",
    "\n",
    "The results mean people who went to Wicked Spoon also very likely went to these places.\n",
    "\n",
    "These places are geographically close to Wicked Spoon in Las Vegas, and the ones with high rule result are all within the Cosmopolitan of Las Vegas, which means these restaurants may have similar features."
   ]
  },
  {
   "cell_type": "markdown",
   "metadata": {},
   "source": [
    "## 3. Correlation Analysis (10 pts)\n",
    "<span style=\"color:red\"> Note: This is a \"question-answer\" style problem. You do not need to code anything and you are required to calculate by hand (with a scientific calculator). </span>"
   ]
  },
  {
   "cell_type": "markdown",
   "metadata": {},
   "source": [
    "##### Table 2\n",
    "| --- | Beer | No Beer | Total | \n",
    "| --- | --- | --- | --- | \n",
    "| Nuts | 150 | 700 | 850 | \n",
    "| No Nuts | 350 | 8800 | 9150 |\n",
    "| Total | 500 | 9500 | 10000 |\n"
   ]
  },
  {
   "cell_type": "markdown",
   "metadata": {},
   "source": [
    "Table 2 shows how many transactions containing beer and/or nuts among 10000 transactions.<br>\n",
    "\n",
    "\n",
    "Answer the following questions:<br>\n",
    "\n",
    "3.1 Calculate `confidence`,`lift` and `all_confidence` between buying beer and buying nuts. <br>\n",
    "3.2 What are you conclusions of the relationship between buying beer and buying nuts? Justify your conclusion with the previous measurements you calculated in 3.1."
   ]
  },
  {
   "cell_type": "markdown",
   "metadata": {},
   "source": [
    "<span style=\"color:blue\"> Please type your answer here! </span>\n",
    "\n",
    "3.1\n",
    "\n",
    "Confidence:\n",
    "\n",
    "$c(Beer \\rightarrow Nuts) = \\frac{sup(Beer \\cup Nuts)}{sup(Beer)}=\\frac{150}{500}=30\\% $\n",
    "\n",
    "$c(Nuts \\rightarrow Beer) = \\frac{sup(Beer \\cup Nuts)}{sup(Nuts)}=\\frac{150}{850}=17.6\\%$\n",
    "\n",
    "Lift:\n",
    "\n",
    "$Lift = \\frac{sup(Beer \\cup Nuts)}{sup(Beer)sup(Nuts)}=\\frac{150/10000}{(500/10000)*(850/10000)}=3.529$\n",
    "\n",
    "All confidence:\n",
    "\n",
    "$ all\\_confidence = min(c(Beer \\rightarrow Nuts), c(Nuts \\rightarrow Beer)) = min(30\\%, 17.6\\%) = 17.6\\%$\n",
    "\n",
    "3.2\n",
    "\n",
    "The confidence in both direction 30% and 17.6% are very low, which implies that there is no relation between buying beer and buying nuts. Also, it is supported by the value of all_confidence since the value 17.6% is also very low.\n",
    "\n",
    "However, the value of lift 3.529 is very high, and it is bigger than 1, which implies that buying beer and buying nuts has strong association relationship (positively correlated).\n",
    "\n",
    "Such contradictory is because the confidence doesn't consider the total number of non-examples which is very high, and if compared with the confidence of 'buying Nuts but not buying beer' or 'buying beer but not buying nuts', we can find that the confidence that we calculated are relatively very high.\n",
    "\n",
    "So, we can conclude that buying beer and buying nuts are strongly correlated."
   ]
  },
  {
   "cell_type": "markdown",
   "metadata": {},
   "source": [
    "## 4. Sequential Pattern Mining (GSP Algorithm) (15 pts)                                                                                                                                                                                      \n",
    "<span style=\"color:red\"> Note: This is a \"question-answer\" style problem. You do not need to code anything and you are required to calculate by hand (with a scientific calculator). </span>\n",
    "\n",
    "4.1 For a sequence $s = <ab(cd)(ef)>$, how many events or elements does it contain? What is the length of $s$? How many non-empty subsequences does s contain? <br> \n",
    "4.2 Suppose we have $L_3 = \\{ <(ac)e> , <b(cd)> , <bce>, <a(cd)>, <(ab)d>, <(ab)c> \\} $,\n",
    "\n",
    "as the requent 3-sequences, write down all the candidate 4-sequences $C_4$ with the details of the join and pruning steps."
   ]
  },
  {
   "cell_type": "markdown",
   "metadata": {},
   "source": [
    "<span style=\"color:blue\"> Please type your answer here! </span>\n",
    "\n",
    "1. s contains 4 elements: a,b,cd,ef. The length of s is 6  since it has 6 instances of item.\n",
    "\n",
    "Each instance can be in or not in the subsequence, so there are 2^6=64 possibilities. Exclude the empty situation, we have 64-1=63 non-empty subsequences of s in all.\n",
    "\n",
    "2. For each pair of 3-sequences <s1, s2>, we can drop the first item in s1 and drop the last item in s2 to join them. So, we can list all the joined items that can be joined:\n",
    "\n",
    "| s1     | s2  -first | s2     | S2-last | Joined     |\n",
    "| ------ | ---------- | ------ | ------- | ---------- |\n",
    "| (a b)d | b d        | b(d c) | b d     | (a b)(d c) |\n",
    "| (b a)d | a d        | a(d c) | a d     | (b a)(d c) |\n",
    "| (a b)c | b c        | b(c d) | b c     | (a b)(c d) |\n",
    "| (a b)c | b c        | b c e  | b c     | (a b)c e   |\n",
    "| (b a)c | a c        | a(c d) | a c     | (b a)(c d) |\n",
    "\n",
    "Thus, we find that there are two sequences after joining: (a b)(c d) and (a b) c e. We can prune sequence <(a b) c e> since it has a subsequence <a b e> that is not frequent in L3. However, sequence <(a b)(c d)> cannot be pruned since alll of its subsequence are frequent.\n",
    "\n",
    "Therefore, we have the list of candidate of 4-sequences: <(a b)(c d)>."
   ]
  },
  {
   "cell_type": "markdown",
   "metadata": {},
   "source": [
    "## 5 Bonus Question (10 pts) "
   ]
  },
  {
   "cell_type": "markdown",
   "metadata": {},
   "source": [
    "1.In FP-tree, what will happen if we use `ascending` instead `descending` in header table? <br>\n",
    "2.Describe CloSpan (`Mining closed sequential patterns: CloSpan (Yan, Han & Afshar @SDM’03)`). Compare with algorithms we discussed in class."
   ]
  },
  {
   "cell_type": "markdown",
   "metadata": {},
   "source": [
    "<span style=\"color:blue\"> Please type your answer here! </span>\n",
    "1. If using ascending in header table, we cannot form a tree-like FP-tree since the items with less frequency should be leaf nodes as other items with higher frequency cannot be nodes under it. So, in order to construct FP-tree, we should use the descending order.\n",
    "\n",
    "\n",
    "2. The CloSpan algorithms is generally fast than other sequential patterns mining algorithm.\n",
    "\n",
    "As previous algorithms mine the full set of frequent subsequences satisfying the min_sup threshold in the dataase, CloSpan mines frequent closed subsequences only, which prevents the explosive number of frequent subsequences for long patterns.\n",
    "\n",
    "Also, CloSpan can mine very long sequences which is unminable by previous algorithm.\n",
    "\n",
    "Basically, it utilizes a hash-based algorithm to optimize the search space, and do search space post-pruning to further optimize it. Generally, it makes a trade-off between the size of the candidate set and the cost to compute it.\n",
    "\n",
    "Thus, it makes the mining much faster when the threshold is very low or when the subsequences are very long, compared with other mining algorithms."
   ]
  },
  {
   "cell_type": "markdown",
   "metadata": {},
   "source": [
    "# End of Homework 5 :)\n",
    "After you've finished the homework, please print out the entire `ipynb` notebook and four `py` files into one PDF file. Make sure you include the output of code cells and answers for questions. Prepare submit it to GradeScope. Also this time remember assign the pages to the questions on GradeScope"
   ]
  }
 ],
 "metadata": {
  "kernelspec": {
   "name": "pycharm-26adf121",
   "language": "python",
   "display_name": "PyCharm (PycharmProjects)"
  },
  "language_info": {
   "codemirror_mode": {
    "name": "ipython",
    "version": 3
   },
   "file_extension": ".py",
   "mimetype": "text/x-python",
   "name": "python",
   "nbconvert_exporter": "python",
   "pygments_lexer": "ipython3",
   "version": "3.7.7"
  }
 },
 "nbformat": 4,
 "nbformat_minor": 4
}