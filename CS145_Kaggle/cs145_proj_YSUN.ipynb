{
 "nbformat": 4,
 "nbformat_minor": 0,
 "metadata": {
  "colab": {
   "name": "cs145_proj_YSUN.ipynb",
   "provenance": [],
   "collapsed_sections": [
    "c2Faca-gNkFR",
    "qluRfTLgqKcz",
    "uDAC9uEcNMEc",
    "8CSbP4CVFzb6",
    "xV-DGg8O2vVG",
    "JM82GCauCwHo"
   ]
  },
  "kernelspec": {
   "name": "pycharm-26adf121",
   "language": "python",
   "display_name": "PyCharm (PycharmProjects)"
  }
 },
 "cells": [
  {
   "cell_type": "code",
   "metadata": {
    "id": "Nk0YWcdt5R5H"
   },
   "source": [
    "import pandas as pd\n",
    "import numpy as np \n",
    "from sklearn.model_selection import train_test_split\n",
    "import torch\n",
    "import torch.nn as nn\n",
    "import torch.optim as optim\n",
    "from torch.utils.data import Dataset, DataLoader\n",
    "from torch.autograd import Variable\n",
    "import torch.nn.functional as F\n",
    "from sklearn.metrics import mean_squared_error\n",
    "import seaborn as sns\n",
    "import numpy as np\n",
    "import matplotlib.colors as mcolors\n",
    "import matplotlib.pyplot as plt\n",
    "import sklearn\n",
    "from scipy.signal import savgol_filter\n",
    "from sklearn import preprocessing\n",
    "import statistics \n",
    "from tqdm import tqdm\n",
    "import copy\n",
    "from random import randint \n",
    "import math\n",
    "from matplotlib import ticker\n",
    "# from google.colab import files\n",
    "from fbprophet import Prophet\n",
    "import datetime"
   ],
   "execution_count": 26,
   "outputs": []
  },
  {
   "cell_type": "code",
   "metadata": {
    "id": "fstrUz3eZyPO",
    "colab": {
     "base_uri": "https://localhost:8080/"
    },
    "executionInfo": {
     "status": "ok",
     "timestamp": 1606609293867,
     "user_tz": 360,
     "elapsed": 213442,
     "user": {
      "displayName": "Thomas Sun",
      "photoUrl": "https://lh3.googleusercontent.com/a-/AOh14Gge-4Dkf8K882kgbBR9hPTcHW4PsnCxrfeR01sDBw=s64",
      "userId": "06890183580794949868"
     }
    },
    "outputId": "0ab599bb-bd92-420a-af1e-8f69f849a9fd"
   },
   "source": [
    "# from google.colab import drive\n",
    "# drive.mount('/content/drive')"
   ],
   "execution_count": 27,
   "outputs": []
  },
  {
   "cell_type": "code",
   "metadata": {
    "id": "1aqWFahkZ3Be",
    "colab": {
     "base_uri": "https://localhost:8080/"
    },
    "executionInfo": {
     "status": "ok",
     "timestamp": 1606609294015,
     "user_tz": 360,
     "elapsed": 213579,
     "user": {
      "displayName": "Thomas Sun",
      "photoUrl": "https://lh3.googleusercontent.com/a-/AOh14Gge-4Dkf8K882kgbBR9hPTcHW4PsnCxrfeR01sDBw=s64",
      "userId": "06890183580794949868"
     }
    },
    "outputId": "cd0440b9-ebc3-4fd5-a30f-0e106a8f364c"
   },
   "source": [
    "# %cd /content/drive/'My Drive'/'CS145_Kaggle'\n",
    "# %ls\n"
   ],
   "execution_count": 28,
   "outputs": []
  },
  {
   "cell_type": "code",
   "metadata": {
    "id": "5vVwaNMC6Ibs"
   },
   "source": [
    "traindf = pd.read_csv(\"train.csv\")\n",
    "testdf = pd.read_csv(\"test.csv\")\n",
    "full_testdf = pd.read_csv(\"full_test.csv\")\n",
    "# mobility = pd.read_csv(\"summarized_mobility.csv\")"
   ],
   "execution_count": 29,
   "outputs": []
  },
  {
   "cell_type": "code",
   "metadata": {
    "id": "W03YJeVPzHxm",
    "colab": {
     "base_uri": "https://localhost:8080/",
     "height": 282
    },
    "executionInfo": {
     "status": "ok",
     "timestamp": 1606540057701,
     "user_tz": -480,
     "elapsed": 798,
     "user": {
      "displayName": "Ziyan Wang",
      "photoUrl": "",
      "userId": "14450291798637942954"
     }
    },
    "outputId": "4f84f7fd-809f-499b-c6ae-1221780ae1c7"
   },
   "source": [
    "traindf[traindf.Province_State == \"Pennsylvania\"].Deaths.iloc[-50:].plot()"
   ],
   "execution_count": 30,
   "outputs": [
    {
     "data": {
      "text/plain": "<matplotlib.axes._subplots.AxesSubplot at 0x7fbc493447f0>"
     },
     "execution_count": 30,
     "metadata": {},
     "output_type": "execute_result"
    },
    {
     "data": {
      "text/plain": "<Figure size 432x288 with 1 Axes>",
      "image/png": "[encoded data removed]"
     },
     "metadata": {
      "needs_background": "light"
     },
     "output_type": "display_data"
    }
   ]
  },
  {
   "cell_type": "code",
   "metadata": {
    "id": "TbdcAHQ26cdr",
    "colab": {
     "base_uri": "https://localhost:8080/",
     "height": 203
    },
    "executionInfo": {
     "status": "ok",
     "timestamp": 1606540058334,
     "user_tz": -480,
     "elapsed": 1263,
     "user": {
      "displayName": "Ziyan Wang",
      "photoUrl": "",
      "userId": "14450291798637942954"
     }
    },
    "outputId": "64b7307f-e52b-4b6c-ccf6-5bbac0c1fcb9"
   },
   "source": [
    "testdf.head()"
   ],
   "execution_count": 31,
   "outputs": [
    {
     "data": {
      "text/plain": "   ForecastID Province_State        Date  Confirmed  Deaths\n0           0        Alabama  09-01-2020     127616    2200\n1           1         Alaska  09-01-2020       5297      39\n2           2        Arizona  09-01-2020     202342    5044\n3           3       Arkansas  09-01-2020      61497     814\n4           4     California  09-01-2020     715617   13150",
      "text/html": "<div>\n<style scoped>\n    .dataframe tbody tr th:only-of-type {\n        vertical-align: middle;\n    }\n\n    .dataframe tbody tr th {\n        vertical-align: top;\n    }\n\n    .dataframe thead th {\n        text-align: right;\n    }\n</style>\n<table border=\"1\" class=\"dataframe\">\n  <thead>\n    <tr style=\"text-align: right;\">\n      <th></th>\n      <th>ForecastID</th>\n      <th>Province_State</th>\n      <th>Date</th>\n      <th>Confirmed</th>\n      <th>Deaths</th>\n    </tr>\n  </thead>\n  <tbody>\n    <tr>\n      <th>0</th>\n      <td>0</td>\n      <td>Alabama</td>\n      <td>09-01-2020</td>\n      <td>127616</td>\n      <td>2200</td>\n    </tr>\n    <tr>\n      <th>1</th>\n      <td>1</td>\n      <td>Alaska</td>\n      <td>09-01-2020</td>\n      <td>5297</td>\n      <td>39</td>\n    </tr>\n    <tr>\n      <th>2</th>\n      <td>2</td>\n      <td>Arizona</td>\n      <td>09-01-2020</td>\n      <td>202342</td>\n      <td>5044</td>\n    </tr>\n    <tr>\n      <th>3</th>\n      <td>3</td>\n      <td>Arkansas</td>\n      <td>09-01-2020</td>\n      <td>61497</td>\n      <td>814</td>\n    </tr>\n    <tr>\n      <th>4</th>\n      <td>4</td>\n      <td>California</td>\n      <td>09-01-2020</td>\n      <td>715617</td>\n      <td>13150</td>\n    </tr>\n  </tbody>\n</table>\n</div>"
     },
     "execution_count": 31,
     "metadata": {},
     "output_type": "execute_result"
    }
   ]
  },
  {
   "cell_type": "code",
   "metadata": {
    "colab": {
     "base_uri": "https://localhost:8080/",
     "height": 269
    },
    "id": "bRH15HAXQcnW",
    "executionInfo": {
     "status": "ok",
     "timestamp": 1606540191588,
     "user_tz": -480,
     "elapsed": 752,
     "user": {
      "displayName": "Ziyan Wang",
      "photoUrl": "",
      "userId": "14450291798637942954"
     }
    },
    "outputId": "bc5ee7f5-8515-4f36-d33b-b9849c7d5372"
   },
   "source": [
    "# mobility.head()"
   ],
   "execution_count": 32,
   "outputs": []
  },
  {
   "cell_type": "markdown",
   "metadata": {
    "id": "c2Faca-gNkFR"
   },
   "source": [
    "### Fill-in incomplete-test csv (same format as submission)"
   ]
  },
  {
   "cell_type": "code",
   "metadata": {
    "id": "vPNIqHkN-lOt",
    "colab": {
     "base_uri": "https://localhost:8080/",
     "height": 406
    },
    "executionInfo": {
     "status": "error",
     "timestamp": 1606442588983,
     "user_tz": -480,
     "elapsed": 887,
     "user": {
      "displayName": "Ziyan Wang",
      "photoUrl": "",
      "userId": "14450291798637942954"
     }
    },
    "outputId": "d9748dcb-2d00-467d-e5cb-6cfbd26ecff0"
   },
   "source": [
    "df2 = pd.read_csv(\"train.csv\", usecols=[\"Province_State\", \"Confirmed\", \"Deaths\"])\n",
    "df2.tail()"
   ],
   "execution_count": 33,
   "outputs": [
    {
     "data": {
      "text/plain": "     Province_State  Confirmed  Deaths\n7095       Virginia     120575    2580\n7096     Washington      74635    1915\n7097  West Virginia      10249     215\n7098      Wisconsin      75603    1122\n7099        Wyoming       3850      37",
      "text/html": "<div>\n<style scoped>\n    .dataframe tbody tr th:only-of-type {\n        vertical-align: middle;\n    }\n\n    .dataframe tbody tr th {\n        vertical-align: top;\n    }\n\n    .dataframe thead th {\n        text-align: right;\n    }\n</style>\n<table border=\"1\" class=\"dataframe\">\n  <thead>\n    <tr style=\"text-align: right;\">\n      <th></th>\n      <th>Province_State</th>\n      <th>Confirmed</th>\n      <th>Deaths</th>\n    </tr>\n  </thead>\n  <tbody>\n    <tr>\n      <th>7095</th>\n      <td>Virginia</td>\n      <td>120575</td>\n      <td>2580</td>\n    </tr>\n    <tr>\n      <th>7096</th>\n      <td>Washington</td>\n      <td>74635</td>\n      <td>1915</td>\n    </tr>\n    <tr>\n      <th>7097</th>\n      <td>West Virginia</td>\n      <td>10249</td>\n      <td>215</td>\n    </tr>\n    <tr>\n      <th>7098</th>\n      <td>Wisconsin</td>\n      <td>75603</td>\n      <td>1122</td>\n    </tr>\n    <tr>\n      <th>7099</th>\n      <td>Wyoming</td>\n      <td>3850</td>\n      <td>37</td>\n    </tr>\n  </tbody>\n</table>\n</div>"
     },
     "execution_count": 33,
     "metadata": {},
     "output_type": "execute_result"
    }
   ]
  },
  {
   "cell_type": "code",
   "metadata": {
    "id": "7ho0WcuiBfqB"
   },
   "source": [
    "teststates = testdf.Province_State.unique().tolist()\n",
    "newdfstates = df2.Province_State.unique().tolist()\n",
    "skipstate = []\n",
    "skipidx = []\n",
    "idx = 0\n",
    "for state in newdfstates:\n",
    "  if state not in teststates:\n",
    "    skipstate += [state]\n",
    "    skipidx += [idx]\n",
    "  idx += 1\n",
    "skipstate"
   ],
   "execution_count": 34,
   "outputs": [
    {
     "data": {
      "text/plain": "[]"
     },
     "execution_count": 34,
     "metadata": {},
     "output_type": "execute_result"
    }
   ]
  },
  {
   "cell_type": "code",
   "metadata": {
    "id": "3zC1yuzLKBOL"
   },
   "source": [
    "df2 = df2.drop(index = skipidx)\n",
    "df2 = df2.reset_index(drop=True)\n",
    "print(len(df2))\n",
    "df2.head()"
   ],
   "execution_count": 35,
   "outputs": [
    {
     "name": "stdout",
     "output_type": "stream",
     "text": [
      "7100\n"
     ]
    },
    {
     "data": {
      "text/plain": "  Province_State  Confirmed  Deaths\n0        Alabama       3563      93\n1         Alaska        272       8\n2        Arizona       3542     115\n3       Arkansas       1280      27\n4     California      22795     640",
      "text/html": "<div>\n<style scoped>\n    .dataframe tbody tr th:only-of-type {\n        vertical-align: middle;\n    }\n\n    .dataframe tbody tr th {\n        vertical-align: top;\n    }\n\n    .dataframe thead th {\n        text-align: right;\n    }\n</style>\n<table border=\"1\" class=\"dataframe\">\n  <thead>\n    <tr style=\"text-align: right;\">\n      <th></th>\n      <th>Province_State</th>\n      <th>Confirmed</th>\n      <th>Deaths</th>\n    </tr>\n  </thead>\n  <tbody>\n    <tr>\n      <th>0</th>\n      <td>Alabama</td>\n      <td>3563</td>\n      <td>93</td>\n    </tr>\n    <tr>\n      <th>1</th>\n      <td>Alaska</td>\n      <td>272</td>\n      <td>8</td>\n    </tr>\n    <tr>\n      <th>2</th>\n      <td>Arizona</td>\n      <td>3542</td>\n      <td>115</td>\n    </tr>\n    <tr>\n      <th>3</th>\n      <td>Arkansas</td>\n      <td>1280</td>\n      <td>27</td>\n    </tr>\n    <tr>\n      <th>4</th>\n      <td>California</td>\n      <td>22795</td>\n      <td>640</td>\n    </tr>\n  </tbody>\n</table>\n</div>"
     },
     "execution_count": 35,
     "metadata": {},
     "output_type": "execute_result"
    }
   ]
  },
  {
   "cell_type": "code",
   "metadata": {
    "id": "qd3rOCsfHfeM"
   },
   "source": [
    "tempdf = copy.copy(testdf)\n",
    "tempdf.iloc[0:1*50, 3:5] = df2[['Confirmed', 'Deaths']]"
   ],
   "execution_count": 36,
   "outputs": []
  },
  {
   "cell_type": "code",
   "metadata": {
    "id": "pQ1A2MPs6fPf"
   },
   "source": [
    "for i in range(26):\n",
    "  df = pd.read_csv(\"{}.csv\".format(i+1), usecols=[\"Province_State\", \"Confirmed\", \"Deaths\"])\n",
    "  df = df.drop(index = skipidx)\n",
    "  df = df.set_index(np.arange(i*50, (i+1)*50))\n",
    "  assert len(df) == 50\n",
    "  testdf.iloc[i*50:(i+1)*50, 3:5] = df[['Confirmed', 'Deaths']]\n",
    "  "
   ],
   "execution_count": 37,
   "outputs": [
    {
     "ename": "FileNotFoundError",
     "evalue": "[Errno 2] No such file or directory: '1.csv'",
     "output_type": "error",
     "traceback": [
      "\u001B[0;31m---------------------------------------------------------------------------\u001B[0m",
      "\u001B[0;31mFileNotFoundError\u001B[0m                         Traceback (most recent call last)",
      "\u001B[0;32m<ipython-input-37-468ba09a3e32>\u001B[0m in \u001B[0;36m<module>\u001B[0;34m\u001B[0m\n\u001B[1;32m      1\u001B[0m \u001B[0;32mfor\u001B[0m \u001B[0mi\u001B[0m \u001B[0;32min\u001B[0m \u001B[0mrange\u001B[0m\u001B[0;34m(\u001B[0m\u001B[0;36m26\u001B[0m\u001B[0;34m)\u001B[0m\u001B[0;34m:\u001B[0m\u001B[0;34m\u001B[0m\u001B[0;34m\u001B[0m\u001B[0m\n\u001B[0;32m----> 2\u001B[0;31m   \u001B[0mdf\u001B[0m \u001B[0;34m=\u001B[0m \u001B[0mpd\u001B[0m\u001B[0;34m.\u001B[0m\u001B[0mread_csv\u001B[0m\u001B[0;34m(\u001B[0m\u001B[0;34m\"{}.csv\"\u001B[0m\u001B[0;34m.\u001B[0m\u001B[0mformat\u001B[0m\u001B[0;34m(\u001B[0m\u001B[0mi\u001B[0m\u001B[0;34m+\u001B[0m\u001B[0;36m1\u001B[0m\u001B[0;34m)\u001B[0m\u001B[0;34m,\u001B[0m \u001B[0musecols\u001B[0m\u001B[0;34m=\u001B[0m\u001B[0;34m[\u001B[0m\u001B[0;34m\"Province_State\"\u001B[0m\u001B[0;34m,\u001B[0m \u001B[0;34m\"Confirmed\"\u001B[0m\u001B[0;34m,\u001B[0m \u001B[0;34m\"Deaths\"\u001B[0m\u001B[0;34m]\u001B[0m\u001B[0;34m)\u001B[0m\u001B[0;34m\u001B[0m\u001B[0;34m\u001B[0m\u001B[0m\n\u001B[0m\u001B[1;32m      3\u001B[0m   \u001B[0mdf\u001B[0m \u001B[0;34m=\u001B[0m \u001B[0mdf\u001B[0m\u001B[0;34m.\u001B[0m\u001B[0mdrop\u001B[0m\u001B[0;34m(\u001B[0m\u001B[0mindex\u001B[0m \u001B[0;34m=\u001B[0m \u001B[0mskipidx\u001B[0m\u001B[0;34m)\u001B[0m\u001B[0;34m\u001B[0m\u001B[0;34m\u001B[0m\u001B[0m\n\u001B[1;32m      4\u001B[0m   \u001B[0mdf\u001B[0m \u001B[0;34m=\u001B[0m \u001B[0mdf\u001B[0m\u001B[0;34m.\u001B[0m\u001B[0mset_index\u001B[0m\u001B[0;34m(\u001B[0m\u001B[0mnp\u001B[0m\u001B[0;34m.\u001B[0m\u001B[0marange\u001B[0m\u001B[0;34m(\u001B[0m\u001B[0mi\u001B[0m\u001B[0;34m*\u001B[0m\u001B[0;36m50\u001B[0m\u001B[0;34m,\u001B[0m \u001B[0;34m(\u001B[0m\u001B[0mi\u001B[0m\u001B[0;34m+\u001B[0m\u001B[0;36m1\u001B[0m\u001B[0;34m)\u001B[0m\u001B[0;34m*\u001B[0m\u001B[0;36m50\u001B[0m\u001B[0;34m)\u001B[0m\u001B[0;34m)\u001B[0m\u001B[0;34m\u001B[0m\u001B[0;34m\u001B[0m\u001B[0m\n\u001B[1;32m      5\u001B[0m   \u001B[0;32massert\u001B[0m \u001B[0mlen\u001B[0m\u001B[0;34m(\u001B[0m\u001B[0mdf\u001B[0m\u001B[0;34m)\u001B[0m \u001B[0;34m==\u001B[0m \u001B[0;36m50\u001B[0m\u001B[0;34m\u001B[0m\u001B[0;34m\u001B[0m\u001B[0m\n",
      "\u001B[0;32m~/anaconda3/lib/python3.7/site-packages/pandas/io/parsers.py\u001B[0m in \u001B[0;36mread_csv\u001B[0;34m(filepath_or_buffer, sep, delimiter, header, names, index_col, usecols, squeeze, prefix, mangle_dupe_cols, dtype, engine, converters, true_values, false_values, skipinitialspace, skiprows, skipfooter, nrows, na_values, keep_default_na, na_filter, verbose, skip_blank_lines, parse_dates, infer_datetime_format, keep_date_col, date_parser, dayfirst, cache_dates, iterator, chunksize, compression, thousands, decimal, lineterminator, quotechar, quoting, doublequote, escapechar, comment, encoding, dialect, error_bad_lines, warn_bad_lines, delim_whitespace, low_memory, memory_map, float_precision)\u001B[0m\n\u001B[1;32m    684\u001B[0m     )\n\u001B[1;32m    685\u001B[0m \u001B[0;34m\u001B[0m\u001B[0m\n\u001B[0;32m--> 686\u001B[0;31m     \u001B[0;32mreturn\u001B[0m \u001B[0m_read\u001B[0m\u001B[0;34m(\u001B[0m\u001B[0mfilepath_or_buffer\u001B[0m\u001B[0;34m,\u001B[0m \u001B[0mkwds\u001B[0m\u001B[0;34m)\u001B[0m\u001B[0;34m\u001B[0m\u001B[0;34m\u001B[0m\u001B[0m\n\u001B[0m\u001B[1;32m    687\u001B[0m \u001B[0;34m\u001B[0m\u001B[0m\n\u001B[1;32m    688\u001B[0m \u001B[0;34m\u001B[0m\u001B[0m\n",
      "\u001B[0;32m~/anaconda3/lib/python3.7/site-packages/pandas/io/parsers.py\u001B[0m in \u001B[0;36m_read\u001B[0;34m(filepath_or_buffer, kwds)\u001B[0m\n\u001B[1;32m    450\u001B[0m \u001B[0;34m\u001B[0m\u001B[0m\n\u001B[1;32m    451\u001B[0m     \u001B[0;31m# Create the parser.\u001B[0m\u001B[0;34m\u001B[0m\u001B[0;34m\u001B[0m\u001B[0;34m\u001B[0m\u001B[0m\n\u001B[0;32m--> 452\u001B[0;31m     \u001B[0mparser\u001B[0m \u001B[0;34m=\u001B[0m \u001B[0mTextFileReader\u001B[0m\u001B[0;34m(\u001B[0m\u001B[0mfp_or_buf\u001B[0m\u001B[0;34m,\u001B[0m \u001B[0;34m**\u001B[0m\u001B[0mkwds\u001B[0m\u001B[0;34m)\u001B[0m\u001B[0;34m\u001B[0m\u001B[0;34m\u001B[0m\u001B[0m\n\u001B[0m\u001B[1;32m    453\u001B[0m \u001B[0;34m\u001B[0m\u001B[0m\n\u001B[1;32m    454\u001B[0m     \u001B[0;32mif\u001B[0m \u001B[0mchunksize\u001B[0m \u001B[0;32mor\u001B[0m \u001B[0miterator\u001B[0m\u001B[0;34m:\u001B[0m\u001B[0;34m\u001B[0m\u001B[0;34m\u001B[0m\u001B[0m\n",
      "\u001B[0;32m~/anaconda3/lib/python3.7/site-packages/pandas/io/parsers.py\u001B[0m in \u001B[0;36m__init__\u001B[0;34m(self, f, engine, **kwds)\u001B[0m\n\u001B[1;32m    944\u001B[0m             \u001B[0mself\u001B[0m\u001B[0;34m.\u001B[0m\u001B[0moptions\u001B[0m\u001B[0;34m[\u001B[0m\u001B[0;34m\"has_index_names\"\u001B[0m\u001B[0;34m]\u001B[0m \u001B[0;34m=\u001B[0m \u001B[0mkwds\u001B[0m\u001B[0;34m[\u001B[0m\u001B[0;34m\"has_index_names\"\u001B[0m\u001B[0;34m]\u001B[0m\u001B[0;34m\u001B[0m\u001B[0;34m\u001B[0m\u001B[0m\n\u001B[1;32m    945\u001B[0m \u001B[0;34m\u001B[0m\u001B[0m\n\u001B[0;32m--> 946\u001B[0;31m         \u001B[0mself\u001B[0m\u001B[0;34m.\u001B[0m\u001B[0m_make_engine\u001B[0m\u001B[0;34m(\u001B[0m\u001B[0mself\u001B[0m\u001B[0;34m.\u001B[0m\u001B[0mengine\u001B[0m\u001B[0;34m)\u001B[0m\u001B[0;34m\u001B[0m\u001B[0;34m\u001B[0m\u001B[0m\n\u001B[0m\u001B[1;32m    947\u001B[0m \u001B[0;34m\u001B[0m\u001B[0m\n\u001B[1;32m    948\u001B[0m     \u001B[0;32mdef\u001B[0m \u001B[0mclose\u001B[0m\u001B[0;34m(\u001B[0m\u001B[0mself\u001B[0m\u001B[0;34m)\u001B[0m\u001B[0;34m:\u001B[0m\u001B[0;34m\u001B[0m\u001B[0;34m\u001B[0m\u001B[0m\n",
      "\u001B[0;32m~/anaconda3/lib/python3.7/site-packages/pandas/io/parsers.py\u001B[0m in \u001B[0;36m_make_engine\u001B[0;34m(self, engine)\u001B[0m\n\u001B[1;32m   1176\u001B[0m     \u001B[0;32mdef\u001B[0m \u001B[0m_make_engine\u001B[0m\u001B[0;34m(\u001B[0m\u001B[0mself\u001B[0m\u001B[0;34m,\u001B[0m \u001B[0mengine\u001B[0m\u001B[0;34m=\u001B[0m\u001B[0;34m\"c\"\u001B[0m\u001B[0;34m)\u001B[0m\u001B[0;34m:\u001B[0m\u001B[0;34m\u001B[0m\u001B[0;34m\u001B[0m\u001B[0m\n\u001B[1;32m   1177\u001B[0m         \u001B[0;32mif\u001B[0m \u001B[0mengine\u001B[0m \u001B[0;34m==\u001B[0m \u001B[0;34m\"c\"\u001B[0m\u001B[0;34m:\u001B[0m\u001B[0;34m\u001B[0m\u001B[0;34m\u001B[0m\u001B[0m\n\u001B[0;32m-> 1178\u001B[0;31m             \u001B[0mself\u001B[0m\u001B[0;34m.\u001B[0m\u001B[0m_engine\u001B[0m \u001B[0;34m=\u001B[0m \u001B[0mCParserWrapper\u001B[0m\u001B[0;34m(\u001B[0m\u001B[0mself\u001B[0m\u001B[0;34m.\u001B[0m\u001B[0mf\u001B[0m\u001B[0;34m,\u001B[0m \u001B[0;34m**\u001B[0m\u001B[0mself\u001B[0m\u001B[0;34m.\u001B[0m\u001B[0moptions\u001B[0m\u001B[0;34m)\u001B[0m\u001B[0;34m\u001B[0m\u001B[0;34m\u001B[0m\u001B[0m\n\u001B[0m\u001B[1;32m   1179\u001B[0m         \u001B[0;32melse\u001B[0m\u001B[0;34m:\u001B[0m\u001B[0;34m\u001B[0m\u001B[0;34m\u001B[0m\u001B[0m\n\u001B[1;32m   1180\u001B[0m             \u001B[0;32mif\u001B[0m \u001B[0mengine\u001B[0m \u001B[0;34m==\u001B[0m \u001B[0;34m\"python\"\u001B[0m\u001B[0;34m:\u001B[0m\u001B[0;34m\u001B[0m\u001B[0;34m\u001B[0m\u001B[0m\n",
      "\u001B[0;32m~/anaconda3/lib/python3.7/site-packages/pandas/io/parsers.py\u001B[0m in \u001B[0;36m__init__\u001B[0;34m(self, src, **kwds)\u001B[0m\n\u001B[1;32m   2006\u001B[0m         \u001B[0mkwds\u001B[0m\u001B[0;34m[\u001B[0m\u001B[0;34m\"usecols\"\u001B[0m\u001B[0;34m]\u001B[0m \u001B[0;34m=\u001B[0m \u001B[0mself\u001B[0m\u001B[0;34m.\u001B[0m\u001B[0musecols\u001B[0m\u001B[0;34m\u001B[0m\u001B[0;34m\u001B[0m\u001B[0m\n\u001B[1;32m   2007\u001B[0m \u001B[0;34m\u001B[0m\u001B[0m\n\u001B[0;32m-> 2008\u001B[0;31m         \u001B[0mself\u001B[0m\u001B[0;34m.\u001B[0m\u001B[0m_reader\u001B[0m \u001B[0;34m=\u001B[0m \u001B[0mparsers\u001B[0m\u001B[0;34m.\u001B[0m\u001B[0mTextReader\u001B[0m\u001B[0;34m(\u001B[0m\u001B[0msrc\u001B[0m\u001B[0;34m,\u001B[0m \u001B[0;34m**\u001B[0m\u001B[0mkwds\u001B[0m\u001B[0;34m)\u001B[0m\u001B[0;34m\u001B[0m\u001B[0;34m\u001B[0m\u001B[0m\n\u001B[0m\u001B[1;32m   2009\u001B[0m         \u001B[0mself\u001B[0m\u001B[0;34m.\u001B[0m\u001B[0munnamed_cols\u001B[0m \u001B[0;34m=\u001B[0m \u001B[0mself\u001B[0m\u001B[0;34m.\u001B[0m\u001B[0m_reader\u001B[0m\u001B[0;34m.\u001B[0m\u001B[0munnamed_cols\u001B[0m\u001B[0;34m\u001B[0m\u001B[0;34m\u001B[0m\u001B[0m\n\u001B[1;32m   2010\u001B[0m \u001B[0;34m\u001B[0m\u001B[0m\n",
      "\u001B[0;32mpandas/_libs/parsers.pyx\u001B[0m in \u001B[0;36mpandas._libs.parsers.TextReader.__cinit__\u001B[0;34m()\u001B[0m\n",
      "\u001B[0;32mpandas/_libs/parsers.pyx\u001B[0m in \u001B[0;36mpandas._libs.parsers.TextReader._setup_parser_source\u001B[0;34m()\u001B[0m\n",
      "\u001B[0;31mFileNotFoundError\u001B[0m: [Errno 2] No such file or directory: '1.csv'"
     ]
    }
   ]
  },
  {
   "cell_type": "code",
   "metadata": {
    "id": "zFqnj1UqMP-A",
    "colab": {
     "base_uri": "https://localhost:8080/",
     "height": 16
    },
    "executionInfo": {
     "status": "ok",
     "timestamp": 1604173742726,
     "user_tz": 300,
     "elapsed": 280,
     "user": {
      "displayName": "Thomas Sun",
      "photoUrl": "https://lh3.googleusercontent.com/a-/AOh14Gge-4Dkf8K882kgbBR9hPTcHW4PsnCxrfeR01sDBw=s64",
      "userId": "06890183580794949868"
     }
    },
    "outputId": "69238fe5-ceb4-4d1d-ce46-dd8a9f10655e"
   },
   "source": [
    "from google.colab import files\n",
    "testdf.to_csv('test.csv')  \n",
    "files.download(\"test.csv\")"
   ],
   "execution_count": null,
   "outputs": []
  },
  {
   "cell_type": "markdown",
   "metadata": {
    "id": "qluRfTLgqKcz"
   },
   "source": [
    "### Fill-in complete test csv (all features as train)"
   ]
  },
  {
   "cell_type": "code",
   "metadata": {
    "colab": {
     "base_uri": "https://localhost:8080/",
     "height": 394
    },
    "id": "60Hzf6HkqLJ9",
    "executionInfo": {
     "status": "ok",
     "timestamp": 1606442657826,
     "user_tz": -480,
     "elapsed": 1785,
     "user": {
      "displayName": "Ziyan Wang",
      "photoUrl": "",
      "userId": "14450291798637942954"
     }
    },
    "outputId": "1a8cc977-87db-4be0-a0d1-790145829391"
   },
   "source": [
    "traindf.head()"
   ],
   "execution_count": null,
   "outputs": []
  },
  {
   "cell_type": "code",
   "metadata": {
    "id": "CfRok1WysstH"
   },
   "source": [
    "all_features = traindf.columns.to_list()\n",
    "all_features.remove('ID')\n",
    "all_features.remove('Date')"
   ],
   "execution_count": null,
   "outputs": []
  },
  {
   "cell_type": "code",
   "metadata": {
    "colab": {
     "base_uri": "https://localhost:8080/",
     "height": 406
    },
    "id": "PtXgBVG5qRMQ",
    "executionInfo": {
     "status": "error",
     "timestamp": 1606442665641,
     "user_tz": -480,
     "elapsed": 1117,
     "user": {
      "displayName": "Ziyan Wang",
      "photoUrl": "",
      "userId": "14450291798637942954"
     }
    },
    "outputId": "f66cdc57-69ed-418e-ba9d-9886458f9138"
   },
   "source": [
    "df = pd.read_csv(\"1.csv\", usecols= all_features)\n",
    "df.head()"
   ],
   "execution_count": null,
   "outputs": []
  },
  {
   "cell_type": "code",
   "metadata": {
    "id": "He8IYa4dqfre",
    "colab": {
     "base_uri": "https://localhost:8080/",
     "height": 241
    },
    "executionInfo": {
     "status": "error",
     "timestamp": 1606442762966,
     "user_tz": -480,
     "elapsed": 1797,
     "user": {
      "displayName": "Ziyan Wang",
      "photoUrl": "",
      "userId": "14450291798637942954"
     }
    },
    "outputId": "c3a9e9b4-e397-4672-99e8-89570bcffe20"
   },
   "source": [
    "teststates = traindf.Province_State.unique().tolist()\n",
    "newdfstates = df.Province_State.unique().tolist()\n",
    "skipstate = []\n",
    "skipidx = []\n",
    "idx = 0\n",
    "for state in newdfstates:\n",
    "  if state not in teststates:\n",
    "    skipstate += [state]\n",
    "    skipidx += [idx]\n",
    "  idx += 1\n",
    "skipstate"
   ],
   "execution_count": null,
   "outputs": []
  },
  {
   "cell_type": "code",
   "metadata": {
    "id": "uW5mm5jcu9XE"
   },
   "source": [
    "df = df.drop(index = skipidx)"
   ],
   "execution_count": null,
   "outputs": []
  },
  {
   "cell_type": "code",
   "metadata": {
    "colab": {
     "base_uri": "https://localhost:8080/",
     "height": 35
    },
    "id": "rR-m9Z3guwId",
    "executionInfo": {
     "status": "ok",
     "timestamp": 1605995577240,
     "user_tz": 360,
     "elapsed": 594,
     "user": {
      "displayName": "Thomas Sun",
      "photoUrl": "https://lh3.googleusercontent.com/a-/AOh14Gge-4Dkf8K882kgbBR9hPTcHW4PsnCxrfeR01sDBw=s64",
      "userId": "06890183580794949868"
     }
    },
    "outputId": "f45a4f1c-031d-4f2c-c66f-5b9c9bbb3603"
   },
   "source": [
    "import datetime\n",
    "start_date = datetime.date(2020, 9, 1)\n",
    "delta = datetime.timedelta(days=1)\n",
    "str(start_date + delta)"
   ],
   "execution_count": 38,
   "outputs": [
    {
     "data": {
      "text/plain": "'2020-09-02'"
     },
     "execution_count": 38,
     "metadata": {},
     "output_type": "execute_result"
    }
   ]
  },
  {
   "cell_type": "code",
   "metadata": {
    "colab": {
     "base_uri": "https://localhost:8080/",
     "height": 197
    },
    "id": "7iSNaDPCuglm",
    "executionInfo": {
     "status": "ok",
     "timestamp": 1605995578952,
     "user_tz": 360,
     "elapsed": 496,
     "user": {
      "displayName": "Thomas Sun",
      "photoUrl": "https://lh3.googleusercontent.com/a-/AOh14Gge-4Dkf8K882kgbBR9hPTcHW4PsnCxrfeR01sDBw=s64",
      "userId": "06890183580794949868"
     }
    },
    "outputId": "2720a66e-dd41-4730-e226-f42eb4200167"
   },
   "source": [
    "df[\"Date\"] = start_date\n",
    "df.head()"
   ],
   "execution_count": 39,
   "outputs": [
    {
     "ename": "NameError",
     "evalue": "name 'df' is not defined",
     "output_type": "error",
     "traceback": [
      "\u001B[0;31m---------------------------------------------------------------------------\u001B[0m",
      "\u001B[0;31mNameError\u001B[0m                                 Traceback (most recent call last)",
      "\u001B[0;32m<ipython-input-39-c2928b380143>\u001B[0m in \u001B[0;36m<module>\u001B[0;34m\u001B[0m\n\u001B[0;32m----> 1\u001B[0;31m \u001B[0mdf\u001B[0m\u001B[0;34m[\u001B[0m\u001B[0;34m\"Date\"\u001B[0m\u001B[0;34m]\u001B[0m \u001B[0;34m=\u001B[0m \u001B[0mstart_date\u001B[0m\u001B[0;34m\u001B[0m\u001B[0;34m\u001B[0m\u001B[0m\n\u001B[0m\u001B[1;32m      2\u001B[0m \u001B[0mdf\u001B[0m\u001B[0;34m.\u001B[0m\u001B[0mhead\u001B[0m\u001B[0;34m(\u001B[0m\u001B[0;34m)\u001B[0m\u001B[0;34m\u001B[0m\u001B[0;34m\u001B[0m\u001B[0m\n\u001B[1;32m      3\u001B[0m \u001B[0;34m\u001B[0m\u001B[0m\n",
      "\u001B[0;31mNameError\u001B[0m: name 'df' is not defined"
     ]
    }
   ]
  },
  {
   "cell_type": "code",
   "metadata": {
    "colab": {
     "base_uri": "https://localhost:8080/",
     "height": 301
    },
    "id": "4yrY919jzUOC",
    "executionInfo": {
     "status": "ok",
     "timestamp": 1605995696391,
     "user_tz": 360,
     "elapsed": 566,
     "user": {
      "displayName": "Thomas Sun",
      "photoUrl": "https://lh3.googleusercontent.com/a-/AOh14Gge-4Dkf8K882kgbBR9hPTcHW4PsnCxrfeR01sDBw=s64",
      "userId": "06890183580794949868"
     }
    },
    "outputId": "24640c01-bfd5-4595-bf3c-92518f2fb194"
   },
   "source": [
    "df[\"ForecastID\"] = np.arange((1-1)*50, (1)*50)\n",
    "df.head()"
   ],
   "execution_count": null,
   "outputs": []
  },
  {
   "cell_type": "code",
   "metadata": {
    "id": "MFjdHRQhtgO9"
   },
   "source": [
    "start_date = datetime.date(2020, 9, 2) \n",
    "delta = datetime.timedelta(days=1)\n",
    "new_testdf = []\n",
    "new_testdf.append(df) #do this first as a safety check so error raised if cols not match\n",
    "\n",
    "for i in range(1, 26):\n",
    "  df = pd.read_csv(\"{}.csv\".format(i+1), usecols= all_features)\n",
    "  df = df.drop(index = skipidx)\n",
    "  df = df.set_index(np.arange(i*50, (i+1)*50))\n",
    "  df['ID'] = np.arange(i*50, (i+1)*50)\n",
    "  df[\"Date\"] = start_date\n",
    "  start_date += delta\n",
    "  assert len(df) == 50\n",
    "  new_testdf.append(df)\n",
    "\n",
    "new_testdf = pd.concat(new_testdf)"
   ],
   "execution_count": null,
   "outputs": []
  },
  {
   "cell_type": "code",
   "metadata": {
    "colab": {
     "base_uri": "https://localhost:8080/"
    },
    "id": "oaZ3-6jlz9fx",
    "executionInfo": {
     "status": "ok",
     "timestamp": 1605995874572,
     "user_tz": 360,
     "elapsed": 463,
     "user": {
      "displayName": "Thomas Sun",
      "photoUrl": "https://lh3.googleusercontent.com/a-/AOh14Gge-4Dkf8K882kgbBR9hPTcHW4PsnCxrfeR01sDBw=s64",
      "userId": "06890183580794949868"
     }
    },
    "outputId": "2440e944-f6c3-4d19-b66b-62efc3a419d7"
   },
   "source": [
    "traindf.shape, testdf.shape, new_testdf.shape"
   ],
   "execution_count": null,
   "outputs": []
  },
  {
   "cell_type": "code",
   "metadata": {
    "colab": {
     "base_uri": "https://localhost:8080/"
    },
    "id": "TY3LTA6JzxD8",
    "executionInfo": {
     "status": "ok",
     "timestamp": 1605996066396,
     "user_tz": 360,
     "elapsed": 700,
     "user": {
      "displayName": "Thomas Sun",
      "photoUrl": "https://lh3.googleusercontent.com/a-/AOh14Gge-4Dkf8K882kgbBR9hPTcHW4PsnCxrfeR01sDBw=s64",
      "userId": "06890183580794949868"
     }
    },
    "outputId": "f02ba941-d9e9-48d3-c7e5-3c553bfe1030"
   },
   "source": [
    "features = new_testdf.columns.tolist() \n",
    "features = features[-2:-1] + features[0:1] + features[-1:] + features[1:-2]\n",
    "new_testdf = new_testdf[features]\n",
    "all(new_testdf.columns == traindf.columns)"
   ],
   "execution_count": null,
   "outputs": []
  },
  {
   "cell_type": "code",
   "metadata": {
    "colab": {
     "base_uri": "https://localhost:8080/",
     "height": 16
    },
    "id": "FL9pgCkp01KZ",
    "executionInfo": {
     "status": "ok",
     "timestamp": 1605996114517,
     "user_tz": 360,
     "elapsed": 477,
     "user": {
      "displayName": "Thomas Sun",
      "photoUrl": "https://lh3.googleusercontent.com/a-/AOh14Gge-4Dkf8K882kgbBR9hPTcHW4PsnCxrfeR01sDBw=s64",
      "userId": "06890183580794949868"
     }
    },
    "outputId": "002d8942-0464-4354-831e-bbd678d7e64e"
   },
   "source": [
    "from google.colab import files\n",
    "new_testdf.to_csv('full_test.csv')\n",
    "files.download(\"full_test.csv\")"
   ],
   "execution_count": null,
   "outputs": []
  },
  {
   "cell_type": "markdown",
   "metadata": {
    "id": "uDAC9uEcNMEc"
   },
   "source": [
    "### Data exploration"
   ]
  },
  {
   "cell_type": "code",
   "metadata": {
    "id": "pBVoKtlURteO",
    "colab": {
     "base_uri": "https://localhost:8080/",
     "height": 411
    },
    "executionInfo": {
     "status": "ok",
     "timestamp": 1606540060406,
     "user_tz": -480,
     "elapsed": 964,
     "user": {
      "displayName": "Ziyan Wang",
      "photoUrl": "",
      "userId": "14450291798637942954"
     }
    },
    "outputId": "05a9ed21-4b49-4c5e-daf3-e7b61607110c"
   },
   "source": [
    "print(traindf.shape)\n",
    "traindf.head()\n",
    "traindf.tail()"
   ],
   "execution_count": null,
   "outputs": []
  },
  {
   "cell_type": "markdown",
   "metadata": {
    "id": "fahcG_GmVbtz"
   },
   "source": [
    "#### Translate states to numerical values (by category) "
   ]
  },
  {
   "cell_type": "code",
   "metadata": {
    "id": "Z2Fdx7k_R1O-",
    "colab": {
     "base_uri": "https://localhost:8080/"
    },
    "executionInfo": {
     "status": "ok",
     "timestamp": 1606609317748,
     "user_tz": 360,
     "elapsed": 353,
     "user": {
      "displayName": "Thomas Sun",
      "photoUrl": "https://lh3.googleusercontent.com/a-/AOh14Gge-4Dkf8K882kgbBR9hPTcHW4PsnCxrfeR01sDBw=s64",
      "userId": "06890183580794949868"
     }
    },
    "outputId": "83870da6-f5cf-4ec0-aa78-cdaf4831d00e"
   },
   "source": [
    "# translate Province_State to numerical values\n",
    "unique_states = traindf.Province_State.unique()\n",
    "print(unique_states)"
   ],
   "execution_count": null,
   "outputs": []
  },
  {
   "cell_type": "code",
   "metadata": {
    "id": "KjOx108vSy3x",
    "colab": {
     "base_uri": "https://localhost:8080/"
    },
    "executionInfo": {
     "status": "ok",
     "timestamp": 1606609318330,
     "user_tz": 360,
     "elapsed": 337,
     "user": {
      "displayName": "Thomas Sun",
      "photoUrl": "https://lh3.googleusercontent.com/a-/AOh14Gge-4Dkf8K882kgbBR9hPTcHW4PsnCxrfeR01sDBw=s64",
      "userId": "06890183580794949868"
     }
    },
    "outputId": "054c1c10-d373-4658-a91f-cc73d728ee8c"
   },
   "source": [
    "le = preprocessing.LabelEncoder() \n",
    "le.fit(unique_states)\n",
    "le.classes_[:10]"
   ],
   "execution_count": null,
   "outputs": []
  },
  {
   "cell_type": "code",
   "metadata": {
    "id": "NZ86CCh4TcJf",
    "colab": {
     "base_uri": "https://localhost:8080/",
     "height": 321
    },
    "executionInfo": {
     "status": "ok",
     "timestamp": 1606609318669,
     "user_tz": 360,
     "elapsed": 444,
     "user": {
      "displayName": "Thomas Sun",
      "photoUrl": "https://lh3.googleusercontent.com/a-/AOh14Gge-4Dkf8K882kgbBR9hPTcHW4PsnCxrfeR01sDBw=s64",
      "userId": "06890183580794949868"
     }
    },
    "outputId": "bf9796d7-ad14-48f6-ea17-85ddcea59200"
   },
   "source": [
    "traindf[\"State_code\"] = le.transform(traindf.Province_State)\n",
    "features = traindf.columns.tolist() \n",
    "features = features[4:6] + features[0:2] + features[-1:] + features[2:4] + features[6:-1]\n",
    "traindf = traindf[features]\n",
    "traindf.iloc[48:52, :]"
   ],
   "execution_count": null,
   "outputs": []
  },
  {
   "cell_type": "code",
   "metadata": {
    "id": "hLChbY5nOPM8",
    "colab": {
     "base_uri": "https://localhost:8080/",
     "height": 406
    },
    "executionInfo": {
     "status": "ok",
     "timestamp": 1606609318818,
     "user_tz": 360,
     "elapsed": 437,
     "user": {
      "displayName": "Thomas Sun",
      "photoUrl": "https://lh3.googleusercontent.com/a-/AOh14Gge-4Dkf8K882kgbBR9hPTcHW4PsnCxrfeR01sDBw=s64",
      "userId": "06890183580794949868"
     }
    },
    "outputId": "1e15fbd0-90a1-44fb-8625-1cc893a29fa5"
   },
   "source": [
    "temp_df = mobility.melt(id_vars=['states'])\n",
    "temp_df "
   ],
   "execution_count": null,
   "outputs": []
  },
  {
   "cell_type": "code",
   "metadata": {
    "colab": {
     "base_uri": "https://localhost:8080/",
     "height": 321
    },
    "id": "3eN7K7VNRPdD",
    "executionInfo": {
     "status": "ok",
     "timestamp": 1606609319279,
     "user_tz": 360,
     "elapsed": 425,
     "user": {
      "displayName": "Thomas Sun",
      "photoUrl": "https://lh3.googleusercontent.com/a-/AOh14Gge-4Dkf8K882kgbBR9hPTcHW4PsnCxrfeR01sDBw=s64",
      "userId": "06890183580794949868"
     }
    },
    "outputId": "c4b45b7e-d348-4f99-cd40-b8674b47ed92"
   },
   "source": [
    "traindf['Mobility'] = temp_df.iloc[:,2]\n",
    "traindf.iloc[48:52,:]"
   ],
   "execution_count": null,
   "outputs": []
  },
  {
   "cell_type": "markdown",
   "metadata": {
    "id": "KQQSXC_ZVicM"
   },
   "source": [
    "#### Check distribution and fill na"
   ]
  },
  {
   "cell_type": "code",
   "metadata": {
    "id": "RegT5y-KVp5x",
    "colab": {
     "base_uri": "https://localhost:8080/"
    },
    "executionInfo": {
     "status": "ok",
     "timestamp": 1606609320372,
     "user_tz": 360,
     "elapsed": 560,
     "user": {
      "displayName": "Thomas Sun",
      "photoUrl": "https://lh3.googleusercontent.com/a-/AOh14Gge-4Dkf8K882kgbBR9hPTcHW4PsnCxrfeR01sDBw=s64",
      "userId": "06890183580794949868"
     }
    },
    "outputId": "c0abb4ac-8655-4acc-d331-946c8a52caa3"
   },
   "source": [
    "# Any NA?\n",
    "traindf.isnull().values.any()"
   ],
   "execution_count": null,
   "outputs": []
  },
  {
   "cell_type": "code",
   "metadata": {
    "id": "MtVGnEIHMi5C",
    "colab": {
     "base_uri": "https://localhost:8080/"
    },
    "executionInfo": {
     "status": "ok",
     "timestamp": 1606609320598,
     "user_tz": 360,
     "elapsed": 430,
     "user": {
      "displayName": "Thomas Sun",
      "photoUrl": "https://lh3.googleusercontent.com/a-/AOh14Gge-4Dkf8K882kgbBR9hPTcHW4PsnCxrfeR01sDBw=s64",
      "userId": "06890183580794949868"
     }
    },
    "outputId": "3c55b55a-1563-4b25-d3f4-796632a62332"
   },
   "source": [
    "features = traindf.columns\n",
    "features_na = []\n",
    "for feature in features:\n",
    "  na_count = traindf[feature].isnull().sum()\n",
    "  if na_count > 0:\n",
    "   features_na += [feature]\n",
    "  print(\"{0: <20} : {1}\".format(feature, na_count))"
   ],
   "execution_count": null,
   "outputs": []
  },
  {
   "cell_type": "code",
   "metadata": {
    "id": "h5wdBTRV03V5",
    "colab": {
     "base_uri": "https://localhost:8080/"
    },
    "executionInfo": {
     "status": "ok",
     "timestamp": 1606609320928,
     "user_tz": 360,
     "elapsed": 433,
     "user": {
      "displayName": "Thomas Sun",
      "photoUrl": "https://lh3.googleusercontent.com/a-/AOh14Gge-4Dkf8K882kgbBR9hPTcHW4PsnCxrfeR01sDBw=s64",
      "userId": "06890183580794949868"
     }
    },
    "outputId": "a033603c-f799-4278-9c00-aef118f26cd1"
   },
   "source": [
    "# All states have NA in Hospitalization data (even after mid-June)\n",
    "len(traindf[traindf[\"Hospitalization_Rate\"].isna()][\"Province_State\"].unique())"
   ],
   "execution_count": null,
   "outputs": []
  },
  {
   "cell_type": "code",
   "metadata": {
    "id": "GpZgh5kb1c3Q"
   },
   "source": [
    "# Fill with zeros for now?\n",
    "traindf['Hospitalization_Rate'] = traindf['Hospitalization_Rate'].fillna(0)\n",
    "traindf['People_Hospitalized'] = traindf['People_Hospitalized'].fillna(0)"
   ],
   "execution_count": null,
   "outputs": []
  },
  {
   "cell_type": "code",
   "metadata": {
    "id": "nSlRfNxwzvpJ",
    "colab": {
     "base_uri": "https://localhost:8080/"
    },
    "executionInfo": {
     "status": "ok",
     "timestamp": 1606609322029,
     "user_tz": 360,
     "elapsed": 375,
     "user": {
      "displayName": "Thomas Sun",
      "photoUrl": "https://lh3.googleusercontent.com/a-/AOh14Gge-4Dkf8K882kgbBR9hPTcHW4PsnCxrfeR01sDBw=s64",
      "userId": "06890183580794949868"
     }
    },
    "outputId": "5fc76823-cfee-4309-cf5c-c8c1ac041e84"
   },
   "source": [
    "traindf['Recovered'] = traindf['Recovered'].fillna(0)\n",
    "traindf['Recovered'] "
   ],
   "execution_count": null,
   "outputs": []
  },
  {
   "cell_type": "code",
   "metadata": {
    "id": "YnKLrwdXNobr",
    "colab": {
     "base_uri": "https://localhost:8080/",
     "height": 1000
    },
    "executionInfo": {
     "status": "ok",
     "timestamp": 1606609325022,
     "user_tz": 360,
     "elapsed": 2371,
     "user": {
      "displayName": "Thomas Sun",
      "photoUrl": "https://lh3.googleusercontent.com/a-/AOh14Gge-4Dkf8K882kgbBR9hPTcHW4PsnCxrfeR01sDBw=s64",
      "userId": "06890183580794949868"
     }
    },
    "outputId": "e5202c3f-f338-44eb-f263-1535b43e46f5"
   },
   "source": [
    "for feature in features_na:\n",
    "  sns.displot(data=traindf, x=feature, kde=True)\n",
    "  plt.show()"
   ],
   "execution_count": null,
   "outputs": []
  },
  {
   "cell_type": "code",
   "metadata": {
    "id": "o-d0vwPj6Fn6",
    "colab": {
     "base_uri": "https://localhost:8080/",
     "height": 457
    },
    "executionInfo": {
     "status": "ok",
     "timestamp": 1606609325023,
     "user_tz": 360,
     "elapsed": 1663,
     "user": {
      "displayName": "Thomas Sun",
      "photoUrl": "https://lh3.googleusercontent.com/a-/AOh14Gge-4Dkf8K882kgbBR9hPTcHW4PsnCxrfeR01sDBw=s64",
      "userId": "06890183580794949868"
     }
    },
    "outputId": "4dbca141-e547-4a20-e158-5a6046e8a411"
   },
   "source": [
    "traindf.corr()"
   ],
   "execution_count": null,
   "outputs": []
  },
  {
   "cell_type": "code",
   "metadata": {
    "id": "cKvlynEHRLh-",
    "colab": {
     "base_uri": "https://localhost:8080/",
     "height": 597
    },
    "executionInfo": {
     "status": "ok",
     "timestamp": 1606540524052,
     "user_tz": -480,
     "elapsed": 2331,
     "user": {
      "displayName": "Ziyan Wang",
      "photoUrl": "",
      "userId": "14450291798637942954"
     }
    },
    "outputId": "10432a8d-763c-4425-c86e-47f85d91236e"
   },
   "source": [
    "plt.figure(figsize=(8,8))\n",
    "sns.heatmap(traindf.corr(),\n",
    "            vmin=-1,\n",
    "            cmap='coolwarm',\n",
    "            annot=True)"
   ],
   "execution_count": null,
   "outputs": []
  },
  {
   "cell_type": "code",
   "metadata": {
    "id": "hraYOJo92yq0",
    "colab": {
     "base_uri": "https://localhost:8080/"
    },
    "executionInfo": {
     "status": "ok",
     "timestamp": 1606609339588,
     "user_tz": 360,
     "elapsed": 358,
     "user": {
      "displayName": "Thomas Sun",
      "photoUrl": "https://lh3.googleusercontent.com/a-/AOh14Gge-4Dkf8K882kgbBR9hPTcHW4PsnCxrfeR01sDBw=s64",
      "userId": "06890183580794949868"
     }
    },
    "outputId": "e0457ecf-3fda-4dd1-8926-4dd74663adf2"
   },
   "source": [
    "X_train = traindf.iloc[:, 4:]\n",
    "y_train = traindf.iloc[:, 0:2]\n",
    "X_train.shape, y_train.shape"
   ],
   "execution_count": null,
   "outputs": []
  },
  {
   "cell_type": "markdown",
   "metadata": {
    "id": "-v7IQHrOPZaW"
   },
   "source": [
    "## Models"
   ]
  },
  {
   "cell_type": "markdown",
   "metadata": {
    "id": "z5LIPaf20h8I"
   },
   "source": [
    "### Separate data by state"
   ]
  },
  {
   "cell_type": "code",
   "metadata": {
    "id": "uECC8euy0onb"
   },
   "source": [
    "train_by_state = {}\n",
    "for state in unique_states:\n",
    "  train_by_state[state] = traindf[traindf.Province_State == state]"
   ],
   "execution_count": null,
   "outputs": []
  },
  {
   "cell_type": "markdown",
   "metadata": {
    "id": "NqxGRtIjYTkr"
   },
   "source": [
    "### Linear with Prophet adjusted"
   ]
  },
  {
   "cell_type": "code",
   "metadata": {
    "id": "GdJfD_6TY8mu"
   },
   "source": [
    "from fbprophet.plot import add_changepoints_to_plot"
   ],
   "execution_count": null,
   "outputs": []
  },
  {
   "cell_type": "code",
   "metadata": {
    "colab": {
     "base_uri": "https://localhost:8080/",
     "height": 317
    },
    "id": "ymT1Rb_cZIUq",
    "executionInfo": {
     "status": "ok",
     "timestamp": 1606611611338,
     "user_tz": 360,
     "elapsed": 12173,
     "user": {
      "displayName": "Thomas Sun",
      "photoUrl": "https://lh3.googleusercontent.com/a-/AOh14Gge-4Dkf8K882kgbBR9hPTcHW4PsnCxrfeR01sDBw=s64",
      "userId": "06890183580794949868"
     }
    },
    "outputId": "afb52dbc-bdc6-4d17-d821-4d0a56f2a42e"
   },
   "source": [
    "sample_train = train_by_state[\"California\"]\n",
    "sample_test = testdf[testdf.Province_State == \"California\"]\n",
    "test_size = len(sample_test)\n",
    "\n",
    "basic_model = Prophet()\n",
    "basic_model.fit(sample_train.iloc[-20:].reset_index() \\\n",
    "              .rename(columns={'Date':'ds',\n",
    "                               'Deaths':'y'}))\n",
    "\n",
    "future = basic_model.make_future_dataframe(periods=test_size)\n",
    "forecast = basic_model.predict(future)\n",
    "fig, (ax1, ax2) = plt.subplots(1, 2)\n",
    "ax1.plot(np.arange(20), sample_train.iloc[-20:].Deaths.values, label = \"train\")\n",
    "ax1.plot(np.arange(20, 46), sample_test.Deaths.values, label = \"test\")\n",
    "ax1.plot(np.arange(20, 46), forecast.yhat.values[20:], label = \"forecast\")\n",
    "ax1.legend()\n",
    "\n",
    "ax2.scatter(np.arange(26), sample_test.Deaths.values, label = \"test\")\n",
    "ax2.scatter(np.arange(26), forecast.yhat.values[20:], label = \"forecast\")\n",
    "ax2.legend()\n",
    "\n",
    "fig.set_size_inches(11, 4)\n",
    "plt.show()"
   ],
   "execution_count": null,
   "outputs": []
  },
  {
   "cell_type": "code",
   "metadata": {
    "id": "1as1E5UPb12m"
   },
   "source": [
    "import torch.nn as nn\n",
    "import torch\n",
    "import numpy as np\n",
    "import torch.optim as optim\n",
    "import pandas as pd\n",
    "from scipy.signal import savgol_filter\n",
    "from sklearn.pipeline import Pipeline\n",
    "from sklearn.preprocessing import PolynomialFeatures\n",
    "from sklearn.preprocessing import StandardScaler\n",
    "from sklearn.linear_model import LinearRegression\n",
    "from sklearn.linear_model import Lasso\n",
    "from sklearn.linear_model import Ridge"
   ],
   "execution_count": null,
   "outputs": []
  },
  {
   "cell_type": "code",
   "metadata": {
    "id": "m-e2tyo79h3B"
   },
   "source": [
    "degree = 3\n",
    "start = 110\n",
    "alpha = .1\n",
    "window = 17"
   ],
   "execution_count": null,
   "outputs": []
  },
  {
   "cell_type": "code",
   "metadata": {
    "id": "dzOn6J6GcXvt"
   },
   "source": [
    "feature = 'Deaths'\n",
    "Death_pred = []\n",
    "state = \"California\"\n",
    "ds = train_by_state[state]\n",
    "value = ds[feature].values\n",
    "value = savgol_filter(value.reshape(-1), window, degree)\n",
    "combine = [[value[i]] for i in range(len(value))]\n",
    "\n",
    "y = np.array([value[start:]]).reshape(-1, 1)\n",
    "x = [[i + start] for i in range(142-start)]\n",
    "\n",
    "model = Pipeline([\n",
    "    (\"poly\", PolynomialFeatures(degree=2)),\n",
    "    (\"lasso_reg\", Ridge(alpha=alpha))\n",
    "])\n",
    "model.fit(x, y)\n",
    "\n",
    "x_test = [[i + 142] for i in range(test_size)]\n",
    "\n",
    "y_hat = model.predict(x_test)\n",
    "Death_pred.append(y_hat)"
   ],
   "execution_count": null,
   "outputs": []
  },
  {
   "cell_type": "markdown",
   "metadata": {
    "id": "dBpVn2qQF-1t"
   },
   "source": [
    "### Weighted average example"
   ]
  },
  {
   "cell_type": "code",
   "metadata": {
    "colab": {
     "base_uri": "https://localhost:8080/",
     "height": 282
    },
    "id": "iXAYjScSewsN",
    "executionInfo": {
     "status": "ok",
     "timestamp": 1606611180073,
     "user_tz": 360,
     "elapsed": 477,
     "user": {
      "displayName": "Thomas Sun",
      "photoUrl": "https://lh3.googleusercontent.com/a-/AOh14Gge-4Dkf8K882kgbBR9hPTcHW4PsnCxrfeR01sDBw=s64",
      "userId": "06890183580794949868"
     }
    },
    "outputId": "36c3521c-bb39-494a-ec8a-9a65af67b0ec"
   },
   "source": [
    "synth_pred = 0.8* np.array(Death_pred[0]).ravel() + 0.2 * forecast.yhat[-(len(sample_test)):].values #simple weighted average\n",
    "ax = plt.gca()\n",
    "\n",
    "ax.scatter(np.arange(test_size), sample_test.Deaths.values, label = \"Actual\")\n",
    "ax.scatter(np.arange(test_size), Death_pred[0], label = \"Linear\")\n",
    "ax.scatter(np.arange(test_size), forecast.yhat.values[-test_size:], label = \"Prophet\")\n",
    "ax.scatter(np.arange(test_size), synth_pred, label = \"Synthesized\")\n",
    "ax.legend()\n",
    "\n",
    "plt.plot()"
   ],
   "execution_count": null,
   "outputs": []
  },
  {
   "cell_type": "markdown",
   "metadata": {
    "id": "-udZV_6FGCoo"
   },
   "source": [
    "### Ratio example"
   ]
  },
  {
   "cell_type": "code",
   "metadata": {
    "colab": {
     "base_uri": "https://localhost:8080/"
    },
    "id": "gpIb3Go8fhVz",
    "executionInfo": {
     "status": "ok",
     "timestamp": 1606611397741,
     "user_tz": 360,
     "elapsed": 325,
     "user": {
      "displayName": "Thomas Sun",
      "photoUrl": "https://lh3.googleusercontent.com/a-/AOh14Gge-4Dkf8K882kgbBR9hPTcHW4PsnCxrfeR01sDBw=s64",
      "userId": "06890183580794949868"
     }
    },
    "outputId": "598e5434-9899-4dd6-a6e2-e2e4375e0221"
   },
   "source": [
    "### Sythn using daily ratio change\n",
    "def calc_ratio(data):\n",
    "  ratios = []\n",
    "  for i in range(len(data)-1):\n",
    "    ratios.append(data[i+1]/ data[i])\n",
    "  return np.array(ratios)\n",
    "\n",
    "calc_ratio(forecast.yhat.values[-test_size:])"
   ],
   "execution_count": null,
   "outputs": []
  },
  {
   "cell_type": "code",
   "metadata": {
    "id": "bA-m7L12gOGl"
   },
   "source": [
    "synth_pred = np.zeros(test_size)\n",
    "synth_pred[0] = Death_pred[0][0]\n",
    "synth_pred[1:] = np.array(Death_pred[0]).ravel()[1:] * calc_ratio(forecast.yhat.values[-test_size:])"
   ],
   "execution_count": null,
   "outputs": []
  },
  {
   "cell_type": "code",
   "metadata": {
    "colab": {
     "base_uri": "https://localhost:8080/",
     "height": 282
    },
    "id": "2szi2y_FgMN9",
    "executionInfo": {
     "status": "ok",
     "timestamp": 1606611909086,
     "user_tz": 360,
     "elapsed": 459,
     "user": {
      "displayName": "Thomas Sun",
      "photoUrl": "https://lh3.googleusercontent.com/a-/AOh14Gge-4Dkf8K882kgbBR9hPTcHW4PsnCxrfeR01sDBw=s64",
      "userId": "06890183580794949868"
     }
    },
    "outputId": "5532c89d-be9f-4a8a-84f6-65d72c1745bd"
   },
   "source": [
    "#pure ratio adds bias, we will do sth about it below\n",
    "ax = plt.gca()\n",
    "\n",
    "ax.scatter(np.arange(test_size), sample_test.Deaths.values, label = \"Actual\")\n",
    "ax.scatter(np.arange(test_size), Death_pred[0], label = \"Linear\")\n",
    "ax.scatter(np.arange(test_size), forecast.yhat.values[-test_size:], label = \"Prophet\")\n",
    "ax.scatter(np.arange(test_size), synth_pred, label = \"Synthesized\")\n",
    "ax.legend()\n",
    "\n",
    "plt.plot()"
   ],
   "execution_count": null,
   "outputs": []
  },
  {
   "cell_type": "code",
   "metadata": {
    "id": "gI52-8p-jb16"
   },
   "source": [
    "synth_pred -= 2 * (np.mean(synth_pred) - np.mean(Death_pred[0]))"
   ],
   "execution_count": null,
   "outputs": []
  },
  {
   "cell_type": "code",
   "metadata": {
    "colab": {
     "base_uri": "https://localhost:8080/",
     "height": 282
    },
    "id": "fk9z1q-KiDfD",
    "executionInfo": {
     "status": "ok",
     "timestamp": 1606612293637,
     "user_tz": 360,
     "elapsed": 614,
     "user": {
      "displayName": "Thomas Sun",
      "photoUrl": "https://lh3.googleusercontent.com/a-/AOh14Gge-4Dkf8K882kgbBR9hPTcHW4PsnCxrfeR01sDBw=s64",
      "userId": "06890183580794949868"
     }
    },
    "outputId": "9b65470a-9723-43f3-9507-385b4e74f38d"
   },
   "source": [
    "ax = plt.gca()\n",
    "\n",
    "ax.scatter(np.arange(test_size), sample_test.Deaths.values, label = \"Actual\")\n",
    "ax.scatter(np.arange(test_size), Death_pred[0], label = \"Linear\")\n",
    "#ax.scatter(np.arange(test_size), forecast.yhat.values[-test_size:], label = \"Prophet\")\n",
    "ax.scatter(np.arange(test_size), synth_pred, label = \"Synthesized\")\n",
    "ax.legend()\n",
    "\n",
    "plt.plot()"
   ],
   "execution_count": null,
   "outputs": []
  },
  {
   "cell_type": "markdown",
   "metadata": {
    "id": "ThDvOfNXGtyg"
   },
   "source": [
    "### Evaluating weighted avg, ratio with previous linear"
   ]
  },
  {
   "cell_type": "code",
   "metadata": {
    "id": "4hsFjrgUlqGX"
   },
   "source": [
    "def MAPE(y_true, y_pred): \n",
    "    y_true, y_pred = np.array(y_true), np.array(y_pred)\n",
    "    return np.mean(np.abs((y_true - y_pred) / y_true)) * 100"
   ],
   "execution_count": null,
   "outputs": []
  },
  {
   "cell_type": "code",
   "metadata": {
    "colab": {
     "base_uri": "https://localhost:8080/"
    },
    "id": "2hHnTKpplqna",
    "executionInfo": {
     "status": "ok",
     "timestamp": 1606612923857,
     "user_tz": 360,
     "elapsed": 359,
     "user": {
      "displayName": "Thomas Sun",
      "photoUrl": "https://lh3.googleusercontent.com/a-/AOh14Gge-4Dkf8K882kgbBR9hPTcHW4PsnCxrfeR01sDBw=s64",
      "userId": "06890183580794949868"
     }
    },
    "outputId": "5258e513-28b8-4a36-c072-845b07466479"
   },
   "source": [
    "MAPE(synth_pred, sample_test.Deaths)"
   ],
   "execution_count": null,
   "outputs": []
  },
  {
   "cell_type": "code",
   "metadata": {
    "colab": {
     "base_uri": "https://localhost:8080/"
    },
    "id": "wlHHxZLhjvF5",
    "executionInfo": {
     "status": "ok",
     "timestamp": 1606618715963,
     "user_tz": 360,
     "elapsed": 552664,
     "user": {
      "displayName": "Thomas Sun",
      "photoUrl": "https://lh3.googleusercontent.com/a-/AOh14Gge-4Dkf8K882kgbBR9hPTcHW4PsnCxrfeR01sDBw=s64",
      "userId": "06890183580794949868"
     }
    },
    "outputId": "7243a472-7a6b-446d-f789-30155309b482"
   },
   "source": [
    "# All model performances\n",
    "test_result = {}\n",
    "feature = 'Deaths'\n",
    "\n",
    "for state in unique_states:\n",
    "\n",
    "  ######=========================================######\n",
    "  # Linear model\n",
    "  Death_pred = []\n",
    "  sample_train = train_by_state[state]\n",
    "  sample_test = testdf[testdf.Province_State == state]\n",
    "  test_size = len(sample_test)\n",
    "\n",
    "  ds = sample_train\n",
    "  value = ds[feature].values\n",
    "  value = savgol_filter(value.reshape(-1), window, degree)\n",
    "  combine = [[value[i]] for i in range(len(value))]\n",
    "\n",
    "  y = np.array([value[start:]]).reshape(-1, 1)\n",
    "  x = [[i + start] for i in range(142-start)]\n",
    "\n",
    "  model = Pipeline([\n",
    "      (\"poly\", PolynomialFeatures(degree=2)),\n",
    "      (\"lasso_reg\", Ridge(alpha=alpha))\n",
    "  ])\n",
    "  model.fit(x, y)\n",
    "\n",
    "  x_test = [[i + 142] for i in range(test_size)]\n",
    "\n",
    "  y_hat = model.predict(x_test)\n",
    "  Death_pred.append(y_hat)\n",
    "\n",
    "  ######=========================================######\n",
    "  # Prophet\n",
    "  basic_model = Prophet()\n",
    "  basic_model.fit(sample_train.iloc[-20:].reset_index() \\\n",
    "              .rename(columns={'Date':'ds',\n",
    "                               'Deaths':'y'}))\n",
    "\n",
    "  future = basic_model.make_future_dataframe(periods=test_size)\n",
    "  forecast = basic_model.predict(future)\n",
    "\n",
    "\n",
    "  ######=========================================######\n",
    "  # Synthesized\n",
    "  avrg_synth  = 0.8* np.array(Death_pred[0]).ravel() + 0.2 * forecast.yhat[-(len(sample_test)):].values\n",
    "\n",
    "  calc_ratio(forecast.yhat.values[-test_size:])\n",
    "  ratio_synth = np.zeros(test_size)\n",
    "  ratio_synth[0] = Death_pred[0][0]\n",
    "  ratio_synth[1:] = np.array(Death_pred[0]).ravel()[1:] * calc_ratio(forecast.yhat.values[-test_size:])\n",
    "\n",
    "  ######=========================================######\n",
    "  # Eval and save result\n",
    "  test_result[state] = {}\n",
    "  lin_MAPE = MAPE(Death_pred[0], sample_test.Deaths)\n",
    "  test_result[state][\"linear_Eval\"] = lin_MAPE\n",
    "  avg_MAPE = MAPE(avrg_synth, sample_test.Deaths)\n",
    "  test_result[state][\"W_avrg_Eval\"] = avg_MAPE\n",
    "  ratio_MAPE = MAPE(ratio_synth, sample_test.Deaths)\n",
    "  test_result[state][\"Ratio_Eval\"] = ratio_MAPE\n",
    "  test_result['avr_pred'] = avrg_synth\n",
    "  test_result['ratio_pred'] = avrg_synth\n",
    "  test_result['linear'] = Death_pred[0]\n",
    "\n",
    "  print(\"state: {}, linear: {}, avg: {}, ratio:{}\".format(state, lin_MAPE, avg_MAPE, ratio_MAPE))\n",
    "  print(\"===========\")\n",
    "\n"
   ],
   "execution_count": null,
   "outputs": []
  },
  {
   "cell_type": "code",
   "metadata": {
    "colab": {
     "base_uri": "https://localhost:8080/"
    },
    "id": "6g0yTLi-8Waw",
    "executionInfo": {
     "status": "ok",
     "timestamp": 1606619562424,
     "user_tz": 360,
     "elapsed": 377,
     "user": {
      "displayName": "Thomas Sun",
      "photoUrl": "https://lh3.googleusercontent.com/a-/AOh14Gge-4Dkf8K882kgbBR9hPTcHW4PsnCxrfeR01sDBw=s64",
      "userId": "06890183580794949868"
     }
    },
    "outputId": "84590004-daae-4074-be8f-9e01070104d6"
   },
   "source": [
    "max_avg_MAPE = -1\n",
    "max_ratio_MAPE = -1\n",
    "better_before = {}\n",
    "\n",
    "for state in unique_states:\n",
    "  state_data = test_result[state]\n",
    "  prev = state_data[\"linear_Eval\"]\n",
    "  avg = state_data[\"W_avrg_Eval\"]\n",
    "  ratio =  state_data[\"Ratio_Eval\"]\n",
    "\n",
    "  if avg > max_avg_MAPE:\n",
    "    max_avg_MAPE = avg\n",
    "  \n",
    "  if avg > max_ratio_MAPE:\n",
    "    max_ratio_MAPE = ratio\n",
    "\n",
    "  # MAPE so the smaller the better\n",
    "  if avg < prev  or ratio < prev:\n",
    "    if ratio < avg:\n",
    "      better_before[state] = (\"ratio\", prev, ratio)\n",
    "    else:\n",
    "      better_before[state] = (\"avg\", prev, avg)\n",
    "\n",
    "(max_avg_MAPE, max_ratio_MAPE)"
   ],
   "execution_count": null,
   "outputs": []
  },
  {
   "cell_type": "code",
   "metadata": {
    "colab": {
     "base_uri": "https://localhost:8080/"
    },
    "id": "_0NaUf6-_Rrx",
    "executionInfo": {
     "status": "ok",
     "timestamp": 1606620064574,
     "user_tz": 360,
     "elapsed": 365,
     "user": {
      "displayName": "Thomas Sun",
      "photoUrl": "https://lh3.googleusercontent.com/a-/AOh14Gge-4Dkf8K882kgbBR9hPTcHW4PsnCxrfeR01sDBw=s64",
      "userId": "06890183580794949868"
     }
    },
    "outputId": "bb1fe267-e408-4000-a9a2-61a58feb1f9a"
   },
   "source": [
    "len(set(better_before.keys()))"
   ],
   "execution_count": null,
   "outputs": []
  },
  {
   "cell_type": "code",
   "metadata": {
    "colab": {
     "base_uri": "https://localhost:8080/"
    },
    "id": "bgLuj_iDBKl6",
    "executionInfo": {
     "status": "ok",
     "timestamp": 1606620069746,
     "user_tz": 360,
     "elapsed": 358,
     "user": {
      "displayName": "Thomas Sun",
      "photoUrl": "https://lh3.googleusercontent.com/a-/AOh14Gge-4Dkf8K882kgbBR9hPTcHW4PsnCxrfeR01sDBw=s64",
      "userId": "06890183580794949868"
     }
    },
    "outputId": "f3b7a72c-8262-41c1-b69b-0a3cc1048df4"
   },
   "source": [
    "test_result"
   ],
   "execution_count": null,
   "outputs": []
  },
  {
   "cell_type": "code",
   "metadata": {
    "id": "GWln1oh5aTNA"
   },
   "source": [
    "mob_df = pd.read_csv(\"summarized_mobility.csv\")"
   ],
   "execution_count": null,
   "outputs": []
  },
  {
   "cell_type": "code",
   "metadata": {
    "colab": {
     "base_uri": "https://localhost:8080/",
     "height": 263
    },
    "id": "fn93bz-EaVJn",
    "executionInfo": {
     "status": "ok",
     "timestamp": 1606609890008,
     "user_tz": 360,
     "elapsed": 564,
     "user": {
      "displayName": "Thomas Sun",
      "photoUrl": "https://lh3.googleusercontent.com/a-/AOh14Gge-4Dkf8K882kgbBR9hPTcHW4PsnCxrfeR01sDBw=s64",
      "userId": "06890183580794949868"
     }
    },
    "outputId": "5a2d43df-c032-4853-95e9-20fe76d40015"
   },
   "source": [
    "mob_df.head()"
   ],
   "execution_count": null,
   "outputs": []
  },
  {
   "cell_type": "code",
   "metadata": {
    "colab": {
     "base_uri": "https://localhost:8080/"
    },
    "id": "UP6buhXcahzl",
    "executionInfo": {
     "status": "ok",
     "timestamp": 1606609992847,
     "user_tz": 360,
     "elapsed": 649,
     "user": {
      "displayName": "Thomas Sun",
      "photoUrl": "https://lh3.googleusercontent.com/a-/AOh14Gge-4Dkf8K882kgbBR9hPTcHW4PsnCxrfeR01sDBw=s64",
      "userId": "06890183580794949868"
     }
    },
    "outputId": "b55f1b85-0c10-4470-e024-6b9a96a080b4"
   },
   "source": [
    "datetime.datetime(2020, 4, 12).weekday()"
   ],
   "execution_count": null,
   "outputs": []
  },
  {
   "cell_type": "markdown",
   "metadata": {
    "id": "8CSbP4CVFzb6"
   },
   "source": [
    "### 2nd deriv approx (w/ effect of window size)"
   ]
  },
  {
   "cell_type": "code",
   "metadata": {
    "id": "RLfW78aC1kV_"
   },
   "source": [
    "# 2nd deriv midpoint approx\n",
    "def second_der_approx(f0, f1, f2, h = 1):\n",
    "  return 1/(h**2) * (f0 - 2*f1 + f2) "
   ],
   "execution_count": null,
   "outputs": []
  },
  {
   "cell_type": "code",
   "metadata": {
    "id": "4EuiNDhm3WBT"
   },
   "source": [
    "def calc_2nd_deriv(input, feature = None, numpy = False):\n",
    "  if feature is not None and (not numpy):\n",
    "    data = input[feature].values\n",
    "  else:\n",
    "    data = input\n",
    "\n",
    "  n = len(data)\n",
    "  approx = np.ones(n)\n",
    "  approx[0] = np.nan\n",
    "  approx[-1] = np.nan\n",
    "  for i in np.arange(1, n-1):\n",
    "    # assume calculations by day\n",
    "    approx[i] = second_der_approx(data[i-1], data[i], data[i+1], 1)\n",
    "  \n",
    "  return approx"
   ],
   "execution_count": null,
   "outputs": []
  },
  {
   "cell_type": "code",
   "metadata": {
    "id": "bvBI4VFRds5x"
   },
   "source": [
    "degree = 3\n",
    "alpha = .1\n",
    "window = 21\n",
    "CA_Death_smoothed = savgol_filter(train_by_state[\"California\"].Deaths.values.ravel(), window, degree)"
   ],
   "execution_count": null,
   "outputs": []
  },
  {
   "cell_type": "code",
   "metadata": {
    "id": "ijA_hh79d-Ni",
    "colab": {
     "base_uri": "https://localhost:8080/",
     "height": 499
    },
    "executionInfo": {
     "status": "ok",
     "timestamp": 1606490719346,
     "user_tz": -480,
     "elapsed": 2568,
     "user": {
      "displayName": "Ziyan Wang",
      "photoUrl": "",
      "userId": "14450291798637942954"
     }
    },
    "outputId": "f916dbc1-1a48-481a-f588-6531ac59bcb4"
   },
   "source": [
    "nrows = 2\n",
    "ncols = 2\n",
    "fig = plt.figure(figsize=(10, 8))\n",
    "\n",
    "### Data plot ### \n",
    "ax = fig.add_subplot(nrows, ncols, 1)\n",
    "ax.plot(train_by_state[\"California\"].Deaths.values)\n",
    "ax.set_title(\"CA Death raw\")\n",
    "\n",
    "ax = fig.add_subplot(nrows, ncols, 2)\n",
    "ax.plot(CA_Death_smoothed)\n",
    "ax.set_title(\"CA Death Smoothened\")\n",
    "\n",
    "### 2nd deriv ### \n",
    "CA_raw_2nd = calc_2nd_deriv(train_by_state[\"California\"], \"Deaths\")\n",
    "ax = fig.add_subplot(nrows, ncols, 3)\n",
    "ax.plot(CA_raw_2nd)\n",
    "#ax.set_ylim(-220, 220)\n",
    "ax.set_title(\"CA Death raw 2nd deriv\")\n",
    "\n",
    "CA_Smooth_2nd = calc_2nd_deriv(CA_Death_smoothed, numpy = True)\n",
    "ax = fig.add_subplot(nrows, ncols, 4)\n",
    "ax.plot(CA_Smooth_2nd)\n",
    "#ax.set_ylim(-220, 220)\n",
    "ax.set_title(\"CA Death smoothened 2nd deriv\")\n",
    "\n",
    "######\n",
    "plt.show()"
   ],
   "execution_count": null,
   "outputs": []
  },
  {
   "cell_type": "code",
   "metadata": {
    "id": "JPRj1KKSiL47"
   },
   "source": [
    "degree = 3\n",
    "alpha = .1\n",
    "window = 21\n",
    "ID_Death_smoothed = savgol_filter(train_by_state[\"Idaho\"].Deaths.values.ravel(), window, degree)"
   ],
   "execution_count": null,
   "outputs": []
  },
  {
   "cell_type": "code",
   "metadata": {
    "id": "VGZSWYUairxn",
    "colab": {
     "base_uri": "https://localhost:8080/",
     "height": 499
    },
    "executionInfo": {
     "status": "ok",
     "timestamp": 1606490720092,
     "user_tz": -480,
     "elapsed": 3302,
     "user": {
      "displayName": "Ziyan Wang",
      "photoUrl": "",
      "userId": "14450291798637942954"
     }
    },
    "outputId": "ddea5e3a-ba15-4ee8-f410-12ffa75ad9c6"
   },
   "source": [
    "nrows = 2\n",
    "ncols = 2\n",
    "fig = plt.figure(figsize=(10, 8))\n",
    "\n",
    "### Data plot ### \n",
    "ax = fig.add_subplot(nrows, ncols, 1)\n",
    "ax.plot(train_by_state[\"Idaho\"].Deaths.values)\n",
    "ax.set_title(\"ID Death raw\")\n",
    "\n",
    "ax = fig.add_subplot(nrows, ncols, 2)\n",
    "ax.plot(ID_Death_smoothed)\n",
    "ax.set_title(\"ID Death Smoothened\")\n",
    "\n",
    "### 2nd deriv ### \n",
    "ID_raw_2nd = calc_2nd_deriv(train_by_state[\"Idaho\"], \"Deaths\")\n",
    "ax = fig.add_subplot(nrows, ncols, 3)\n",
    "ax.plot(ID_raw_2nd)\n",
    "#ax.set_ylim(-220, 220)\n",
    "ax.set_title(\"ID Death raw 2nd deriv\")\n",
    "\n",
    "ID_Smooth_2nd = calc_2nd_deriv(ID_Death_smoothed, numpy = True)\n",
    "ax = fig.add_subplot(nrows, ncols, 4)\n",
    "ax.plot(ID_Smooth_2nd)\n",
    "#ax.set_ylim(-220, 220)\n",
    "ax.set_title(\"ID Death smoothened 2nd deriv\")\n",
    "\n",
    "######\n",
    "plt.show()"
   ],
   "execution_count": null,
   "outputs": []
  },
  {
   "cell_type": "code",
   "metadata": {
    "id": "1Dpekf4QwFo4",
    "colab": {
     "base_uri": "https://localhost:8080/",
     "height": 478
    },
    "executionInfo": {
     "status": "ok",
     "timestamp": 1606490721556,
     "user_tz": -480,
     "elapsed": 4756,
     "user": {
      "displayName": "Ziyan Wang",
      "photoUrl": "",
      "userId": "14450291798637942954"
     }
    },
    "outputId": "5dee4322-bad4-4715-cec3-bf867426d3ec"
   },
   "source": [
    "degree = 3\n",
    "alpha = .1\n",
    "nrows = 2\n",
    "ncols = 4\n",
    "\n",
    "\n",
    "fig = plt.figure(figsize=(16, 8))\n",
    "for i,state in enumerate([\"California\", \"Idaho\"]):\n",
    "  for j, window in enumerate([7, 15, 21, 43]):\n",
    "    \n",
    "    Death_smoothed = savgol_filter(train_by_state[state].Deaths.values.ravel(), window, degree)\n",
    "    Smooth_2nd = calc_2nd_deriv(Death_smoothed, numpy = True)\n",
    "    ax = fig.add_subplot(nrows, ncols, 4*i+(j+1))\n",
    "    #ax.plot(train_by_state[state].Deaths.values)\n",
    "    ax.set_title(f\"{state} Death with window = {window}\")\n",
    "    ax.plot(Smooth_2nd)\n",
    "    \n"
   ],
   "execution_count": null,
   "outputs": []
  },
  {
   "cell_type": "markdown",
   "metadata": {
    "id": "Y9KpWuguFr71"
   },
   "source": [
    "#### Example of 2nd derivative approx. "
   ]
  },
  {
   "cell_type": "code",
   "metadata": {
    "id": "6b72a5hwEx02",
    "colab": {
     "base_uri": "https://localhost:8080/",
     "height": 206
    },
    "executionInfo": {
     "status": "error",
     "timestamp": 1606490721567,
     "user_tz": -480,
     "elapsed": 4760,
     "user": {
      "displayName": "Ziyan Wang",
      "photoUrl": "",
      "userId": "14450291798637942954"
     }
    },
    "outputId": "fcd45856-7788-4b6f-cd6a-bc97bfac243d"
   },
   "source": [
    "print(np.nanmin(cal_2nd_deriv), np.nanargmin(cal_2nd_deriv))\n",
    "crit_ind = np.nanargmin(cal_2nd_deriv)\n",
    "train_by_state[\"California\"].Deaths[crit_ind-1:crit_ind+2].values "
   ],
   "execution_count": null,
   "outputs": []
  },
  {
   "cell_type": "code",
   "metadata": {
    "id": "prsCiMIv5kYk"
   },
   "source": [
    "fig = plt.figure(figsize=(4, 9))\n",
    "ax = fig.add_subplot(2, 1, 1)\n",
    "ax.scatter(np.arange(9), train_by_state[\"California\"].Deaths[120:129].values)\n",
    "ax.set_xlim(-5, 35)\n",
    "ax = fig.add_subplot(2, 1, 2)\n",
    "ax.plot(cal_2nd_deriv[123:126])\n",
    "ax.set_xlim(-5, 35)\n",
    "plt.show()"
   ],
   "execution_count": null,
   "outputs": []
  },
  {
   "cell_type": "code",
   "metadata": {
    "id": "EKdtr0gv5a0f"
   },
   "source": [
    ""
   ],
   "execution_count": null,
   "outputs": []
  },
  {
   "cell_type": "code",
   "metadata": {
    "id": "JRCrvmlQ5GR2"
   },
   "source": [
    "id_2nd_deriv = calc_2nd_deriv(train_by_state[\"Idaho\"], \"Deaths\") "
   ],
   "execution_count": null,
   "outputs": []
  },
  {
   "cell_type": "code",
   "metadata": {
    "id": "wxmJ-wHk8eqo"
   },
   "source": [
    "plt.plot(id_2nd_deriv)"
   ],
   "execution_count": null,
   "outputs": []
  },
  {
   "cell_type": "markdown",
   "metadata": {
    "id": "xV-DGg8O2vVG"
   },
   "source": [
    "### Exponential smoothing for baseline"
   ]
  },
  {
   "cell_type": "code",
   "metadata": {
    "id": "vQoMatQR0JEX",
    "colab": {
     "base_uri": "https://localhost:8080/",
     "height": 406
    },
    "executionInfo": {
     "status": "ok",
     "timestamp": 1605391919803,
     "user_tz": 360,
     "elapsed": 356,
     "user": {
      "displayName": "Thomas Sun",
      "photoUrl": "https://lh3.googleusercontent.com/a-/AOh14Gge-4Dkf8K882kgbBR9hPTcHW4PsnCxrfeR01sDBw=s64",
      "userId": "06890183580794949868"
     }
    },
    "outputId": "2b473d78-fbab-4721-e892-2ad38928a7ba"
   },
   "source": [
    "y_train"
   ],
   "execution_count": null,
   "outputs": []
  },
  {
   "cell_type": "code",
   "metadata": {
    "id": "6uvuF3Dq3LFd",
    "colab": {
     "base_uri": "https://localhost:8080/",
     "height": 282
    },
    "executionInfo": {
     "status": "ok",
     "timestamp": 1605392002701,
     "user_tz": 360,
     "elapsed": 455,
     "user": {
      "displayName": "Thomas Sun",
      "photoUrl": "https://lh3.googleusercontent.com/a-/AOh14Gge-4Dkf8K882kgbBR9hPTcHW4PsnCxrfeR01sDBw=s64",
      "userId": "06890183580794949868"
     }
    },
    "outputId": "21f048cb-0993-4b24-8598-4e9b910c7a9d"
   },
   "source": [
    "y_train[\"Deaths\"].plot()"
   ],
   "execution_count": null,
   "outputs": []
  },
  {
   "cell_type": "code",
   "metadata": {
    "id": "_YWtOQyX8hbu",
    "colab": {
     "base_uri": "https://localhost:8080/",
     "height": 282
    },
    "executionInfo": {
     "status": "ok",
     "timestamp": 1604306208881,
     "user_tz": -480,
     "elapsed": 1098,
     "user": {
      "displayName": "Wenxuan Liu",
      "photoUrl": "https://lh3.googleusercontent.com/a-/AOh14Gi5R6BpcD91P-TsWr1CGoOjX92WGAUozi2VoISw=s64",
      "userId": "03673989604626841258"
     }
    },
    "outputId": "d22e214f-4ade-4b89-9ad5-1d8eecbd3ea1"
   },
   "source": [
    "y_train[\"Recovered\"].plot(c = \"orange\")"
   ],
   "execution_count": null,
   "outputs": []
  },
  {
   "cell_type": "code",
   "metadata": {
    "id": "gq39lLHi8mdp",
    "colab": {
     "base_uri": "https://localhost:8080/",
     "height": 338
    },
    "executionInfo": {
     "status": "error",
     "timestamp": 1604306211928,
     "user_tz": -480,
     "elapsed": 1396,
     "user": {
      "displayName": "Wenxuan Liu",
      "photoUrl": "https://lh3.googleusercontent.com/a-/AOh14Gi5R6BpcD91P-TsWr1CGoOjX92WGAUozi2VoISw=s64",
      "userId": "03673989604626841258"
     }
    },
    "outputId": "f6fa5576-e6b7-4a8e-b1d5-7d1458efcdec"
   },
   "source": [
    "from statsmodels.tsa.ar_model import AutoReg"
   ],
   "execution_count": null,
   "outputs": []
  },
  {
   "cell_type": "code",
   "metadata": {
    "id": "I4X0f56hA44M"
   },
   "source": [
    "import warnings\n",
    "warnings.filterwarnings('ignore', 'statsmodels.tsa.arima_model.ARMA',\n",
    "                        FutureWarning)\n",
    "warnings.filterwarnings('ignore', 'statsmodels.tsa.arima_model.ARIMA',\n",
    "                        FutureWarning)"
   ],
   "execution_count": null,
   "outputs": []
  },
  {
   "cell_type": "code",
   "metadata": {
    "id": "M4cWee5Y_gaU",
    "colab": {
     "base_uri": "https://localhost:8080/",
     "height": 372
    },
    "executionInfo": {
     "status": "error",
     "timestamp": 1604306229350,
     "user_tz": -480,
     "elapsed": 1032,
     "user": {
      "displayName": "Wenxuan Liu",
      "photoUrl": "https://lh3.googleusercontent.com/a-/AOh14Gi5R6BpcD91P-TsWr1CGoOjX92WGAUozi2VoISw=s64",
      "userId": "03673989604626841258"
     }
    },
    "outputId": "79835fc7-df40-4c69-aa82-0969631c4abb"
   },
   "source": [
    "from statsmodels.tsa.arima.model import ARIMA\n",
    "from random import random\n",
    "# contrived dataset\n",
    "data = [x + random() for x in range(1, 100)]\n",
    "# fit model\n",
    "model = ARIMA(data, order=(1, 1, 1))\n",
    "model_fit = model.fit()\n",
    "# make prediction\n",
    "yhat = model_fit.predict(len(data), len(data), typ='levels')\n",
    "print(yhat)"
   ],
   "execution_count": null,
   "outputs": []
  },
  {
   "cell_type": "code",
   "metadata": {
    "id": "-tOhZCPPA24l"
   },
   "source": [
    "y_pred = y_train.rolling(2, win_type='gaussian').sum(std=3)"
   ],
   "execution_count": null,
   "outputs": []
  },
  {
   "cell_type": "markdown",
   "metadata": {
    "id": "JM82GCauCwHo"
   },
   "source": [
    "##### Separate prediction for each state"
   ]
  },
  {
   "cell_type": "code",
   "metadata": {
    "id": "DkJXBMamDCqa",
    "colab": {
     "base_uri": "https://localhost:8080/",
     "height": 760
    },
    "executionInfo": {
     "status": "ok",
     "timestamp": 1604288541826,
     "user_tz": 360,
     "elapsed": 389,
     "user": {
      "displayName": "Thomas Sun",
      "photoUrl": "https://lh3.googleusercontent.com/a-/AOh14Gge-4Dkf8K882kgbBR9hPTcHW4PsnCxrfeR01sDBw=s64",
      "userId": "06890183580794949868"
     }
    },
    "outputId": "cf07979b-2d75-49ab-9f85-3d5ef0b0eccb"
   },
   "source": [
    "traindf[traindf.Province_State == \"California\"]"
   ],
   "execution_count": null,
   "outputs": []
  },
  {
   "cell_type": "code",
   "metadata": {
    "id": "nWpbleBQDZi-",
    "colab": {
     "base_uri": "https://localhost:8080/",
     "height": 760
    },
    "executionInfo": {
     "status": "ok",
     "timestamp": 1604288651672,
     "user_tz": 360,
     "elapsed": 1024,
     "user": {
      "displayName": "Thomas Sun",
      "photoUrl": "https://lh3.googleusercontent.com/a-/AOh14Gge-4Dkf8K882kgbBR9hPTcHW4PsnCxrfeR01sDBw=s64",
      "userId": "06890183580794949868"
     }
    },
    "outputId": "c3a05256-dbe1-47e9-e125-0dd3128d1340"
   },
   "source": [
    "state_df_dict[\"California\"]"
   ],
   "execution_count": null,
   "outputs": []
  },
  {
   "cell_type": "code",
   "metadata": {
    "id": "hya1p1ABCzzV"
   },
   "source": [
    "state_df_dict = {}\n",
    "for state in unique_states:\n",
    "  state_df_dict[state] = traindf[traindf.Province_State == state]\n",
    "  #print(state, len(state_df_dict[state]))"
   ],
   "execution_count": null,
   "outputs": []
  },
  {
   "cell_type": "code",
   "metadata": {
    "id": "OLsdpxL0Gsbd"
   },
   "source": [
    "# Expnt. Moving Avr.\n",
    "def ema(data, alpha):\n",
    "  n = len(data)\n",
    "  mov_avr = np.ones((n,1))\n",
    "  mov_avr[0] = data[0]\n",
    "  for i in np.arange(1,n):\n",
    "    mov_avr[i] = alpha * data[i] + (1-alpha) * mov_avr[i-1]\n",
    "  return mov_avr\n"
   ],
   "execution_count": null,
   "outputs": []
  },
  {
   "cell_type": "code",
   "metadata": {
    "id": "ifHBbM48WR7e"
   },
   "source": [
    "def predict(mov_avr, days, alpha):\n",
    "  pred = np.ones((days,1))\n",
    "  for i in np.arange(1,n):\n",
    "    pred[i] = alpha * mov_avr[i] + (1-alpha) * mov_avr[i-1]\n",
    "  return pred"
   ],
   "execution_count": null,
   "outputs": []
  },
  {
   "cell_type": "code",
   "metadata": {
    "id": "QR9z9XpVW9uV",
    "colab": {
     "base_uri": "https://localhost:8080/"
    },
    "executionInfo": {
     "status": "ok",
     "timestamp": 1604293768110,
     "user_tz": 360,
     "elapsed": 392,
     "user": {
      "displayName": "Thomas Sun",
      "photoUrl": "https://lh3.googleusercontent.com/a-/AOh14Gge-4Dkf8K882kgbBR9hPTcHW4PsnCxrfeR01sDBw=s64",
      "userId": "06890183580794949868"
     }
    },
    "outputId": "40759243-8699-4d37-d8c4-14c595d36b28"
   },
   "source": [
    "predict(state_df_dict[\"California\"].Deaths, 25, 0.5)"
   ],
   "execution_count": null,
   "outputs": []
  },
  {
   "cell_type": "code",
   "metadata": {
    "id": "xE_zTi-kPdch",
    "colab": {
     "base_uri": "https://localhost:8080/",
     "height": 282
    },
    "executionInfo": {
     "status": "ok",
     "timestamp": 1604292735701,
     "user_tz": 360,
     "elapsed": 1210,
     "user": {
      "displayName": "Thomas Sun",
      "photoUrl": "https://lh3.googleusercontent.com/a-/AOh14Gge-4Dkf8K882kgbBR9hPTcHW4PsnCxrfeR01sDBw=s64",
      "userId": "06890183580794949868"
     }
    },
    "outputId": "689900ef-b829-4153-a511-c4cb014e684b"
   },
   "source": [
    "plt.plot(ema(state_df_dict[\"California\"].Deaths.values, 0.5), state_df_dict[\"California\"].Deaths)"
   ],
   "execution_count": null,
   "outputs": []
  },
  {
   "cell_type": "code",
   "metadata": {
    "id": "gnoPYHe9POWv",
    "colab": {
     "base_uri": "https://localhost:8080/"
    },
    "executionInfo": {
     "status": "ok",
     "timestamp": 1604291737518,
     "user_tz": 360,
     "elapsed": 457,
     "user": {
      "displayName": "Thomas Sun",
      "photoUrl": "https://lh3.googleusercontent.com/a-/AOh14Gge-4Dkf8K882kgbBR9hPTcHW4PsnCxrfeR01sDBw=s64",
      "userId": "06890183580794949868"
     }
    },
    "outputId": "1eff090a-f4b0-44d4-bd3f-24cf13fe0b41"
   },
   "source": [
    "ema(y_train.Deaths, 0.5)"
   ],
   "execution_count": null,
   "outputs": []
  },
  {
   "cell_type": "code",
   "metadata": {
    "id": "WmO6LIBICx54"
   },
   "source": [
    "y_train['D_SMA_10'] = y_train.Deaths.rolling(10, min_periods=1).mean()\n",
    "y_train['D_SMA_20'] = y_train.Deaths.rolling(20, min_periods=1).mean()\n",
    "#y_train['R_SMA_10'] = y_train.Recovered.rolling(10, min_periods=1).mean()\n",
    "#y_train['R_SMA_20'] = y_train.Recovered.rolling(20, min_periods=1).mean()"
   ],
   "execution_count": null,
   "outputs": []
  },
  {
   "cell_type": "code",
   "metadata": {
    "id": "OD_WHBkNDvu6"
   },
   "source": [
    "y_train[\"D_GSMA_10\"] = y_train.Deaths.rolling(10, win_type='gaussian').sum(std=3)\n",
    "y_train[\"D_GSMA_20\"] = y_train.Deaths.rolling(20, win_type='gaussian').sum(std=3)"
   ],
   "execution_count": null,
   "outputs": []
  },
  {
   "cell_type": "code",
   "metadata": {
    "id": "Luv7kQRDElZ8"
   },
   "source": [
    "y_train['DEMA_0.1'] = y_train.Deaths.ewm(alpha=0.1, adjust=False).mean()\n",
    "y_train['DEMA_0.2'] = y_train.Deaths.ewm(alpha=0.2, adjust=False).mean()"
   ],
   "execution_count": null,
   "outputs": []
  },
  {
   "cell_type": "code",
   "metadata": {
    "id": "pTkSb4t2D_Oc",
    "colab": {
     "base_uri": "https://localhost:8080/",
     "height": 406
    },
    "executionInfo": {
     "status": "ok",
     "timestamp": 1604288683198,
     "user_tz": 360,
     "elapsed": 253,
     "user": {
      "displayName": "Thomas Sun",
      "photoUrl": "https://lh3.googleusercontent.com/a-/AOh14Gge-4Dkf8K882kgbBR9hPTcHW4PsnCxrfeR01sDBw=s64",
      "userId": "06890183580794949868"
     }
    },
    "outputId": "aedfa2df-4446-4fc0-f31f-f86ca2c845a7"
   },
   "source": [
    "y_train"
   ],
   "execution_count": null,
   "outputs": []
  },
  {
   "cell_type": "code",
   "metadata": {
    "id": "pY4syn71DwuH",
    "colab": {
     "base_uri": "https://localhost:8080/",
     "height": 1000
    },
    "executionInfo": {
     "status": "ok",
     "timestamp": 1604188644987,
     "user_tz": 300,
     "elapsed": 1263,
     "user": {
      "displayName": "Thomas Sun",
      "photoUrl": "https://lh3.googleusercontent.com/a-/AOh14Gge-4Dkf8K882kgbBR9hPTcHW4PsnCxrfeR01sDBw=s64",
      "userId": "06890183580794949868"
     }
    },
    "outputId": "749e9412-dde9-41ea-87e7-30a6d120ab38"
   },
   "source": [
    "pairs = [(2,3), (6,7), (8,9)]\n",
    "for pair in pairs:\n",
    "  y_train.iloc[:50,  [0,pair[0],pair[1]]].plot()\n",
    "  plt.show()\n",
    "  y_train.iloc[-50:, [0,pair[0],pair[1]]].plot()\n",
    "  plt.show()"
   ],
   "execution_count": null,
   "outputs": []
  },
  {
   "cell_type": "code",
   "metadata": {
    "id": "7nCybulKE97G"
   },
   "source": [
    "#Other ideas\n",
    "#use LSTM to train for predicting everything in the next day\n",
    "#Arima "
   ],
   "execution_count": null,
   "outputs": []
  },
  {
   "cell_type": "markdown",
   "metadata": {
    "id": "_K8LtDc_nxm1"
   },
   "source": [
    "### Prophet\n",
    "#### links: https://facebook.github.io/prophet/docs/quick_start.html. \n",
    "#### https://peerj.com/preprints/3190.pdf"
   ]
  },
  {
   "cell_type": "code",
   "metadata": {
    "id": "gKRGj0rBoLf0"
   },
   "source": [
    "sample_train = train_by_state[\"California\"]\n",
    "sample_test = testdf[testdf.Province_State == \"California\"]"
   ],
   "execution_count": null,
   "outputs": []
  },
  {
   "cell_type": "code",
   "metadata": {
    "colab": {
     "base_uri": "https://localhost:8080/",
     "height": 394
    },
    "id": "Ty-nGz6H2uYL",
    "executionInfo": {
     "status": "ok",
     "timestamp": 1606540775852,
     "user_tz": -480,
     "elapsed": 1000,
     "user": {
      "displayName": "Ziyan Wang",
      "photoUrl": "",
      "userId": "14450291798637942954"
     }
    },
    "outputId": "74589008-3029-439c-986e-b7994d4ac6e1"
   },
   "source": [
    "sample_train = sample_train.reset_index(drop= True)\n",
    "sample_train.head()"
   ],
   "execution_count": null,
   "outputs": []
  },
  {
   "cell_type": "code",
   "metadata": {
    "colab": {
     "base_uri": "https://localhost:8080/",
     "height": 264
    },
    "id": "kQRNCTg2YqCi",
    "executionInfo": {
     "status": "ok",
     "timestamp": 1606609449346,
     "user_tz": 360,
     "elapsed": 534,
     "user": {
      "displayName": "Thomas Sun",
      "photoUrl": "https://lh3.googleusercontent.com/a-/AOh14Gge-4Dkf8K882kgbBR9hPTcHW4PsnCxrfeR01sDBw=s64",
      "userId": "06890183580794949868"
     }
    },
    "outputId": "a1bf7bac-d63c-40e1-f613-1f7e427c4d3f"
   },
   "source": [
    "# California\n",
    "plt.plot(np.arange(142), sample_train.Deaths.values, label = \"train\")\n",
    "plt.plot(np.arange(142, 168), sample_test.Deaths.values, label = \"test\")\n",
    "plt.legend()\n",
    "plt.show()"
   ],
   "execution_count": null,
   "outputs": []
  },
  {
   "cell_type": "code",
   "metadata": {
    "colab": {
     "base_uri": "https://localhost:8080/",
     "height": 264
    },
    "id": "urPMW_EY2Uyi",
    "executionInfo": {
     "status": "ok",
     "timestamp": 1606609408547,
     "user_tz": 360,
     "elapsed": 585,
     "user": {
      "displayName": "Thomas Sun",
      "photoUrl": "https://lh3.googleusercontent.com/a-/AOh14Gge-4Dkf8K882kgbBR9hPTcHW4PsnCxrfeR01sDBw=s64",
      "userId": "06890183580794949868"
     }
    },
    "outputId": "27bdc7cd-77a1-4695-9f55-5d2772f8211b"
   },
   "source": [
    "# Alaska\n",
    "plt.plot(np.arange(142), sample_train.Deaths.values, label = \"train\")\n",
    "plt.plot(np.arange(142, 168), sample_test.Deaths.values, label = \"test\")\n",
    "plt.legend()\n",
    "plt.show()"
   ],
   "execution_count": null,
   "outputs": []
  },
  {
   "cell_type": "code",
   "metadata": {
    "id": "qzwaCcTlpYkS",
    "colab": {
     "base_uri": "https://localhost:8080/"
    },
    "executionInfo": {
     "status": "ok",
     "timestamp": 1606540805429,
     "user_tz": -480,
     "elapsed": 833,
     "user": {
      "displayName": "Ziyan Wang",
      "photoUrl": "",
      "userId": "14450291798637942954"
     }
    },
    "outputId": "a7716a9c-4b6f-4de2-ecea-db8c4490b4be"
   },
   "source": [
    "basic_model = Prophet()\n",
    "basic_model.fit(sample_train.reset_index() \\\n",
    "              .rename(columns={'Date':'ds',\n",
    "                               'Deaths':'y'}))"
   ],
   "execution_count": null,
   "outputs": []
  },
  {
   "cell_type": "code",
   "metadata": {
    "colab": {
     "base_uri": "https://localhost:8080/",
     "height": 417
    },
    "id": "k3tM8OJl4JPw",
    "executionInfo": {
     "status": "ok",
     "timestamp": 1606540810939,
     "user_tz": -480,
     "elapsed": 966,
     "user": {
      "displayName": "Ziyan Wang",
      "photoUrl": "",
      "userId": "14450291798637942954"
     }
    },
    "outputId": "e8c2a9f7-c4b9-49a5-96e4-fd351ef2414a"
   },
   "source": [
    "future = basic_model.make_future_dataframe(periods=len(sample_test))\n",
    "future #contains all dates of train and test"
   ],
   "execution_count": null,
   "outputs": []
  },
  {
   "cell_type": "code",
   "metadata": {
    "colab": {
     "base_uri": "https://localhost:8080/",
     "height": 308
    },
    "id": "-7PTBOFX4TjF",
    "executionInfo": {
     "status": "ok",
     "timestamp": 1606540828835,
     "user_tz": -480,
     "elapsed": 2657,
     "user": {
      "displayName": "Ziyan Wang",
      "photoUrl": "",
      "userId": "14450291798637942954"
     }
    },
    "outputId": "34dba42c-1cc8-48e4-e697-6b69af2f1beb"
   },
   "source": [
    "forecast = basic_model.predict(future)\n",
    "forecast.tail()"
   ],
   "execution_count": null,
   "outputs": []
  },
  {
   "cell_type": "code",
   "metadata": {
    "colab": {
     "base_uri": "https://localhost:8080/",
     "height": 265
    },
    "id": "bOueE7f347sT",
    "executionInfo": {
     "status": "ok",
     "timestamp": 1606540855750,
     "user_tz": -480,
     "elapsed": 1487,
     "user": {
      "displayName": "Ziyan Wang",
      "photoUrl": "",
      "userId": "14450291798637942954"
     }
    },
    "outputId": "222ef19b-cfb8-4801-8bb7-324c74a0f353"
   },
   "source": [
    "fig, (ax1, ax2) = plt.subplots(1, 2)\n",
    "ax1.plot(np.arange(142), sample_train.Deaths.values, label = \"train\")\n",
    "ax1.plot(np.arange(142, 168), sample_test.Deaths.values, label = \"test\")\n",
    "ax1.plot(np.arange(142, 168), forecast.yhat.values[142:], label = \"forecast\")\n",
    "ax1.legend()\n",
    "\n",
    "ax2.scatter(np.arange(26), sample_test.Deaths.values, label = \"test\")\n",
    "ax2.scatter(np.arange(26), forecast.yhat.values[142:], label = \"forecast\")\n",
    "ax2.legend()\n",
    "\n",
    "fig.set_size_inches(11, 4)\n",
    "plt.show()"
   ],
   "execution_count": null,
   "outputs": []
  },
  {
   "cell_type": "code",
   "metadata": {
    "colab": {
     "base_uri": "https://localhost:8080/",
     "height": 441
    },
    "id": "BGVnxMdA9Tmz",
    "executionInfo": {
     "status": "ok",
     "timestamp": 1606540864777,
     "user_tz": -480,
     "elapsed": 1174,
     "user": {
      "displayName": "Ziyan Wang",
      "photoUrl": "",
      "userId": "14450291798637942954"
     }
    },
    "outputId": "76a1585e-2b4c-4c72-bf1f-5529d7bd9a3e"
   },
   "source": [
    "from fbprophet.plot import add_changepoints_to_plot\n",
    "fig = basic_model.plot(forecast)\n",
    "a = add_changepoints_to_plot(fig.gca(), basic_model, forecast)"
   ],
   "execution_count": null,
   "outputs": []
  },
  {
   "cell_type": "code",
   "metadata": {
    "colab": {
     "base_uri": "https://localhost:8080/"
    },
    "id": "UV9n9Z9aBIky",
    "executionInfo": {
     "status": "ok",
     "timestamp": 1606540881272,
     "user_tz": -480,
     "elapsed": 1605,
     "user": {
      "displayName": "Ziyan Wang",
      "photoUrl": "",
      "userId": "14450291798637942954"
     }
    },
    "outputId": "dc5142e9-63da-4baf-fc5b-b66ecd3047cb"
   },
   "source": [
    "basic_model.changepoints"
   ],
   "execution_count": null,
   "outputs": []
  },
  {
   "cell_type": "code",
   "metadata": {
    "colab": {
     "base_uri": "https://localhost:8080/",
     "height": 445
    },
    "id": "qKIe5LEj6cuE",
    "executionInfo": {
     "status": "ok",
     "timestamp": 1606540896066,
     "user_tz": -480,
     "elapsed": 1431,
     "user": {
      "displayName": "Ziyan Wang",
      "photoUrl": "",
      "userId": "14450291798637942954"
     }
    },
    "outputId": "e19d1b0c-6724-439c-a89d-49c18bcacebe"
   },
   "source": [
    "components_plot = basic_model.plot_components(forecast)"
   ],
   "execution_count": null,
   "outputs": []
  },
  {
   "cell_type": "markdown",
   "metadata": {
    "id": "vQzDS1-BY24k"
   },
   "source": [
    "#### Example of prophet"
   ]
  },
  {
   "cell_type": "code",
   "metadata": {
    "colab": {
     "base_uri": "https://localhost:8080/",
     "height": 318
    },
    "id": "ii0lWCFM8B8V",
    "executionInfo": {
     "status": "ok",
     "timestamp": 1606541455151,
     "user_tz": -480,
     "elapsed": 13372,
     "user": {
      "displayName": "Ziyan Wang",
      "photoUrl": "",
      "userId": "14450291798637942954"
     }
    },
    "outputId": "7d606a1f-f667-416a-eb2c-a69edf729ee3"
   },
   "source": [
    "basic_model = Prophet()\n",
    "basic_model.fit(sample_train.iloc[-20:].reset_index() \\\n",
    "              .rename(columns={'Date':'ds',\n",
    "                               'Deaths':'y'}))\n",
    "\n",
    "future = basic_model.make_future_dataframe(periods=len(sample_test))\n",
    "forecast = basic_model.predict(future)\n",
    "fig, (ax1, ax2) = plt.subplots(1, 2)\n",
    "ax1.plot(np.arange(20), sample_train.iloc[-20:].Deaths.values, label = \"train\")\n",
    "ax1.plot(np.arange(20, 46), sample_test.Deaths.values, label = \"test\")\n",
    "ax1.plot(np.arange(20, 46), forecast.yhat.values[20:], label = \"forecast\")\n",
    "ax1.legend()\n",
    "\n",
    "ax2.scatter(np.arange(26), sample_test.Deaths.values, label = \"test\")\n",
    "ax2.scatter(np.arange(26), forecast.yhat.values[20:], label = \"forecast\")\n",
    "ax2.legend()\n",
    "\n",
    "fig.set_size_inches(11, 4)\n",
    "plt.show()"
   ],
   "execution_count": null,
   "outputs": []
  },
  {
   "cell_type": "code",
   "metadata": {
    "colab": {
     "base_uri": "https://localhost:8080/",
     "height": 441
    },
    "id": "No_MXqDM9KnB",
    "executionInfo": {
     "status": "ok",
     "timestamp": 1606541460561,
     "user_tz": -480,
     "elapsed": 1828,
     "user": {
      "displayName": "Ziyan Wang",
      "photoUrl": "",
      "userId": "14450291798637942954"
     }
    },
    "outputId": "1f5b95cd-477b-40c0-dcf4-d36231609a90"
   },
   "source": [
    "fig = basic_model.plot(forecast)\n",
    "a = add_changepoints_to_plot(fig.gca(), basic_model, forecast)"
   ],
   "execution_count": null,
   "outputs": []
  },
  {
   "cell_type": "markdown",
   "metadata": {
    "id": "B6-68qwnCGJq"
   },
   "source": [
    "### Prophet with additional regressors"
   ]
  },
  {
   "cell_type": "code",
   "metadata": {
    "colab": {
     "base_uri": "https://localhost:8080/",
     "height": 394
    },
    "id": "PsEy2DCZDVnM",
    "executionInfo": {
     "status": "ok",
     "timestamp": 1606541469004,
     "user_tz": -480,
     "elapsed": 1895,
     "user": {
      "displayName": "Ziyan Wang",
      "photoUrl": "",
      "userId": "14450291798637942954"
     }
    },
    "outputId": "b36f74c7-916b-4144-e9a1-42789ebf6c95"
   },
   "source": [
    "sample_train.head()"
   ],
   "execution_count": null,
   "outputs": []
  },
  {
   "cell_type": "code",
   "metadata": {
    "colab": {
     "base_uri": "https://localhost:8080/"
    },
    "id": "iVpbT_MMFGWJ",
    "executionInfo": {
     "status": "ok",
     "timestamp": 1606541472297,
     "user_tz": -480,
     "elapsed": 708,
     "user": {
      "displayName": "Ziyan Wang",
      "photoUrl": "",
      "userId": "14450291798637942954"
     }
    },
    "outputId": "8717043e-93ba-4f10-8508-fe3802b8c96a"
   },
   "source": [
    "sample_train.columns"
   ],
   "execution_count": null,
   "outputs": []
  },
  {
   "cell_type": "code",
   "metadata": {
    "id": "ANlLLuBJFUAv",
    "colab": {
     "base_uri": "https://localhost:8080/",
     "height": 203
    },
    "executionInfo": {
     "status": "ok",
     "timestamp": 1606541720873,
     "user_tz": -480,
     "elapsed": 770,
     "user": {
      "displayName": "Ziyan Wang",
      "photoUrl": "",
      "userId": "14450291798637942954"
     }
    },
    "outputId": "2d8af24e-b4fa-4949-c29f-bcbb7cfb6807"
   },
   "source": [
    "X_train = sample_train.iloc[:, 5:6]\n",
    "X_train['Incident_Rate'] = sample_train['Incident_Rate']\n",
    "X_train['People_Tested'] = sample_train['People_Tested']\n",
    "X_train['People_Hospitalized'] = sample_train['People_Hospitalized']\n",
    "X_train['Confirmed'] = sample_train['Confirmed']\n",
    "X_train['Deaths'] = sample_train[\"Deaths\"]\n",
    "X_train['Mobility'] = sample_train[\"Mobility\"]\n",
    "X_train.head()"
   ],
   "execution_count": null,
   "outputs": []
  },
  {
   "cell_type": "code",
   "metadata": {
    "colab": {
     "base_uri": "https://localhost:8080/",
     "height": 1000
    },
    "id": "dmbtgLTiHsmt",
    "executionInfo": {
     "status": "ok",
     "timestamp": 1606541536764,
     "user_tz": -480,
     "elapsed": 713,
     "user": {
      "displayName": "Ziyan Wang",
      "photoUrl": "",
      "userId": "14450291798637942954"
     }
    },
    "outputId": "8b6e6dc7-bd8e-4b0d-efac-4bb42ef409b7"
   },
   "source": [
    "future"
   ],
   "execution_count": null,
   "outputs": []
  },
  {
   "cell_type": "code",
   "metadata": {
    "id": "WbzbDbbAIrxv"
   },
   "source": [
    "feature_future = future.copy()"
   ],
   "execution_count": null,
   "outputs": []
  },
  {
   "cell_type": "code",
   "metadata": {
    "colab": {
     "base_uri": "https://localhost:8080/",
     "height": 1000
    },
    "id": "ukk0A8KuIR0Y",
    "executionInfo": {
     "status": "ok",
     "timestamp": 1606542851953,
     "user_tz": -480,
     "elapsed": 11680,
     "user": {
      "displayName": "Ziyan Wang",
      "photoUrl": "",
      "userId": "14450291798637942954"
     }
    },
    "outputId": "71dd5f93-5152-4765-84f1-a4e0b6a6c351"
   },
   "source": [
    "for feature in ['Incident_Rate', 'People_Tested', 'Confirmed', 'Mobility']:\n",
    "  feature_model = Prophet()\n",
    "  feature_model.fit(sample_train.reset_index() \\\n",
    "              .rename(columns={'Date':'ds',\n",
    "                               feature:'y'}))\n",
    "\n",
    "  forecast = feature_model.predict(feature_future)\n",
    "  future[feature] = forecast.yhat\n",
    "  feature_model.plot(forecast)\n",
    "  plt.title(f\"{feature} modeled\")\n",
    "  plt.show()"
   ],
   "execution_count": null,
   "outputs": []
  },
  {
   "cell_type": "code",
   "metadata": {
    "colab": {
     "base_uri": "https://localhost:8080/",
     "height": 476
    },
    "id": "VJhHdphdCBYM",
    "executionInfo": {
     "status": "ok",
     "timestamp": 1606542864375,
     "user_tz": -480,
     "elapsed": 4562,
     "user": {
      "displayName": "Ziyan Wang",
      "photoUrl": "",
      "userId": "14450291798637942954"
     }
    },
    "outputId": "1afd3443-bb9c-4a71-b22d-4e8d7fbe2fd0"
   },
   "source": [
    "pro_regressor= Prophet()\n",
    "pro_regressor.add_regressor('Incident_Rate')\n",
    "pro_regressor.add_regressor('People_Tested')\n",
    "#pro_regressor.add_regressor('People_Hospitalized')\n",
    "pro_regressor.add_regressor('Confirmed')\n",
    "pro_regressor.add_regressor('Mobility')\n",
    "\n",
    "pro_regressor.fit(X_train.reset_index(drop= True) \\\n",
    "              .rename(columns={'Date':'ds',\n",
    "                               'Deaths':'y'}))\n",
    "\n",
    "forecast = pro_regressor.predict(future)\n",
    "result = pro_regressor.plot(forecast)"
   ],
   "execution_count": null,
   "outputs": []
  },
  {
   "cell_type": "code",
   "metadata": {
    "colab": {
     "base_uri": "https://localhost:8080/"
    },
    "id": "rI5ZswWqZZL2",
    "executionInfo": {
     "status": "ok",
     "timestamp": 1606542561706,
     "user_tz": -480,
     "elapsed": 1188,
     "user": {
      "displayName": "Ziyan Wang",
      "photoUrl": "",
      "userId": "14450291798637942954"
     }
    },
    "outputId": "c59535af-b1fe-4730-ee9a-ab97b07b076a"
   },
   "source": [
    "len(forecast.yhat.values)"
   ],
   "execution_count": null,
   "outputs": []
  },
  {
   "cell_type": "code",
   "metadata": {
    "colab": {
     "base_uri": "https://localhost:8080/",
     "height": 265
    },
    "id": "sWGghLFUD54U",
    "executionInfo": {
     "status": "ok",
     "timestamp": 1606542872714,
     "user_tz": -480,
     "elapsed": 1730,
     "user": {
      "displayName": "Ziyan Wang",
      "photoUrl": "",
      "userId": "14450291798637942954"
     }
    },
    "outputId": "47e57d3d-645e-4d51-aa75-7c63aa697ea3"
   },
   "source": [
    "fig, (ax1, ax2) = plt.subplots(1, 2)\n",
    "ax1.plot(np.arange(142), sample_train.Deaths.values, label = \"train\")\n",
    "ax1.plot(np.arange(142, 168), sample_test.Deaths.values, label = \"test\")\n",
    "ax1.plot(np.arange(142, 168), forecast.yhat.values[-26:], label = \"forecast\")\n",
    "ax1.legend()\n",
    "\n",
    "ax2.scatter(np.arange(26), sample_test.Deaths.values, label = \"test\")\n",
    "ax2.scatter(np.arange(26), forecast.yhat.values[-26:], label = \"forecast\")\n",
    "ax2.legend()\n",
    "\n",
    "fig.set_size_inches(11, 4)\n",
    "plt.show()"
   ],
   "execution_count": null,
   "outputs": []
  },
  {
   "cell_type": "markdown",
   "metadata": {
    "id": "kya10z0Kn2xC"
   },
   "source": [
    "### LSTM"
   ]
  },
  {
   "cell_type": "code",
   "metadata": {
    "colab": {
     "base_uri": "https://localhost:8080/",
     "height": 241
    },
    "id": "jbNsoektyAuu",
    "executionInfo": {
     "status": "error",
     "timestamp": 1606493647298,
     "user_tz": -480,
     "elapsed": 998,
     "user": {
      "displayName": "Ziyan Wang",
      "photoUrl": "",
      "userId": "14450291798637942954"
     }
    },
    "outputId": "6deccd1b-e5c1-43d8-9002-3ac65a8f5224"
   },
   "source": [
    "prophet_model = Prophet()\n",
    "prophet_model.fit(AL_traindf.reset_index() \\\n",
    "              .rename(columns={'Date':'ds',\n",
    "                               'Deaths':'y'}))\n",
    "\n",
    "future = prophet_model.make_future_dataframe(periods=len(AL_testdf))\n",
    "forecast = prophet_model.predict(future)\n",
    "\n",
    "fig, (ax1, ax2) = plt.subplots(1, 2)\n",
    "ax1.plot(np.arange(142), AL_traindf.Deaths.values, label = \"train\")\n",
    "ax1.plot(np.arange(142, 168), AL_testdf.Deaths.values, label = \"test\")\n",
    "ax1.plot(np.arange(142, 168), forecast.yhat.values[142:], label = \"forecast\")\n",
    "ax1.legend()\n",
    "\n",
    "ax2.scatter(np.arange(26), AL_testdf.Deaths.values, label = \"test\")\n",
    "ax2.scatter(np.arange(26), forecast.yhat.values[142:], label = \"forecast\")\n",
    "ax2.legend()\n",
    "\n",
    "fig.set_size_inches(11, 4)\n",
    "plt.show()\n",
    "fig = prophet_model.plot(forecast)\n",
    "a = add_changepoints_to_plot(fig.gca(), prophet_model, forecast)"
   ],
   "execution_count": null,
   "outputs": []
  },
  {
   "cell_type": "code",
   "metadata": {
    "id": "9Icr4PHAmSXS"
   },
   "source": [
    "AL_traindf = traindf[traindf['Province_State'] == 'Alabama']\n",
    "AL_testdf = testdf[testdf['Province_State'] == 'Alabama']\n",
    "value = pd.concat([AL_traindf['Confirmed'],AL_testdf['Confirmed']]).values[:]\n",
    "real_value = AL_traindf['Confirmed'].values[:]"
   ],
   "execution_count": null,
   "outputs": []
  },
  {
   "cell_type": "code",
   "metadata": {
    "id": "9FgZBaGOmSXV",
    "colab": {
     "base_uri": "https://localhost:8080/"
    },
    "executionInfo": {
     "status": "ok",
     "timestamp": 1606493674923,
     "user_tz": -480,
     "elapsed": 828,
     "user": {
      "displayName": "Ziyan Wang",
      "photoUrl": "",
      "userId": "14450291798637942954"
     }
    },
    "outputId": "21a50bcd-5cbd-4122-ecd8-23b5c1dabe9b"
   },
   "source": [
    "value.shape, real_value.shape"
   ],
   "execution_count": null,
   "outputs": []
  },
  {
   "cell_type": "code",
   "metadata": {
    "id": "T2UJAuUdmSXY"
   },
   "source": [
    "x = []\n",
    "y = []\n",
    "seq = 50 \n",
    "for i in range(len(value)-seq-1):\n",
    "    x.append(value[i:i+seq])\n",
    "    y.append(value[i+seq])"
   ],
   "execution_count": null,
   "outputs": []
  },
  {
   "cell_type": "code",
   "metadata": {
    "id": "Na32bLPUmSXb"
   },
   "source": [
    "train_x = (torch.tensor(x[0:142 - seq]).float()/100000.).reshape(-1, seq, 1)\n",
    "train_y = (torch.tensor(y[0:142 - seq]).float()/100000.).reshape(-1, 1)\n",
    "test_x = (torch.tensor(x[142 - seq:]).float()/100000.).reshape(-1, seq, 1)\n",
    "test_y = (torch.tensor(y[142 - seq:]).float()/100000.).reshape(-1, 1)"
   ],
   "execution_count": null,
   "outputs": []
  },
  {
   "cell_type": "code",
   "metadata": {
    "id": "MNGM3M--mSXe"
   },
   "source": [
    "class LSTM(nn.Module):\n",
    "    def __init__(self):\n",
    "        super(LSTM, self).__init__()\n",
    "        self.lstm = nn.LSTM(input_size=1, hidden_size=16, num_layers=1, batch_first=True)\n",
    "        self.linear = nn.Linear(16 * seq, 1)\n",
    "    def forward(self, x):\n",
    "        x, (h, c) = self.lstm(x)\n",
    "        x = x.reshape(-1, 16 * seq)\n",
    "        x = self.linear(x)\n",
    "        return x"
   ],
   "execution_count": null,
   "outputs": []
  },
  {
   "cell_type": "code",
   "metadata": {
    "id": "Uzb0M8oJmSXh"
   },
   "source": [
    "model = LSTM()\n",
    "optimzer = torch.optim.Adam(model.parameters(), lr=0.005)\n",
    "loss_func = nn.MSELoss()\n",
    "model.train()\n",
    "\n",
    "for epoch in range(2000):\n",
    "    output = model(train_x)\n",
    "    loss = loss_func(output, train_y)\n",
    "    optimzer.zero_grad()\n",
    "    loss.backward()\n",
    "    optimzer.step()\n",
    "#     if epoch % 20 == 0:\n",
    "#         tess_loss = loss_func(model(test_x), test_y)\n",
    "#         print(\"epoch:{}, train_loss:{}, test_loss:{}\".format(epoch, loss, tess_loss))"
   ],
   "execution_count": null,
   "outputs": []
  },
  {
   "cell_type": "code",
   "metadata": {
    "id": "APk953GYmSXk",
    "colab": {
     "base_uri": "https://localhost:8080/",
     "height": 294
    },
    "executionInfo": {
     "status": "ok",
     "timestamp": 1606013174880,
     "user_tz": 360,
     "elapsed": 810,
     "user": {
      "displayName": "Thomas Sun",
      "photoUrl": "https://lh3.googleusercontent.com/a-/AOh14Gge-4Dkf8K882kgbBR9hPTcHW4PsnCxrfeR01sDBw=s64",
      "userId": "06890183580794949868"
     }
    },
    "outputId": "27f48bbf-3e3c-4dbc-c40d-0060dd576ec2"
   },
   "source": [
    "model.eval()\n",
    "prediction = list((model(train_x).data.reshape(-1))*100000) + list((model(test_x).data.reshape(-1))*100000)\n",
    "\n",
    "fig, (ax1, ax2) = plt.subplots(1, 2)\n",
    "ax1.plot(value[seq:], label='True Value')\n",
    "ax1.plot(prediction[:142 - seq], label='LSTM fit')\n",
    "ax1.plot(np.arange(142 - seq, 142 - seq + 25, 1), prediction[142 - seq:], label='LSTM pred')\n",
    "ax1.legend(loc='best')\n",
    "\n",
    "ax1.set_title('Alabama Confirmed')\n",
    "ax1.set_xlabel('Day')\n",
    "ax1.set_ylabel('Cumulative Cases')\n",
    "\n",
    "ax2.scatter(np.arange(25), value[-25:], label='True Value')\n",
    "ax2.scatter(np.arange(25), prediction_np[-25:], label = 'LSTM pred')\n",
    "ax2.legend()\n",
    "\n",
    "fig.set_size_inches(11, 4)\n",
    "plt.show()"
   ],
   "execution_count": null,
   "outputs": []
  },
  {
   "cell_type": "code",
   "metadata": {
    "id": "ywTn64k42MxC"
   },
   "source": [
    "def train_test_prep(seq):\n",
    "  x = []\n",
    "  y = []\n",
    "  seq = 50 \n",
    "  for i in range(len(value)-seq-1):\n",
    "    x.append(value[i:i+seq])\n",
    "    y.append(value[i+seq])\n",
    "\n",
    "  train_x = (torch.tensor(x[0:142 - seq]).float()/100000.).reshape(-1, seq, 1)\n",
    "  train_y = (torch.tensor(y[0:142 - seq]).float()/100000.).reshape(-1, 1)\n",
    "  test_x = (torch.tensor(x[142 - seq:]).float()/100000.).reshape(-1, seq, 1)\n",
    "  test_y = (torch.tensor(y[142 - seq:]).float()/100000.).reshape(-1, 1)\n",
    "  \n",
    "  return train_x, train_y, test_x, test_y"
   ],
   "execution_count": null,
   "outputs": []
  },
  {
   "cell_type": "code",
   "metadata": {
    "colab": {
     "base_uri": "https://localhost:8080/",
     "height": 480
    },
    "id": "CW5ig0Ox2p2N",
    "executionInfo": {
     "status": "error",
     "timestamp": 1606013542007,
     "user_tz": 360,
     "elapsed": 323,
     "user": {
      "displayName": "Thomas Sun",
      "photoUrl": "https://lh3.googleusercontent.com/a-/AOh14Gge-4Dkf8K882kgbBR9hPTcHW4PsnCxrfeR01sDBw=s64",
      "userId": "06890183580794949868"
     }
    },
    "outputId": "9abce725-822c-464a-ba3e-65bf920b3a66"
   },
   "source": [
    "seq = 10\n",
    "train_x, train_y, test_x, test_y = train_test_prep(seq)\n",
    "model = LSTM()\n",
    "optimzer = torch.optim.Adam(model.parameters(), lr=0.005)\n",
    "loss_func = nn.MSELoss()\n",
    "model.train()\n",
    "\n",
    "for epoch in range(2000):\n",
    "    output = model(train_x)\n",
    "    loss = loss_func(output, train_y)\n",
    "    optimzer.zero_grad()\n",
    "    loss.backward()\n",
    "    optimzer.step()"
   ],
   "execution_count": null,
   "outputs": []
  },
  {
   "cell_type": "code",
   "metadata": {
    "colab": {
     "base_uri": "https://localhost:8080/",
     "height": 294
    },
    "id": "fxouD7Rv2w8v",
    "executionInfo": {
     "status": "ok",
     "timestamp": 1606013426892,
     "user_tz": 360,
     "elapsed": 663,
     "user": {
      "displayName": "Thomas Sun",
      "photoUrl": "https://lh3.googleusercontent.com/a-/AOh14Gge-4Dkf8K882kgbBR9hPTcHW4PsnCxrfeR01sDBw=s64",
      "userId": "06890183580794949868"
     }
    },
    "outputId": "359b822f-f144-41fd-b7bb-1de36d1bb2e6"
   },
   "source": [
    "model.eval()\n",
    "prediction = list((model(train_x).data.reshape(-1))*100000) + list((model(test_x).data.reshape(-1))*100000)\n",
    "\n",
    "fig, (ax1, ax2) = plt.subplots(1, 2)\n",
    "ax1.plot(value[seq:], label='True Value')\n",
    "ax1.plot(prediction[:142 - seq], label='LSTM fit')\n",
    "ax1.plot(np.arange(142 - seq, 142 - seq + 25, 1), prediction[142 - seq:], label='LSTM pred')\n",
    "ax1.legend(loc='best')\n",
    "\n",
    "ax1.set_title('Alabama Confirmed')\n",
    "ax1.set_xlabel('Day')\n",
    "ax1.set_ylabel('Cumulative Cases')\n",
    "\n",
    "ax2.scatter(np.arange(25), value[-25:], label='True Value')\n",
    "ax2.scatter(np.arange(25), prediction_np[-25:], label = 'LSTM pred')\n",
    "ax2.legend()\n",
    "\n",
    "fig.set_size_inches(11, 4)\n",
    "plt.show()"
   ],
   "execution_count": null,
   "outputs": []
  },
  {
   "cell_type": "code",
   "metadata": {
    "id": "QL7rT8LEmSXn",
    "colab": {
     "base_uri": "https://localhost:8080/",
     "height": 241
    },
    "executionInfo": {
     "status": "error",
     "timestamp": 1606493738272,
     "user_tz": -480,
     "elapsed": 1360,
     "user": {
      "displayName": "Ziyan Wang",
      "photoUrl": "",
      "userId": "14450291798637942954"
     }
    },
    "outputId": "7e5c0721-7480-4e22-ba42-9d6d5bb8ee63"
   },
   "source": [
    "predictions = []\n",
    "for i in range(26):\n",
    "    x_pred = (torch.tensor(x_test[i]).float()/100000.).reshape(-1, seq, 1)\n",
    "    pred = int(model(x_pred) * 100000)\n",
    "    x_append = x_test[i][1:].tolist()\n",
    "    x_append.append(pred)\n",
    "    x_test.append(np.array(x_append, dtype='int64'))\n",
    "    predictions.append(pred)\n",
    "print(predictions)"
   ],
   "execution_count": null,
   "outputs": []
  },
  {
   "cell_type": "code",
   "metadata": {
    "id": "qdFDcS7zmSXq",
    "outputId": "9bafc4ab-cad3-4a1a-9d8b-8f539a9c08a7"
   },
   "source": [
    "plt.plot(predictions)\n",
    "plt.plot(value[142:142 + 26])\n",
    "len(predictions)"
   ],
   "execution_count": null,
   "outputs": []
  },
  {
   "cell_type": "markdown",
   "metadata": {
    "id": "wqLP18hzxpue"
   },
   "source": [
    "### Many-to-Many LSTM"
   ]
  },
  {
   "cell_type": "code",
   "metadata": {
    "id": "Mimta_lQxpEk"
   },
   "source": [
    "class Net(nn.Module):\n",
    "    def __init__(self, in_size, hidden_size, out_size, nb_lstm_layers):\n",
    "        super().__init__()\n",
    "        self.in_size = in_size\n",
    "        self.hidden_size = hidden_size\n",
    "        self.out_size = out_size\n",
    "        self.nb_lstm_layers = nb_lstm_layers\n",
    "\n",
    "        # self.fc1 = nn.Linear()\n",
    "        self.lstm = nn.LSTM(input_size=self.in_size, hidden_size=self.hidden_size, num_layers=self.nb_lstm_layers, batch_first=True, bias=True)\n",
    "        # self.fc = nn.Linear(self.hidden_size, self.out_size)\n",
    "        self.fc1 = nn.Linear(self.hidden_size, 128)\n",
    "        self.fc2 = nn.Linear(128, 128)\n",
    "        self.fc3 = nn.Linear(128, self.out_size)\n",
    "\n",
    "    def forward(self, x, h_state):\n",
    "        out, h_state = self.lstm(x, h_state)\n",
    "        output_fc = []\n",
    "\n",
    "        for frame in out:\n",
    "            output_fc.append(self.fc3(torch.tanh(self.fc1(frame)))) # I added fully connected layer to each frame, to make an output with same shape as input\n",
    "\n",
    "        return torch.stack(output_fc), h_state\n",
    "\n",
    "    def hidden_init(self):\n",
    "        if use_cuda:\n",
    "            h_state = torch.stack([torch.zeros(nb_lstm_layers, batch_size, 20) for _ in range(2)]).cuda()\n",
    "        else:\n",
    "            h_state = torch.stack([torch.zeros(nb_lstm_layers, batch_size, 20) for _ in range(2)])\n"
   ],
   "execution_count": null,
   "outputs": []
  }
 ]
}