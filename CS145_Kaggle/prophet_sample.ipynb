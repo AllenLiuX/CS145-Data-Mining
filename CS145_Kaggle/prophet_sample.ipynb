{
 "cells": [
  {
   "cell_type": "code",
   "execution_count": 3,
   "metadata": {},
   "outputs": [],
   "source": [
    "import numpy as np\n",
    "from matplotlib import pyplot as plt\n",
    "import pandas as pd\n",
    "from scipy.interpolate import UnivariateSpline\n",
    "from scipy.signal import savgol_filter\n",
    "from fbprophet import Prophet"
   ]
  },
  {
   "cell_type": "code",
   "execution_count": 4,
   "metadata": {},
   "outputs": [],
   "source": [
    "def getStates():\n",
    "    ds = pd.read_csv('data/test.csv')\n",
    "    states = ds['Province_State'][:50].values\n",
    "    return states"
   ]
  },
  {
   "cell_type": "code",
   "execution_count": 5,
   "metadata": {},
   "outputs": [],
   "source": [
    "def select_data(x, y, threshold):\n",
    "    y_spl = UnivariateSpline(x,y,s=0,k=4)\n",
    "    y_spl_2d = y_spl.derivative(n=2)\n",
    "    x_reverse = np.array(list(reversed(x)))\n",
    "    weight = np.array([((x + 1) / len(x_reverse)) for x in x_reverse]) / y[-1]\n",
    "    smooth_2d = savgol_filter(y_spl_2d(x).reshape(-1), 13, degree)\n",
    "    smooth_2d = [[x] for x in smooth_2d]\n",
    "    final = smooth_2d * weight\n",
    "    idx = -1\n",
    "    res = []\n",
    "    while(final[idx] <= threshold and abs(idx) < len(x)):\n",
    "        res.append(y[idx])\n",
    "        idx -= 1\n",
    "    return x[-len(res):], list(reversed(res))"
   ]
  },
  {
   "cell_type": "code",
   "execution_count": 6,
   "metadata": {},
   "outputs": [],
   "source": [
    "def getStateData(state_idx, feature_data):\n",
    "    res = []\n",
    "    while state_idx < len(feature_data):\n",
    "        res.append(feature_data[state_idx])\n",
    "        state_idx += 50\n",
    "    return res"
   ]
  },
  {
   "cell_type": "code",
   "execution_count": 7,
   "metadata": {},
   "outputs": [],
   "source": [
    "degree = 3\n",
    "states = getStates()\n",
    "window = 21\n",
    "threshold = 0.0001\n",
    "seq = 15\n",
    "feature = 'Confirmed'\n",
    "states2idx = {}\n",
    "for i in range(len(states)):\n",
    "    states2idx[states[i]] = i\n",
    "states_data = {}\n",
    "state = 'Alabama'"
   ]
  },
  {
   "cell_type": "code",
   "execution_count": 8,
   "metadata": {},
   "outputs": [],
   "source": [
    "ds = pd.read_csv('data/train.csv')\n",
    "ds = ds[ds['Province_State'] == state]\n",
    "value = ds[feature].values\n",
    "value = savgol_filter(value.reshape(-1), window, degree)\n",
    "combine = [[value[i]] for i in range(len(value))]\n",
    "\n",
    "y = np.array([value]).reshape(-1, 1)\n",
    "x = [[i] for i in range(142)]\n",
    "\n",
    "_, selected_data = select_data(x, y, threshold)\n",
    "state_data = ds[-len(selected_data):]\n",
    "df_date = state_data['Date'].to_frame()\n",
    "df_y = state_data['Confirmed'].to_frame()\n",
    "df = pd.concat([df_y, df_date], axis=1)\n",
    "df.columns = ['y', 'ds']"
   ]
  },
  {
   "cell_type": "code",
   "execution_count": 9,
   "metadata": {},
   "outputs": [
    {
     "name": "stderr",
     "output_type": "stream",
     "text": [
      "INFO:fbprophet:Disabling yearly seasonality. Run prophet with yearly_seasonality=True to override this.\n",
      "INFO:fbprophet:Disabling daily seasonality. Run prophet with daily_seasonality=True to override this.\n"
     ]
    },
    {
     "data": {
      "text/plain": "<fbprophet.forecaster.Prophet at 0x7faa00216b70>"
     },
     "execution_count": 9,
     "metadata": {},
     "output_type": "execute_result"
    }
   ],
   "source": [
    "m = Prophet()\n",
    "m.fit(df)"
   ]
  },
  {
   "cell_type": "code",
   "execution_count": 10,
   "metadata": {},
   "outputs": [],
   "source": [
    "future = m.make_future_dataframe(periods=26)\n",
    "forecast = m.predict(future)"
   ]
  },
  {
   "cell_type": "code",
   "execution_count": 11,
   "metadata": {},
   "outputs": [],
   "source": [
    "pred = forecast['yhat'].values"
   ]
  },
  {
   "cell_type": "code",
   "execution_count": 12,
   "metadata": {},
   "outputs": [],
   "source": [
    "def getStateData(state_idx, feature_data):\n",
    "    res = []\n",
    "    while state_idx < len(feature_data):\n",
    "        res.append(feature_data[state_idx])\n",
    "        state_idx += 50\n",
    "    return res\n",
    "\n",
    "idx = states2idx[state]\n",
    "real = pd.read_csv('data/test.csv')\n",
    "real_confirmed = real['Confirmed'].values\n",
    "real_state_data = getStateData(idx, real_confirmed)"
   ]
  },
  {
   "cell_type": "code",
   "execution_count": 13,
   "metadata": {},
   "outputs": [
    {
     "data": {
      "text/plain": "[<matplotlib.lines.Line2D at 0x7faa00caa1d0>]"
     },
     "execution_count": 13,
     "metadata": {},
     "output_type": "execute_result"
    },
    {
     "data": {
      "text/plain": "<Figure size 432x288 with 1 Axes>",
      "image/png": "[encoded data removed]"
     },
     "metadata": {
      "needs_background": "light"
     },
     "output_type": "display_data"
    }
   ],
   "source": [
    "plt.plot(pred[-26:], label='pred')\n",
    "plt.plot(real_state_data, label='real')\n"
   ]
  }
 ],
 "metadata": {
  "kernelspec": {
   "display_name": "Python 3",
   "language": "python",
   "name": "python3"
  },
  "language_info": {
   "codemirror_mode": {
    "name": "ipython",
    "version": 3
   },
   "file_extension": ".py",
   "mimetype": "text/x-python",
   "name": "python",
   "nbconvert_exporter": "python",
   "pygments_lexer": "ipython3",
   "version": "3.8.3"
  }
 },
 "nbformat": 4,
 "nbformat_minor": 4
}